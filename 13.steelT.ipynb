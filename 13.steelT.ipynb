{
 "cells": [
  {
   "cell_type": "markdown",
   "metadata": {},
   "source": [
    "# Example for steel production, equivalent to AMPL `steelT.mod`, using CPLEX\n",
    "## Copyright (C) Princeton Consultants, 2017\n",
    "### First, import the pandas library"
   ]
  },
  {
   "cell_type": "code",
   "execution_count": 1,
   "metadata": {
    "collapsed": true
   },
   "outputs": [],
   "source": [
    "import pandas as pd"
   ]
  },
  {
   "cell_type": "markdown",
   "metadata": {},
   "source": [
    "### Read the data associated with the products"
   ]
  },
  {
   "cell_type": "code",
   "execution_count": 2,
   "metadata": {
    "collapsed": false
   },
   "outputs": [
    {
     "data": {
      "text/html": [
       "<div>\n",
       "<table border=\"1\" class=\"dataframe\">\n",
       "  <thead>\n",
       "    <tr style=\"text-align: right;\">\n",
       "      <th></th>\n",
       "      <th>rate</th>\n",
       "      <th>inv0</th>\n",
       "      <th>prodcost</th>\n",
       "      <th>invcost</th>\n",
       "    </tr>\n",
       "    <tr>\n",
       "      <th>Product</th>\n",
       "      <th></th>\n",
       "      <th></th>\n",
       "      <th></th>\n",
       "      <th></th>\n",
       "    </tr>\n",
       "  </thead>\n",
       "  <tbody>\n",
       "    <tr>\n",
       "      <th>bands</th>\n",
       "      <td>220</td>\n",
       "      <td>10</td>\n",
       "      <td>10</td>\n",
       "      <td>2.5</td>\n",
       "    </tr>\n",
       "    <tr>\n",
       "      <th>coils</th>\n",
       "      <td>154</td>\n",
       "      <td>0</td>\n",
       "      <td>11</td>\n",
       "      <td>3.0</td>\n",
       "    </tr>\n",
       "  </tbody>\n",
       "</table>\n",
       "</div>"
      ],
      "text/plain": [
       "         rate  inv0  prodcost  invcost\n",
       "Product                               \n",
       "bands     220    10        10      2.5\n",
       "coils     154     0        11      3.0"
      ]
     },
     "execution_count": 2,
     "metadata": {},
     "output_type": "execute_result"
    }
   ],
   "source": [
    "productDF = pd.read_excel(\"steelT.xlsx\", index_col=0, skip_footer=18)\n",
    "productDF"
   ]
  },
  {
   "cell_type": "markdown",
   "metadata": {},
   "source": [
    "### Read the revenue and market data.  Note that we change the name of the index, because the Excel file has the name of the table, which is interpreted as the name of the index"
   ]
  },
  {
   "cell_type": "code",
   "execution_count": 3,
   "metadata": {
    "collapsed": false
   },
   "outputs": [
    {
     "data": {
      "text/html": [
       "<div>\n",
       "<table border=\"1\" class=\"dataframe\">\n",
       "  <thead>\n",
       "    <tr style=\"text-align: right;\">\n",
       "      <th></th>\n",
       "      <th>1</th>\n",
       "      <th>2</th>\n",
       "      <th>3</th>\n",
       "      <th>4</th>\n",
       "    </tr>\n",
       "    <tr>\n",
       "      <th>Product</th>\n",
       "      <th></th>\n",
       "      <th></th>\n",
       "      <th></th>\n",
       "      <th></th>\n",
       "    </tr>\n",
       "  </thead>\n",
       "  <tbody>\n",
       "    <tr>\n",
       "      <th>bands</th>\n",
       "      <td>25</td>\n",
       "      <td>26</td>\n",
       "      <td>27</td>\n",
       "      <td>27</td>\n",
       "    </tr>\n",
       "    <tr>\n",
       "      <th>coils</th>\n",
       "      <td>30</td>\n",
       "      <td>35</td>\n",
       "      <td>37</td>\n",
       "      <td>39</td>\n",
       "    </tr>\n",
       "  </tbody>\n",
       "</table>\n",
       "</div>"
      ],
      "text/plain": [
       "          1   2   3   4\n",
       "Product                \n",
       "bands    25  26  27  27\n",
       "coils    30  35  37  39"
      ]
     },
     "execution_count": 3,
     "metadata": {},
     "output_type": "execute_result"
    }
   ],
   "source": [
    "revenue = pd.read_excel(\"steelT.xlsx\", index_col=0, skiprows=6, skip_footer=12)\n",
    "revenue.index.name = 'Product'\n",
    "revenue"
   ]
  },
  {
   "cell_type": "code",
   "execution_count": 4,
   "metadata": {
    "collapsed": false
   },
   "outputs": [
    {
     "data": {
      "text/html": [
       "<div>\n",
       "<table border=\"1\" class=\"dataframe\">\n",
       "  <thead>\n",
       "    <tr style=\"text-align: right;\">\n",
       "      <th></th>\n",
       "      <th>1</th>\n",
       "      <th>2</th>\n",
       "      <th>3</th>\n",
       "      <th>4</th>\n",
       "    </tr>\n",
       "    <tr>\n",
       "      <th>Product</th>\n",
       "      <th></th>\n",
       "      <th></th>\n",
       "      <th></th>\n",
       "      <th></th>\n",
       "    </tr>\n",
       "  </thead>\n",
       "  <tbody>\n",
       "    <tr>\n",
       "      <th>bands</th>\n",
       "      <td>6000</td>\n",
       "      <td>6000</td>\n",
       "      <td>4000</td>\n",
       "      <td>6500</td>\n",
       "    </tr>\n",
       "    <tr>\n",
       "      <th>coils</th>\n",
       "      <td>4000</td>\n",
       "      <td>2500</td>\n",
       "      <td>3500</td>\n",
       "      <td>4200</td>\n",
       "    </tr>\n",
       "  </tbody>\n",
       "</table>\n",
       "</div>"
      ],
      "text/plain": [
       "            1     2     3     4\n",
       "Product                        \n",
       "bands    6000  6000  4000  6500\n",
       "coils    4000  2500  3500  4200"
      ]
     },
     "execution_count": 4,
     "metadata": {},
     "output_type": "execute_result"
    }
   ],
   "source": [
    "market = pd.read_excel(\"steelT.xlsx\", index_col=0, skiprows=10, skip_footer=8)\n",
    "market.index.name = 'Product'\n",
    "market"
   ]
  },
  {
   "cell_type": "markdown",
   "metadata": {},
   "source": [
    "### Read the available capacity per time period"
   ]
  },
  {
   "cell_type": "code",
   "execution_count": 5,
   "metadata": {
    "collapsed": false
   },
   "outputs": [
    {
     "data": {
      "text/html": [
       "<div>\n",
       "<table border=\"1\" class=\"dataframe\">\n",
       "  <thead>\n",
       "    <tr style=\"text-align: right;\">\n",
       "      <th></th>\n",
       "      <th>avail</th>\n",
       "    </tr>\n",
       "    <tr>\n",
       "      <th>Time</th>\n",
       "      <th></th>\n",
       "    </tr>\n",
       "  </thead>\n",
       "  <tbody>\n",
       "    <tr>\n",
       "      <th>1</th>\n",
       "      <td>40</td>\n",
       "    </tr>\n",
       "    <tr>\n",
       "      <th>2</th>\n",
       "      <td>40</td>\n",
       "    </tr>\n",
       "    <tr>\n",
       "      <th>3</th>\n",
       "      <td>32</td>\n",
       "    </tr>\n",
       "    <tr>\n",
       "      <th>4</th>\n",
       "      <td>40</td>\n",
       "    </tr>\n",
       "  </tbody>\n",
       "</table>\n",
       "</div>"
      ],
      "text/plain": [
       "      avail\n",
       "Time       \n",
       "1        40\n",
       "2        40\n",
       "3        32\n",
       "4        40"
      ]
     },
     "execution_count": 5,
     "metadata": {},
     "output_type": "execute_result"
    }
   ],
   "source": [
    "avail = pd.read_excel(\"steelT.xlsx\", index_col=0, skiprows=16, parse_cols=1)\n",
    "avail"
   ]
  },
  {
   "cell_type": "markdown",
   "metadata": {},
   "source": [
    "### Compute a tidy version of the revenue and market data"
   ]
  },
  {
   "cell_type": "code",
   "execution_count": 6,
   "metadata": {
    "collapsed": false
   },
   "outputs": [
    {
     "data": {
      "text/html": [
       "<div>\n",
       "<table border=\"1\" class=\"dataframe\">\n",
       "  <thead>\n",
       "    <tr style=\"text-align: right;\">\n",
       "      <th></th>\n",
       "      <th></th>\n",
       "      <th>market</th>\n",
       "      <th>revenue</th>\n",
       "    </tr>\n",
       "    <tr>\n",
       "      <th>Product</th>\n",
       "      <th>T</th>\n",
       "      <th></th>\n",
       "      <th></th>\n",
       "    </tr>\n",
       "  </thead>\n",
       "  <tbody>\n",
       "    <tr>\n",
       "      <th>bands</th>\n",
       "      <th>1</th>\n",
       "      <td>6000.0</td>\n",
       "      <td>25.0</td>\n",
       "    </tr>\n",
       "    <tr>\n",
       "      <th>coils</th>\n",
       "      <th>1</th>\n",
       "      <td>4000.0</td>\n",
       "      <td>30.0</td>\n",
       "    </tr>\n",
       "    <tr>\n",
       "      <th>bands</th>\n",
       "      <th>2</th>\n",
       "      <td>6000.0</td>\n",
       "      <td>26.0</td>\n",
       "    </tr>\n",
       "    <tr>\n",
       "      <th>coils</th>\n",
       "      <th>2</th>\n",
       "      <td>2500.0</td>\n",
       "      <td>35.0</td>\n",
       "    </tr>\n",
       "    <tr>\n",
       "      <th>bands</th>\n",
       "      <th>3</th>\n",
       "      <td>4000.0</td>\n",
       "      <td>27.0</td>\n",
       "    </tr>\n",
       "    <tr>\n",
       "      <th>coils</th>\n",
       "      <th>3</th>\n",
       "      <td>3500.0</td>\n",
       "      <td>37.0</td>\n",
       "    </tr>\n",
       "    <tr>\n",
       "      <th>bands</th>\n",
       "      <th>4</th>\n",
       "      <td>6500.0</td>\n",
       "      <td>27.0</td>\n",
       "    </tr>\n",
       "    <tr>\n",
       "      <th>coils</th>\n",
       "      <th>4</th>\n",
       "      <td>4200.0</td>\n",
       "      <td>39.0</td>\n",
       "    </tr>\n",
       "  </tbody>\n",
       "</table>\n",
       "</div>"
      ],
      "text/plain": [
       "           market  revenue\n",
       "Product T                 \n",
       "bands   1  6000.0     25.0\n",
       "coils   1  4000.0     30.0\n",
       "bands   2  6000.0     26.0\n",
       "coils   2  2500.0     35.0\n",
       "bands   3  4000.0     27.0\n",
       "coils   3  3500.0     37.0\n",
       "bands   4  6500.0     27.0\n",
       "coils   4  4200.0     39.0"
      ]
     },
     "execution_count": 6,
     "metadata": {},
     "output_type": "execute_result"
    }
   ],
   "source": [
    "rmDF = pd.concat(\n",
    "    [(pd.melt(market.reset_index(), id_vars=['Product'], value_name='market', var_name='T')\n",
    "     .set_index(['Product','T']).astype('float64')),\n",
    "     (pd.melt(revenue.reset_index(), id_vars=['Product'], value_name='revenue', var_name='T')\n",
    "     .set_index(['Product','T']).astype('float64'))\n",
    "    ], axis=1)\n",
    "rmDF"
   ]
  },
  {
   "cell_type": "markdown",
   "metadata": {},
   "source": [
    "### Import the DoCplex library"
   ]
  },
  {
   "cell_type": "code",
   "execution_count": 7,
   "metadata": {
    "collapsed": true
   },
   "outputs": [],
   "source": [
    "from docplex.mp.model import Model"
   ]
  },
  {
   "cell_type": "markdown",
   "metadata": {},
   "source": [
    "### Create a DoCplex modeling object"
   ]
  },
  {
   "cell_type": "code",
   "execution_count": 8,
   "metadata": {
    "collapsed": true
   },
   "outputs": [],
   "source": [
    "model = Model(name='steelT')"
   ]
  },
  {
   "cell_type": "markdown",
   "metadata": {},
   "source": [
    "### Create a DataFrame containing the decision variables. Note that for the Sell variables, we can get the upper bounds right from the table"
   ]
  },
  {
   "cell_type": "code",
   "execution_count": 9,
   "metadata": {
    "collapsed": false
   },
   "outputs": [
    {
     "data": {
      "text/html": [
       "<div>\n",
       "<table border=\"1\" class=\"dataframe\">\n",
       "  <thead>\n",
       "    <tr style=\"text-align: right;\">\n",
       "      <th></th>\n",
       "      <th></th>\n",
       "      <th>Inv</th>\n",
       "      <th>Make</th>\n",
       "      <th>Sell</th>\n",
       "    </tr>\n",
       "    <tr>\n",
       "      <th>Product</th>\n",
       "      <th>T</th>\n",
       "      <th></th>\n",
       "      <th></th>\n",
       "      <th></th>\n",
       "    </tr>\n",
       "  </thead>\n",
       "  <tbody>\n",
       "    <tr>\n",
       "      <th>bands</th>\n",
       "      <th>1</th>\n",
       "      <td>Inv_('bands', 1)</td>\n",
       "      <td>Make_('bands', 1)</td>\n",
       "      <td>Sell_('bands', 1)</td>\n",
       "    </tr>\n",
       "    <tr>\n",
       "      <th>coils</th>\n",
       "      <th>1</th>\n",
       "      <td>Inv_('coils', 1)</td>\n",
       "      <td>Make_('coils', 1)</td>\n",
       "      <td>Sell_('coils', 1)</td>\n",
       "    </tr>\n",
       "    <tr>\n",
       "      <th>bands</th>\n",
       "      <th>2</th>\n",
       "      <td>Inv_('bands', 2)</td>\n",
       "      <td>Make_('bands', 2)</td>\n",
       "      <td>Sell_('bands', 2)</td>\n",
       "    </tr>\n",
       "    <tr>\n",
       "      <th>coils</th>\n",
       "      <th>2</th>\n",
       "      <td>Inv_('coils', 2)</td>\n",
       "      <td>Make_('coils', 2)</td>\n",
       "      <td>Sell_('coils', 2)</td>\n",
       "    </tr>\n",
       "    <tr>\n",
       "      <th>bands</th>\n",
       "      <th>3</th>\n",
       "      <td>Inv_('bands', 3)</td>\n",
       "      <td>Make_('bands', 3)</td>\n",
       "      <td>Sell_('bands', 3)</td>\n",
       "    </tr>\n",
       "    <tr>\n",
       "      <th>coils</th>\n",
       "      <th>3</th>\n",
       "      <td>Inv_('coils', 3)</td>\n",
       "      <td>Make_('coils', 3)</td>\n",
       "      <td>Sell_('coils', 3)</td>\n",
       "    </tr>\n",
       "    <tr>\n",
       "      <th>bands</th>\n",
       "      <th>4</th>\n",
       "      <td>Inv_('bands', 4)</td>\n",
       "      <td>Make_('bands', 4)</td>\n",
       "      <td>Sell_('bands', 4)</td>\n",
       "    </tr>\n",
       "    <tr>\n",
       "      <th>coils</th>\n",
       "      <th>4</th>\n",
       "      <td>Inv_('coils', 4)</td>\n",
       "      <td>Make_('coils', 4)</td>\n",
       "      <td>Sell_('coils', 4)</td>\n",
       "    </tr>\n",
       "  </tbody>\n",
       "</table>\n",
       "</div>"
      ],
      "text/plain": [
       "                        Inv               Make               Sell\n",
       "Product T                                                        \n",
       "bands   1  Inv_('bands', 1)  Make_('bands', 1)  Sell_('bands', 1)\n",
       "coils   1  Inv_('coils', 1)  Make_('coils', 1)  Sell_('coils', 1)\n",
       "bands   2  Inv_('bands', 2)  Make_('bands', 2)  Sell_('bands', 2)\n",
       "coils   2  Inv_('coils', 2)  Make_('coils', 2)  Sell_('coils', 2)\n",
       "bands   3  Inv_('bands', 3)  Make_('bands', 3)  Sell_('bands', 3)\n",
       "coils   3  Inv_('coils', 3)  Make_('coils', 3)  Sell_('coils', 3)\n",
       "bands   4  Inv_('bands', 4)  Make_('bands', 4)  Sell_('bands', 4)\n",
       "coils   4  Inv_('coils', 4)  Make_('coils', 4)  Sell_('coils', 4)"
      ]
     },
     "execution_count": 9,
     "metadata": {},
     "output_type": "execute_result"
    }
   ],
   "source": [
    "dvars = pd.DataFrame({'Make' : model.continuous_var_list(rmDF.index, name='Make'), \n",
    "                      'Inv' : model.continuous_var_list(rmDF.index, name='Inv'),\n",
    "                      'Sell' : model.continuous_var_list(rmDF.index, ub=list(rmDF.market.values), name='Sell')},\n",
    "                      index=rmDF.index)\n",
    "dvars"
   ]
  },
  {
   "cell_type": "markdown",
   "metadata": {},
   "source": [
    "### Note that the types of the columns are objects.  In fact, they are decision variables"
   ]
  },
  {
   "cell_type": "code",
   "execution_count": 10,
   "metadata": {
    "collapsed": false
   },
   "outputs": [
    {
     "data": {
      "text/plain": [
       "(Inv     object\n",
       " Make    object\n",
       " Sell    object\n",
       " dtype: object, docplex.mp.linear.Var)"
      ]
     },
     "execution_count": 10,
     "metadata": {},
     "output_type": "execute_result"
    }
   ],
   "source": [
    "dvars.dtypes, type(dvars.iloc[0]['Make'])"
   ]
  },
  {
   "cell_type": "markdown",
   "metadata": {},
   "source": [
    "### Create a big DataFrame that merges the data with the decision variables, so that it is easier to write expressions"
   ]
  },
  {
   "cell_type": "code",
   "execution_count": 11,
   "metadata": {
    "collapsed": false
   },
   "outputs": [
    {
     "data": {
      "text/html": [
       "<div>\n",
       "<table border=\"1\" class=\"dataframe\">\n",
       "  <thead>\n",
       "    <tr style=\"text-align: right;\">\n",
       "      <th></th>\n",
       "      <th></th>\n",
       "      <th>Inv</th>\n",
       "      <th>Make</th>\n",
       "      <th>Sell</th>\n",
       "      <th>market</th>\n",
       "      <th>revenue</th>\n",
       "      <th>rate</th>\n",
       "      <th>inv0</th>\n",
       "      <th>prodcost</th>\n",
       "      <th>invcost</th>\n",
       "    </tr>\n",
       "    <tr>\n",
       "      <th>Product</th>\n",
       "      <th>T</th>\n",
       "      <th></th>\n",
       "      <th></th>\n",
       "      <th></th>\n",
       "      <th></th>\n",
       "      <th></th>\n",
       "      <th></th>\n",
       "      <th></th>\n",
       "      <th></th>\n",
       "      <th></th>\n",
       "    </tr>\n",
       "  </thead>\n",
       "  <tbody>\n",
       "    <tr>\n",
       "      <th>bands</th>\n",
       "      <th>1</th>\n",
       "      <td>Inv_('bands', 1)</td>\n",
       "      <td>Make_('bands', 1)</td>\n",
       "      <td>Sell_('bands', 1)</td>\n",
       "      <td>6000.0</td>\n",
       "      <td>25.0</td>\n",
       "      <td>220</td>\n",
       "      <td>10</td>\n",
       "      <td>10</td>\n",
       "      <td>2.5</td>\n",
       "    </tr>\n",
       "    <tr>\n",
       "      <th>coils</th>\n",
       "      <th>1</th>\n",
       "      <td>Inv_('coils', 1)</td>\n",
       "      <td>Make_('coils', 1)</td>\n",
       "      <td>Sell_('coils', 1)</td>\n",
       "      <td>4000.0</td>\n",
       "      <td>30.0</td>\n",
       "      <td>154</td>\n",
       "      <td>0</td>\n",
       "      <td>11</td>\n",
       "      <td>3.0</td>\n",
       "    </tr>\n",
       "    <tr>\n",
       "      <th>bands</th>\n",
       "      <th>2</th>\n",
       "      <td>Inv_('bands', 2)</td>\n",
       "      <td>Make_('bands', 2)</td>\n",
       "      <td>Sell_('bands', 2)</td>\n",
       "      <td>6000.0</td>\n",
       "      <td>26.0</td>\n",
       "      <td>220</td>\n",
       "      <td>10</td>\n",
       "      <td>10</td>\n",
       "      <td>2.5</td>\n",
       "    </tr>\n",
       "    <tr>\n",
       "      <th>coils</th>\n",
       "      <th>2</th>\n",
       "      <td>Inv_('coils', 2)</td>\n",
       "      <td>Make_('coils', 2)</td>\n",
       "      <td>Sell_('coils', 2)</td>\n",
       "      <td>2500.0</td>\n",
       "      <td>35.0</td>\n",
       "      <td>154</td>\n",
       "      <td>0</td>\n",
       "      <td>11</td>\n",
       "      <td>3.0</td>\n",
       "    </tr>\n",
       "    <tr>\n",
       "      <th>bands</th>\n",
       "      <th>3</th>\n",
       "      <td>Inv_('bands', 3)</td>\n",
       "      <td>Make_('bands', 3)</td>\n",
       "      <td>Sell_('bands', 3)</td>\n",
       "      <td>4000.0</td>\n",
       "      <td>27.0</td>\n",
       "      <td>220</td>\n",
       "      <td>10</td>\n",
       "      <td>10</td>\n",
       "      <td>2.5</td>\n",
       "    </tr>\n",
       "    <tr>\n",
       "      <th>coils</th>\n",
       "      <th>3</th>\n",
       "      <td>Inv_('coils', 3)</td>\n",
       "      <td>Make_('coils', 3)</td>\n",
       "      <td>Sell_('coils', 3)</td>\n",
       "      <td>3500.0</td>\n",
       "      <td>37.0</td>\n",
       "      <td>154</td>\n",
       "      <td>0</td>\n",
       "      <td>11</td>\n",
       "      <td>3.0</td>\n",
       "    </tr>\n",
       "    <tr>\n",
       "      <th>bands</th>\n",
       "      <th>4</th>\n",
       "      <td>Inv_('bands', 4)</td>\n",
       "      <td>Make_('bands', 4)</td>\n",
       "      <td>Sell_('bands', 4)</td>\n",
       "      <td>6500.0</td>\n",
       "      <td>27.0</td>\n",
       "      <td>220</td>\n",
       "      <td>10</td>\n",
       "      <td>10</td>\n",
       "      <td>2.5</td>\n",
       "    </tr>\n",
       "    <tr>\n",
       "      <th>coils</th>\n",
       "      <th>4</th>\n",
       "      <td>Inv_('coils', 4)</td>\n",
       "      <td>Make_('coils', 4)</td>\n",
       "      <td>Sell_('coils', 4)</td>\n",
       "      <td>4200.0</td>\n",
       "      <td>39.0</td>\n",
       "      <td>154</td>\n",
       "      <td>0</td>\n",
       "      <td>11</td>\n",
       "      <td>3.0</td>\n",
       "    </tr>\n",
       "  </tbody>\n",
       "</table>\n",
       "</div>"
      ],
      "text/plain": [
       "                        Inv               Make               Sell  market  \\\n",
       "Product T                                                                   \n",
       "bands   1  Inv_('bands', 1)  Make_('bands', 1)  Sell_('bands', 1)  6000.0   \n",
       "coils   1  Inv_('coils', 1)  Make_('coils', 1)  Sell_('coils', 1)  4000.0   \n",
       "bands   2  Inv_('bands', 2)  Make_('bands', 2)  Sell_('bands', 2)  6000.0   \n",
       "coils   2  Inv_('coils', 2)  Make_('coils', 2)  Sell_('coils', 2)  2500.0   \n",
       "bands   3  Inv_('bands', 3)  Make_('bands', 3)  Sell_('bands', 3)  4000.0   \n",
       "coils   3  Inv_('coils', 3)  Make_('coils', 3)  Sell_('coils', 3)  3500.0   \n",
       "bands   4  Inv_('bands', 4)  Make_('bands', 4)  Sell_('bands', 4)  6500.0   \n",
       "coils   4  Inv_('coils', 4)  Make_('coils', 4)  Sell_('coils', 4)  4200.0   \n",
       "\n",
       "           revenue  rate  inv0  prodcost  invcost  \n",
       "Product T                                          \n",
       "bands   1     25.0   220    10        10      2.5  \n",
       "coils   1     30.0   154     0        11      3.0  \n",
       "bands   2     26.0   220    10        10      2.5  \n",
       "coils   2     35.0   154     0        11      3.0  \n",
       "bands   3     27.0   220    10        10      2.5  \n",
       "coils   3     37.0   154     0        11      3.0  \n",
       "bands   4     27.0   220    10        10      2.5  \n",
       "coils   4     39.0   154     0        11      3.0  "
      ]
     },
     "execution_count": 11,
     "metadata": {},
     "output_type": "execute_result"
    }
   ],
   "source": [
    "mainDF = (dvars.merge(rmDF, left_index=True, right_index=True, how='inner')\n",
    "          .reset_index()\n",
    "          .merge(productDF.reset_index(), left_on='Product', right_on='Product', how='left')\n",
    "          .set_index(['Product','T'])\n",
    "          )\n",
    "mainDF\n"
   ]
  },
  {
   "cell_type": "markdown",
   "metadata": {},
   "source": [
    "### Set the objective function as\n",
    "$$ \\hbox{maximize}\\quad\\sum_{p,t}(revenue[p,t]*Sell[p,t]-prodcost[p]*Make[p,t]-invcost[p]*Inv[p,t])$$"
   ]
  },
  {
   "cell_type": "code",
   "execution_count": 12,
   "metadata": {
    "collapsed": true
   },
   "outputs": [],
   "source": [
    "model.maximize(model.sum(mainDF.revenue*mainDF.Sell-mainDF.prodcost*mainDF.Make-mainDF.invcost*mainDF.Inv))"
   ]
  },
  {
   "cell_type": "markdown",
   "metadata": {},
   "source": [
    "### Illustrate how `groupby` can be used to create sums, and `itertuples` is used to iterate over the rows"
   ]
  },
  {
   "cell_type": "code",
   "execution_count": 13,
   "metadata": {
    "collapsed": false
   },
   "outputs": [
    {
     "data": {
      "text/plain": [
       "[(1, docplex.mp.LinearExpr(0.005Make_('bands', 1)+0.006Make_('coils', 1)), 40),\n",
       " (2, docplex.mp.LinearExpr(0.005Make_('bands', 2)+0.006Make_('coils', 2)), 40),\n",
       " (3, docplex.mp.LinearExpr(0.005Make_('bands', 3)+0.006Make_('coils', 3)), 32),\n",
       " (4, docplex.mp.LinearExpr(0.005Make_('bands', 4)+0.006Make_('coils', 4)), 40)]"
      ]
     },
     "execution_count": 13,
     "metadata": {},
     "output_type": "execute_result"
    }
   ],
   "source": [
    "[(t, tsum, avail) for (t, tsum, avail) in\n",
    " (pd.DataFrame((mainDF.Make/mainDF.rate).groupby(level='T').agg(model.sum), columns=['tsum'])\n",
    " .merge(avail, left_index=True, right_index=True)\n",
    " .itertuples()\n",
    " )\n",
    " ]"
   ]
  },
  {
   "cell_type": "markdown",
   "metadata": {},
   "source": [
    "### Now wrap the above code into the DoCplex `add_constraints` method, and add the constraints, naming them\n",
    "$$\\sum_p Make[p,t]*(1.0/rate[p]) \\le avail[t], \\qquad\\forall p$$"
   ]
  },
  {
   "cell_type": "code",
   "execution_count": 14,
   "metadata": {
    "collapsed": false
   },
   "outputs": [
    {
     "data": {
      "text/plain": [
       "[docplex.mp.linear.LinearConstraint[Time_1](0.005Make_('bands', 1)+0.006Make_('coils', 1),LE,40),\n",
       " docplex.mp.linear.LinearConstraint[Time_2](0.005Make_('bands', 2)+0.006Make_('coils', 2),LE,40),\n",
       " docplex.mp.linear.LinearConstraint[Time_3](0.005Make_('bands', 3)+0.006Make_('coils', 3),LE,32),\n",
       " docplex.mp.linear.LinearConstraint[Time_4](0.005Make_('bands', 4)+0.006Make_('coils', 4),LE,40)]"
      ]
     },
     "execution_count": 14,
     "metadata": {},
     "output_type": "execute_result"
    }
   ],
   "source": [
    "model.add_constraints([(tsum <= avail, \"Time_\"+str(t)) for  (t, tsum, avail) in\n",
    " (pd.DataFrame((mainDF.Make/mainDF.rate).groupby(level='T').agg(model.sum), columns=['tsum'])\n",
    " .merge(avail, left_index=True, right_index=True)\n",
    " .itertuples()\n",
    " )\n",
    " ])"
   ]
  },
  {
   "cell_type": "markdown",
   "metadata": {},
   "source": [
    "### Use slicing to pick up the constraint for the first period, which has to refer to the initial inventory.  Show how the slice works."
   ]
  },
  {
   "cell_type": "code",
   "execution_count": 15,
   "metadata": {
    "collapsed": false
   },
   "outputs": [
    {
     "data": {
      "text/html": [
       "<div>\n",
       "<table border=\"1\" class=\"dataframe\">\n",
       "  <thead>\n",
       "    <tr style=\"text-align: right;\">\n",
       "      <th></th>\n",
       "      <th>Product</th>\n",
       "      <th>T</th>\n",
       "      <th>Make</th>\n",
       "      <th>inv0</th>\n",
       "      <th>Sell</th>\n",
       "      <th>Inv</th>\n",
       "    </tr>\n",
       "  </thead>\n",
       "  <tbody>\n",
       "    <tr>\n",
       "      <th>0</th>\n",
       "      <td>bands</td>\n",
       "      <td>1</td>\n",
       "      <td>Make_('bands', 1)</td>\n",
       "      <td>10</td>\n",
       "      <td>Sell_('bands', 1)</td>\n",
       "      <td>Inv_('bands', 1)</td>\n",
       "    </tr>\n",
       "    <tr>\n",
       "      <th>1</th>\n",
       "      <td>coils</td>\n",
       "      <td>1</td>\n",
       "      <td>Make_('coils', 1)</td>\n",
       "      <td>0</td>\n",
       "      <td>Sell_('coils', 1)</td>\n",
       "      <td>Inv_('coils', 1)</td>\n",
       "    </tr>\n",
       "  </tbody>\n",
       "</table>\n",
       "</div>"
      ],
      "text/plain": [
       "  Product  T               Make  inv0               Sell               Inv\n",
       "0   bands  1  Make_('bands', 1)    10  Sell_('bands', 1)  Inv_('bands', 1)\n",
       "1   coils  1  Make_('coils', 1)     0  Sell_('coils', 1)  Inv_('coils', 1)"
      ]
     },
     "execution_count": 15,
     "metadata": {},
     "output_type": "execute_result"
    }
   ],
   "source": [
    "idx = pd.IndexSlice\n",
    "mainDF.sort_index(inplace=True)\n",
    "mainDF.loc[idx[:,1],['Make','inv0','Sell','Inv']].reset_index()"
   ]
  },
  {
   "cell_type": "markdown",
   "metadata": {},
   "source": [
    "### Add the constraint for the first time period\n",
    "$$Make[p,1] + inv0[p] = Sell[p,1]+Inv[p,1]\\qquad\\forall p$$"
   ]
  },
  {
   "cell_type": "code",
   "execution_count": 16,
   "metadata": {
    "collapsed": false
   },
   "outputs": [
    {
     "data": {
      "text/plain": [
       "[docplex.mp.linear.LinearConstraint[Balance_bands_1](Make_('bands', 1)+10,EQ,Sell_('bands', 1)+Inv_('bands', 1)),\n",
       " docplex.mp.linear.LinearConstraint[Balance_coils_1](Make_('coils', 1),EQ,Sell_('coils', 1)+Inv_('coils', 1))]"
      ]
     },
     "execution_count": 16,
     "metadata": {},
     "output_type": "execute_result"
    }
   ],
   "source": [
    "model.add_constraints([(Make + inv0 == Sell + Inv, 'Balance_'+Product+'_'+str(t))\n",
    "                      for ((Product, t), Make, inv0, Sell, Inv) in\n",
    "                      mainDF.loc[idx[:,1],['Make','inv0','Sell','Inv']].itertuples()])"
   ]
  },
  {
   "cell_type": "markdown",
   "metadata": {},
   "source": [
    "### Show how slicing can pick up the relevant variables for the constraints for period 2 onwards"
   ]
  },
  {
   "cell_type": "code",
   "execution_count": 17,
   "metadata": {
    "collapsed": false,
    "scrolled": false
   },
   "outputs": [
    {
     "data": {
      "text/html": [
       "<div>\n",
       "<table border=\"1\" class=\"dataframe\">\n",
       "  <thead>\n",
       "    <tr style=\"text-align: right;\">\n",
       "      <th></th>\n",
       "      <th></th>\n",
       "      <th>Make</th>\n",
       "      <th>Sell</th>\n",
       "      <th>Inv</th>\n",
       "    </tr>\n",
       "    <tr>\n",
       "      <th>Product</th>\n",
       "      <th>T</th>\n",
       "      <th></th>\n",
       "      <th></th>\n",
       "      <th></th>\n",
       "    </tr>\n",
       "  </thead>\n",
       "  <tbody>\n",
       "    <tr>\n",
       "      <th rowspan=\"3\" valign=\"top\">bands</th>\n",
       "      <th>2</th>\n",
       "      <td>Make_('bands', 2)</td>\n",
       "      <td>Sell_('bands', 2)</td>\n",
       "      <td>Inv_('bands', 2)</td>\n",
       "    </tr>\n",
       "    <tr>\n",
       "      <th>3</th>\n",
       "      <td>Make_('bands', 3)</td>\n",
       "      <td>Sell_('bands', 3)</td>\n",
       "      <td>Inv_('bands', 3)</td>\n",
       "    </tr>\n",
       "    <tr>\n",
       "      <th>4</th>\n",
       "      <td>Make_('bands', 4)</td>\n",
       "      <td>Sell_('bands', 4)</td>\n",
       "      <td>Inv_('bands', 4)</td>\n",
       "    </tr>\n",
       "    <tr>\n",
       "      <th rowspan=\"3\" valign=\"top\">coils</th>\n",
       "      <th>2</th>\n",
       "      <td>Make_('coils', 2)</td>\n",
       "      <td>Sell_('coils', 2)</td>\n",
       "      <td>Inv_('coils', 2)</td>\n",
       "    </tr>\n",
       "    <tr>\n",
       "      <th>3</th>\n",
       "      <td>Make_('coils', 3)</td>\n",
       "      <td>Sell_('coils', 3)</td>\n",
       "      <td>Inv_('coils', 3)</td>\n",
       "    </tr>\n",
       "    <tr>\n",
       "      <th>4</th>\n",
       "      <td>Make_('coils', 4)</td>\n",
       "      <td>Sell_('coils', 4)</td>\n",
       "      <td>Inv_('coils', 4)</td>\n",
       "    </tr>\n",
       "  </tbody>\n",
       "</table>\n",
       "</div>"
      ],
      "text/plain": [
       "                        Make               Sell               Inv\n",
       "Product T                                                        \n",
       "bands   2  Make_('bands', 2)  Sell_('bands', 2)  Inv_('bands', 2)\n",
       "        3  Make_('bands', 3)  Sell_('bands', 3)  Inv_('bands', 3)\n",
       "        4  Make_('bands', 4)  Sell_('bands', 4)  Inv_('bands', 4)\n",
       "coils   2  Make_('coils', 2)  Sell_('coils', 2)  Inv_('coils', 2)\n",
       "        3  Make_('coils', 3)  Sell_('coils', 3)  Inv_('coils', 3)\n",
       "        4  Make_('coils', 4)  Sell_('coils', 4)  Inv_('coils', 4)"
      ]
     },
     "execution_count": 17,
     "metadata": {},
     "output_type": "execute_result"
    }
   ],
   "source": [
    "mainDF.loc[idx[:,2:],['Make','Sell','Inv']]"
   ]
  },
  {
   "cell_type": "markdown",
   "metadata": {},
   "source": [
    "### Now add the balance constraints. Note the use of `.loc` to refer to the earlier period\n",
    "$$Make[p,1] + Inv[p,t-1] = Sell[p,1]+Inv[p,1]\\qquad\\forall p, t\\ge2$$"
   ]
  },
  {
   "cell_type": "code",
   "execution_count": 18,
   "metadata": {
    "collapsed": false
   },
   "outputs": [
    {
     "data": {
      "text/plain": [
       "[docplex.mp.linear.LinearConstraint[Balance_bands_2](Make_('bands', 2)+Inv_('bands', 1),EQ,Sell_('bands', 2)+Inv_('bands', 2)),\n",
       " docplex.mp.linear.LinearConstraint[Balance_bands_3](Make_('bands', 3)+Inv_('bands', 2),EQ,Sell_('bands', 3)+Inv_('bands', 3)),\n",
       " docplex.mp.linear.LinearConstraint[Balance_bands_4](Make_('bands', 4)+Inv_('bands', 3),EQ,Sell_('bands', 4)+Inv_('bands', 4)),\n",
       " docplex.mp.linear.LinearConstraint[Balance_coils_2](Make_('coils', 2)+Inv_('coils', 1),EQ,Sell_('coils', 2)+Inv_('coils', 2)),\n",
       " docplex.mp.linear.LinearConstraint[Balance_coils_3](Make_('coils', 3)+Inv_('coils', 2),EQ,Sell_('coils', 3)+Inv_('coils', 3)),\n",
       " docplex.mp.linear.LinearConstraint[Balance_coils_4](Make_('coils', 4)+Inv_('coils', 3),EQ,Sell_('coils', 4)+Inv_('coils', 4))]"
      ]
     },
     "execution_count": 18,
     "metadata": {},
     "output_type": "execute_result"
    }
   ],
   "source": [
    "model.add_constraints([(Make + mainDF.Inv.loc[Product, t-1] == Sell + Inv, 'Balance_'+Product+'_'+str(t))\n",
    "                       for ((Product, t), Make, Sell, Inv) in\n",
    "                       mainDF.loc[idx[:,2:],['Make','Sell','Inv']].itertuples()])"
   ]
  },
  {
   "cell_type": "markdown",
   "metadata": {},
   "source": [
    "### Time to solve"
   ]
  },
  {
   "cell_type": "code",
   "execution_count": 19,
   "metadata": {
    "collapsed": false
   },
   "outputs": [
    {
     "data": {
      "text/plain": [
       "docplex.mp.solution.SolveSolution(obj=562473,values={Make_('coils', 4):4.."
      ]
     },
     "execution_count": 19,
     "metadata": {},
     "output_type": "execute_result"
    }
   ],
   "source": [
    "model.solve()"
   ]
  },
  {
   "cell_type": "markdown",
   "metadata": {},
   "source": [
    "### Grab the solution and put the solution in a DataFrame"
   ]
  },
  {
   "cell_type": "code",
   "execution_count": 20,
   "metadata": {
    "collapsed": false
   },
   "outputs": [
    {
     "data": {
      "text/html": [
       "<div>\n",
       "<table border=\"1\" class=\"dataframe\">\n",
       "  <thead>\n",
       "    <tr style=\"text-align: right;\">\n",
       "      <th></th>\n",
       "      <th></th>\n",
       "      <th>Inv</th>\n",
       "      <th>Make</th>\n",
       "      <th>Sell</th>\n",
       "    </tr>\n",
       "    <tr>\n",
       "      <th>Product</th>\n",
       "      <th>T</th>\n",
       "      <th></th>\n",
       "      <th></th>\n",
       "      <th></th>\n",
       "    </tr>\n",
       "  </thead>\n",
       "  <tbody>\n",
       "    <tr>\n",
       "      <th rowspan=\"4\" valign=\"top\">bands</th>\n",
       "      <th>1</th>\n",
       "      <td>0.0</td>\n",
       "      <td>5990.0</td>\n",
       "      <td>6000.0</td>\n",
       "    </tr>\n",
       "    <tr>\n",
       "      <th>2</th>\n",
       "      <td>0.0</td>\n",
       "      <td>6000.0</td>\n",
       "      <td>6000.0</td>\n",
       "    </tr>\n",
       "    <tr>\n",
       "      <th>3</th>\n",
       "      <td>0.0</td>\n",
       "      <td>2040.0</td>\n",
       "      <td>2040.0</td>\n",
       "    </tr>\n",
       "    <tr>\n",
       "      <th>4</th>\n",
       "      <td>0.0</td>\n",
       "      <td>2800.0</td>\n",
       "      <td>2800.0</td>\n",
       "    </tr>\n",
       "    <tr>\n",
       "      <th rowspan=\"4\" valign=\"top\">coils</th>\n",
       "      <th>1</th>\n",
       "      <td>540.0</td>\n",
       "      <td>1967.0</td>\n",
       "      <td>1427.0</td>\n",
       "    </tr>\n",
       "    <tr>\n",
       "      <th>2</th>\n",
       "      <td>0.0</td>\n",
       "      <td>1960.0</td>\n",
       "      <td>2500.0</td>\n",
       "    </tr>\n",
       "    <tr>\n",
       "      <th>3</th>\n",
       "      <td>0.0</td>\n",
       "      <td>3500.0</td>\n",
       "      <td>3500.0</td>\n",
       "    </tr>\n",
       "    <tr>\n",
       "      <th>4</th>\n",
       "      <td>0.0</td>\n",
       "      <td>4200.0</td>\n",
       "      <td>4200.0</td>\n",
       "    </tr>\n",
       "  </tbody>\n",
       "</table>\n",
       "</div>"
      ],
      "text/plain": [
       "             Inv    Make    Sell\n",
       "Product T                       \n",
       "bands   1    0.0  5990.0  6000.0\n",
       "        2    0.0  6000.0  6000.0\n",
       "        3    0.0  2040.0  2040.0\n",
       "        4    0.0  2800.0  2800.0\n",
       "coils   1  540.0  1967.0  1427.0\n",
       "        2    0.0  1960.0  2500.0\n",
       "        3    0.0  3500.0  3500.0\n",
       "        4    0.0  4200.0  4200.0"
      ]
     },
     "execution_count": 20,
     "metadata": {},
     "output_type": "execute_result"
    }
   ],
   "source": [
    "soln = pd.DataFrame({'Make' : [x.solution_value for x in mainDF.Make],\n",
    "                     'Sell' : [x.solution_value for x in mainDF.Sell],\n",
    "                     'Inv' : [x.solution_value for x in mainDF.Inv]},\n",
    "                    index = mainDF.index)\n",
    "soln"
   ]
  },
  {
   "cell_type": "code",
   "execution_count": null,
   "metadata": {
    "collapsed": true
   },
   "outputs": [],
   "source": []
  }
 ],
 "metadata": {
  "anaconda-cloud": {},
  "kernelspec": {
   "display_name": "Python [conda env:cplex127]",
   "language": "python",
   "name": "conda-env-cplex127-py"
  },
  "language_info": {
   "codemirror_mode": {
    "name": "ipython",
    "version": 3
   },
   "file_extension": ".py",
   "mimetype": "text/x-python",
   "name": "python",
   "nbconvert_exporter": "python",
   "pygments_lexer": "ipython3",
   "version": "3.5.2"
  }
 },
 "nbformat": 4,
 "nbformat_minor": 1
}
