{
 "cells": [
  {
   "cell_type": "markdown",
   "metadata": {},
   "source": [
    "# Example for steel production, equivalent to AMPL `steelT.mod`, using CPLEX\n",
    "## Copyright (C) Princeton Consultants, 2017-2018\n",
    "### First, import the pandas library"
   ]
  },
  {
   "cell_type": "code",
   "execution_count": 1,
   "metadata": {},
   "outputs": [],
   "source": [
    "import pandas as pd\n",
    "\n",
    "import sys\n",
    "sys.path.append(\"C:/EclipseWorkspaces/LiClipseWorkspace/OptiPandas/src\")\n",
    "import optipandas as opd\n",
    "opd.init('CPLEX')\n"
   ]
  },
  {
   "cell_type": "markdown",
   "metadata": {},
   "source": [
    "### Read the data associated with the products"
   ]
  },
  {
   "cell_type": "code",
   "execution_count": 3,
   "metadata": {},
   "outputs": [
    {
     "data": {
      "text/html": [
       "<div>\n",
       "<style scoped>\n",
       "    .dataframe tbody tr th:only-of-type {\n",
       "        vertical-align: middle;\n",
       "    }\n",
       "\n",
       "    .dataframe tbody tr th {\n",
       "        vertical-align: top;\n",
       "    }\n",
       "\n",
       "    .dataframe thead th {\n",
       "        text-align: right;\n",
       "    }\n",
       "</style>\n",
       "<table border=\"1\" class=\"dataframe\">\n",
       "  <thead>\n",
       "    <tr style=\"text-align: right;\">\n",
       "      <th></th>\n",
       "      <th>rate</th>\n",
       "      <th>inv0</th>\n",
       "      <th>prodcost</th>\n",
       "      <th>invcost</th>\n",
       "    </tr>\n",
       "    <tr>\n",
       "      <th>Product</th>\n",
       "      <th></th>\n",
       "      <th></th>\n",
       "      <th></th>\n",
       "      <th></th>\n",
       "    </tr>\n",
       "  </thead>\n",
       "  <tbody>\n",
       "    <tr>\n",
       "      <th>bands</th>\n",
       "      <td>220</td>\n",
       "      <td>10</td>\n",
       "      <td>10</td>\n",
       "      <td>2.5</td>\n",
       "    </tr>\n",
       "    <tr>\n",
       "      <th>coils</th>\n",
       "      <td>154</td>\n",
       "      <td>0</td>\n",
       "      <td>11</td>\n",
       "      <td>3.0</td>\n",
       "    </tr>\n",
       "  </tbody>\n",
       "</table>\n",
       "</div>"
      ],
      "text/plain": [
       "         rate  inv0  prodcost  invcost\n",
       "Product                               \n",
       "bands     220    10        10      2.5\n",
       "coils     154     0        11      3.0"
      ]
     },
     "execution_count": 3,
     "metadata": {},
     "output_type": "execute_result"
    }
   ],
   "source": [
    "productDF = pd.read_excel(\"steelT.xlsx\", index_col=0, skip_footer=18)\n",
    "productDF"
   ]
  },
  {
   "cell_type": "markdown",
   "metadata": {},
   "source": [
    "### Read the revenue and market data.  Note that we change the name of the index, because the Excel file has the name of the table, which is interpreted as the name of the index"
   ]
  },
  {
   "cell_type": "code",
   "execution_count": 4,
   "metadata": {},
   "outputs": [
    {
     "data": {
      "text/html": [
       "<div>\n",
       "<style scoped>\n",
       "    .dataframe tbody tr th:only-of-type {\n",
       "        vertical-align: middle;\n",
       "    }\n",
       "\n",
       "    .dataframe tbody tr th {\n",
       "        vertical-align: top;\n",
       "    }\n",
       "\n",
       "    .dataframe thead th {\n",
       "        text-align: right;\n",
       "    }\n",
       "</style>\n",
       "<table border=\"1\" class=\"dataframe\">\n",
       "  <thead>\n",
       "    <tr style=\"text-align: right;\">\n",
       "      <th></th>\n",
       "      <th>1</th>\n",
       "      <th>2</th>\n",
       "      <th>3</th>\n",
       "      <th>4</th>\n",
       "    </tr>\n",
       "    <tr>\n",
       "      <th>Product</th>\n",
       "      <th></th>\n",
       "      <th></th>\n",
       "      <th></th>\n",
       "      <th></th>\n",
       "    </tr>\n",
       "  </thead>\n",
       "  <tbody>\n",
       "    <tr>\n",
       "      <th>bands</th>\n",
       "      <td>25</td>\n",
       "      <td>26</td>\n",
       "      <td>27</td>\n",
       "      <td>27</td>\n",
       "    </tr>\n",
       "    <tr>\n",
       "      <th>coils</th>\n",
       "      <td>30</td>\n",
       "      <td>35</td>\n",
       "      <td>37</td>\n",
       "      <td>39</td>\n",
       "    </tr>\n",
       "  </tbody>\n",
       "</table>\n",
       "</div>"
      ],
      "text/plain": [
       "          1   2   3   4\n",
       "Product                \n",
       "bands    25  26  27  27\n",
       "coils    30  35  37  39"
      ]
     },
     "execution_count": 4,
     "metadata": {},
     "output_type": "execute_result"
    }
   ],
   "source": [
    "revenue = pd.read_excel(\"steelT.xlsx\", index_col=0, skiprows=6, skip_footer=12)\n",
    "revenue.index.name = 'Product'\n",
    "revenue"
   ]
  },
  {
   "cell_type": "code",
   "execution_count": 5,
   "metadata": {},
   "outputs": [
    {
     "data": {
      "text/html": [
       "<div>\n",
       "<style scoped>\n",
       "    .dataframe tbody tr th:only-of-type {\n",
       "        vertical-align: middle;\n",
       "    }\n",
       "\n",
       "    .dataframe tbody tr th {\n",
       "        vertical-align: top;\n",
       "    }\n",
       "\n",
       "    .dataframe thead th {\n",
       "        text-align: right;\n",
       "    }\n",
       "</style>\n",
       "<table border=\"1\" class=\"dataframe\">\n",
       "  <thead>\n",
       "    <tr style=\"text-align: right;\">\n",
       "      <th></th>\n",
       "      <th>1</th>\n",
       "      <th>2</th>\n",
       "      <th>3</th>\n",
       "      <th>4</th>\n",
       "    </tr>\n",
       "    <tr>\n",
       "      <th>Product</th>\n",
       "      <th></th>\n",
       "      <th></th>\n",
       "      <th></th>\n",
       "      <th></th>\n",
       "    </tr>\n",
       "  </thead>\n",
       "  <tbody>\n",
       "    <tr>\n",
       "      <th>bands</th>\n",
       "      <td>6000</td>\n",
       "      <td>6000</td>\n",
       "      <td>4000</td>\n",
       "      <td>6500</td>\n",
       "    </tr>\n",
       "    <tr>\n",
       "      <th>coils</th>\n",
       "      <td>4000</td>\n",
       "      <td>2500</td>\n",
       "      <td>3500</td>\n",
       "      <td>4200</td>\n",
       "    </tr>\n",
       "  </tbody>\n",
       "</table>\n",
       "</div>"
      ],
      "text/plain": [
       "            1     2     3     4\n",
       "Product                        \n",
       "bands    6000  6000  4000  6500\n",
       "coils    4000  2500  3500  4200"
      ]
     },
     "execution_count": 5,
     "metadata": {},
     "output_type": "execute_result"
    }
   ],
   "source": [
    "market = pd.read_excel(\"steelT.xlsx\", index_col=0, skiprows=10, skip_footer=8)\n",
    "market.index.name = 'Product'\n",
    "market"
   ]
  },
  {
   "cell_type": "markdown",
   "metadata": {},
   "source": [
    "### Read the available capacity per time period"
   ]
  },
  {
   "cell_type": "code",
   "execution_count": 6,
   "metadata": {},
   "outputs": [
    {
     "data": {
      "text/plain": [
       "Time\n",
       "1    40\n",
       "2    40\n",
       "3    32\n",
       "4    40\n",
       "Name: avail, dtype: int64"
      ]
     },
     "execution_count": 6,
     "metadata": {},
     "output_type": "execute_result"
    }
   ],
   "source": [
    "avail = pd.read_excel(\"steelT.xlsx\", index_col=0, skiprows=16, usecols=1).avail\n",
    "avail"
   ]
  },
  {
   "cell_type": "markdown",
   "metadata": {},
   "source": [
    "### Compute a tidy version of the revenue and market data"
   ]
  },
  {
   "cell_type": "code",
   "execution_count": 7,
   "metadata": {},
   "outputs": [
    {
     "data": {
      "text/html": [
       "<div>\n",
       "<style scoped>\n",
       "    .dataframe tbody tr th:only-of-type {\n",
       "        vertical-align: middle;\n",
       "    }\n",
       "\n",
       "    .dataframe tbody tr th {\n",
       "        vertical-align: top;\n",
       "    }\n",
       "\n",
       "    .dataframe thead th {\n",
       "        text-align: right;\n",
       "    }\n",
       "</style>\n",
       "<table border=\"1\" class=\"dataframe\">\n",
       "  <thead>\n",
       "    <tr style=\"text-align: right;\">\n",
       "      <th></th>\n",
       "      <th></th>\n",
       "      <th>market</th>\n",
       "      <th>revenue</th>\n",
       "    </tr>\n",
       "    <tr>\n",
       "      <th>Product</th>\n",
       "      <th>T</th>\n",
       "      <th></th>\n",
       "      <th></th>\n",
       "    </tr>\n",
       "  </thead>\n",
       "  <tbody>\n",
       "    <tr>\n",
       "      <th rowspan=\"4\" valign=\"top\">bands</th>\n",
       "      <th>1</th>\n",
       "      <td>6000</td>\n",
       "      <td>25</td>\n",
       "    </tr>\n",
       "    <tr>\n",
       "      <th>2</th>\n",
       "      <td>6000</td>\n",
       "      <td>26</td>\n",
       "    </tr>\n",
       "    <tr>\n",
       "      <th>3</th>\n",
       "      <td>4000</td>\n",
       "      <td>27</td>\n",
       "    </tr>\n",
       "    <tr>\n",
       "      <th>4</th>\n",
       "      <td>6500</td>\n",
       "      <td>27</td>\n",
       "    </tr>\n",
       "    <tr>\n",
       "      <th rowspan=\"4\" valign=\"top\">coils</th>\n",
       "      <th>1</th>\n",
       "      <td>4000</td>\n",
       "      <td>30</td>\n",
       "    </tr>\n",
       "    <tr>\n",
       "      <th>2</th>\n",
       "      <td>2500</td>\n",
       "      <td>35</td>\n",
       "    </tr>\n",
       "    <tr>\n",
       "      <th>3</th>\n",
       "      <td>3500</td>\n",
       "      <td>37</td>\n",
       "    </tr>\n",
       "    <tr>\n",
       "      <th>4</th>\n",
       "      <td>4200</td>\n",
       "      <td>39</td>\n",
       "    </tr>\n",
       "  </tbody>\n",
       "</table>\n",
       "</div>"
      ],
      "text/plain": [
       "           market  revenue\n",
       "Product T                 \n",
       "bands   1    6000       25\n",
       "        2    6000       26\n",
       "        3    4000       27\n",
       "        4    6500       27\n",
       "coils   1    4000       30\n",
       "        2    2500       35\n",
       "        3    3500       37\n",
       "        4    4200       39"
      ]
     },
     "execution_count": 7,
     "metadata": {},
     "output_type": "execute_result"
    }
   ],
   "source": [
    "rmDF = pd.concat(\n",
    "    [market.rename_axis(\"T\", axis=\"columns\").stack().rename(\"market\"),\n",
    "     revenue.rename_axis(\"T\", axis=\"columns\").stack().rename(\"revenue\")],\n",
    "    axis=1)\n",
    "rmDF"
   ]
  },
  {
   "cell_type": "markdown",
   "metadata": {},
   "source": [
    "### Import the DoCplex library"
   ]
  },
  {
   "cell_type": "code",
   "execution_count": 10,
   "metadata": {},
   "outputs": [],
   "source": [
    "from docplex.mp.model import Model"
   ]
  },
  {
   "cell_type": "markdown",
   "metadata": {},
   "source": [
    "### Create a DoCplex modeling object"
   ]
  },
  {
   "cell_type": "code",
   "execution_count": 11,
   "metadata": {},
   "outputs": [],
   "source": [
    "model = Model(name='steelT')"
   ]
  },
  {
   "cell_type": "markdown",
   "metadata": {},
   "source": [
    "### Create a variety of Series containing the decision variables. Note that for the Sell variables, we can get the upper bounds right from the table. For the Inv variables, we have to create an index that includes time period 0"
   ]
  },
  {
   "cell_type": "code",
   "execution_count": 13,
   "metadata": {},
   "outputs": [
    {
     "data": {
      "text/html": [
       "<div>\n",
       "<style scoped>\n",
       "    .dataframe tbody tr th:only-of-type {\n",
       "        vertical-align: middle;\n",
       "    }\n",
       "\n",
       "    .dataframe tbody tr th {\n",
       "        vertical-align: top;\n",
       "    }\n",
       "\n",
       "    .dataframe thead th {\n",
       "        text-align: right;\n",
       "    }\n",
       "</style>\n",
       "<table border=\"1\" class=\"dataframe\">\n",
       "  <thead>\n",
       "    <tr style=\"text-align: right;\">\n",
       "      <th></th>\n",
       "      <th></th>\n",
       "      <th>Make</th>\n",
       "      <th>Sell</th>\n",
       "      <th>Inv</th>\n",
       "    </tr>\n",
       "    <tr>\n",
       "      <th>Product</th>\n",
       "      <th>T</th>\n",
       "      <th></th>\n",
       "      <th></th>\n",
       "      <th></th>\n",
       "    </tr>\n",
       "  </thead>\n",
       "  <tbody>\n",
       "    <tr>\n",
       "      <th rowspan=\"5\" valign=\"top\">bands</th>\n",
       "      <th>0</th>\n",
       "      <td>NaN</td>\n",
       "      <td>NaN</td>\n",
       "      <td>Inv_('bands', 0)</td>\n",
       "    </tr>\n",
       "    <tr>\n",
       "      <th>1</th>\n",
       "      <td>Make_('bands', 1)</td>\n",
       "      <td>Sell_('bands', 1)</td>\n",
       "      <td>Inv_('bands', 1)</td>\n",
       "    </tr>\n",
       "    <tr>\n",
       "      <th>2</th>\n",
       "      <td>Make_('bands', 2)</td>\n",
       "      <td>Sell_('bands', 2)</td>\n",
       "      <td>Inv_('bands', 2)</td>\n",
       "    </tr>\n",
       "    <tr>\n",
       "      <th>3</th>\n",
       "      <td>Make_('bands', 3)</td>\n",
       "      <td>Sell_('bands', 3)</td>\n",
       "      <td>Inv_('bands', 3)</td>\n",
       "    </tr>\n",
       "    <tr>\n",
       "      <th>4</th>\n",
       "      <td>Make_('bands', 4)</td>\n",
       "      <td>Sell_('bands', 4)</td>\n",
       "      <td>Inv_('bands', 4)</td>\n",
       "    </tr>\n",
       "    <tr>\n",
       "      <th rowspan=\"5\" valign=\"top\">coils</th>\n",
       "      <th>0</th>\n",
       "      <td>NaN</td>\n",
       "      <td>NaN</td>\n",
       "      <td>Inv_('coils', 0)</td>\n",
       "    </tr>\n",
       "    <tr>\n",
       "      <th>1</th>\n",
       "      <td>Make_('coils', 1)</td>\n",
       "      <td>Sell_('coils', 1)</td>\n",
       "      <td>Inv_('coils', 1)</td>\n",
       "    </tr>\n",
       "    <tr>\n",
       "      <th>2</th>\n",
       "      <td>Make_('coils', 2)</td>\n",
       "      <td>Sell_('coils', 2)</td>\n",
       "      <td>Inv_('coils', 2)</td>\n",
       "    </tr>\n",
       "    <tr>\n",
       "      <th>3</th>\n",
       "      <td>Make_('coils', 3)</td>\n",
       "      <td>Sell_('coils', 3)</td>\n",
       "      <td>Inv_('coils', 3)</td>\n",
       "    </tr>\n",
       "    <tr>\n",
       "      <th>4</th>\n",
       "      <td>Make_('coils', 4)</td>\n",
       "      <td>Sell_('coils', 4)</td>\n",
       "      <td>Inv_('coils', 4)</td>\n",
       "    </tr>\n",
       "  </tbody>\n",
       "</table>\n",
       "</div>"
      ],
      "text/plain": [
       "                        Make               Sell               Inv\n",
       "Product T                                                        \n",
       "bands   0                NaN                NaN  Inv_('bands', 0)\n",
       "        1  Make_('bands', 1)  Sell_('bands', 1)  Inv_('bands', 1)\n",
       "        2  Make_('bands', 2)  Sell_('bands', 2)  Inv_('bands', 2)\n",
       "        3  Make_('bands', 3)  Sell_('bands', 3)  Inv_('bands', 3)\n",
       "        4  Make_('bands', 4)  Sell_('bands', 4)  Inv_('bands', 4)\n",
       "coils   0                NaN                NaN  Inv_('coils', 0)\n",
       "        1  Make_('coils', 1)  Sell_('coils', 1)  Inv_('coils', 1)\n",
       "        2  Make_('coils', 2)  Sell_('coils', 2)  Inv_('coils', 2)\n",
       "        3  Make_('coils', 3)  Sell_('coils', 3)  Inv_('coils', 3)\n",
       "        4  Make_('coils', 4)  Sell_('coils', 4)  Inv_('coils', 4)"
      ]
     },
     "execution_count": 13,
     "metadata": {},
     "output_type": "execute_result"
    }
   ],
   "source": [
    "Make = pd.Series(model.continuous_var_list(rmDF.index, name='Make'), index=rmDF.index, name=\"Make\")\n",
    "Sell = pd.Series(model.continuous_var_list(rmDF.index, ub=list(rmDF.market.values), name='Sell'),\n",
    "                 index=rmDF.index, name=\"Sell\")\n",
    "invindex = rmDF.index.union(pd.MultiIndex.from_product([rmDF.index.get_level_values('Product'),[0]], names=['Product','T']))\n",
    "Inv = pd.Series(model.continuous_var_list(invindex, name='Inv'), index=invindex, name=\"Inv\")\n",
    "\n",
    "pd.concat([Make, Sell, Inv], axis=1)"
   ]
  },
  {
   "cell_type": "markdown",
   "metadata": {},
   "source": [
    "### Note that the types of the columns are objects.  In fact, they are decision variables"
   ]
  },
  {
   "cell_type": "code",
   "execution_count": 14,
   "metadata": {},
   "outputs": [
    {
     "data": {
      "text/plain": [
       "((dtype('O'), dtype('O'), dtype('O')), docplex.mp.linear.Var)"
      ]
     },
     "execution_count": 14,
     "metadata": {},
     "output_type": "execute_result"
    }
   ],
   "source": [
    "(Make.dtype, Sell.dtype, Inv.dtype), type(Make.iloc[0])"
   ]
  },
  {
   "cell_type": "markdown",
   "metadata": {},
   "source": [
    "### Set the objective function as\n",
    "$$ \\hbox{maximize}\\quad\\sum_{p,t}(revenue[p,t]*Sell[p,t]-prodcost[p]*Make[p,t]-invcost[p]*Inv[p,t])$$"
   ]
  },
  {
   "cell_type": "code",
   "execution_count": 15,
   "metadata": {},
   "outputs": [],
   "source": [
    "model.maximize(model.sum(rmDF.revenue*Sell-productDF.prodcost*Make-productDF.invcost*Inv[rmDF.index]))"
   ]
  },
  {
   "cell_type": "markdown",
   "metadata": {},
   "source": [
    "### State the constraints limiting production\n",
    "$$\\sum_p Make[p,t]*(1.0/rate[p]) \\le avail[t], \\qquad\\forall t$$"
   ]
  },
  {
   "cell_type": "code",
   "execution_count": 24,
   "metadata": {},
   "outputs": [
    {
     "data": {
      "text/plain": [
       "Time\n",
       "1    40\n",
       "2    40\n",
       "3    32\n",
       "4    40\n",
       "Name: avail, dtype: int64"
      ]
     },
     "execution_count": 24,
     "metadata": {},
     "output_type": "execute_result"
    }
   ],
   "source": [
    "avail"
   ]
  },
  {
   "cell_type": "code",
   "execution_count": 23,
   "metadata": {},
   "outputs": [
    {
     "data": {
      "text/plain": [
       "T\n",
       "1    0.005Make_('bands', 1)+0.006Make_('coils', 1) ...\n",
       "2    0.005Make_('bands', 2)+0.006Make_('coils', 2) ...\n",
       "3    0.005Make_('bands', 3)+0.006Make_('coils', 3) ...\n",
       "4    0.005Make_('bands', 4)+0.006Make_('coils', 4) ...\n",
       "dtype: object"
      ]
     },
     "execution_count": 23,
     "metadata": {},
     "output_type": "execute_result"
    }
   ],
   "source": [
    "opd.sum(\"Product\", Make/productDF.rate) <= avail"
   ]
  },
  {
   "cell_type": "code",
   "execution_count": 12,
   "metadata": {},
   "outputs": [
    {
     "data": {
      "text/plain": [
       "T\n",
       "1    Time[1]: 0.005Make_('bands', 1)+0.006Make_('co...\n",
       "2    Time[2]: 0.005Make_('bands', 2)+0.006Make_('co...\n",
       "3    Time[3]: 0.005Make_('bands', 3)+0.006Make_('co...\n",
       "4    Time[4]: 0.005Make_('bands', 4)+0.006Make_('co...\n",
       "Name: Time, dtype: object"
      ]
     },
     "execution_count": 12,
     "metadata": {},
     "output_type": "execute_result"
    }
   ],
   "source": [
    "opd.forall(model, \"T\", (opd.sum(\"Product\", Make/productDF.rate) <= avail), \"Time\")"
   ]
  },
  {
   "cell_type": "markdown",
   "metadata": {},
   "source": [
    "### Use slicing to pick up the Inventory variables for period 0"
   ]
  },
  {
   "cell_type": "code",
   "execution_count": 16,
   "metadata": {},
   "outputs": [
    {
     "data": {
      "text/plain": [
       "Product\n",
       "bands    Inv_('bands', 0)\n",
       "coils    Inv_('coils', 0)\n",
       "Name: Inv, dtype: object"
      ]
     },
     "execution_count": 16,
     "metadata": {},
     "output_type": "execute_result"
    }
   ],
   "source": [
    "idx = pd.IndexSlice\n",
    "Inv.sort_index(inplace=True)\n",
    "Inv[idx[:,0]]"
   ]
  },
  {
   "cell_type": "markdown",
   "metadata": {},
   "source": [
    "### Add the constraint for the first time period\n",
    "$$Inv[p,0] = inv0[p] \\qquad\\forall p$$"
   ]
  },
  {
   "cell_type": "code",
   "execution_count": 14,
   "metadata": {},
   "outputs": [
    {
     "data": {
      "text/plain": [
       "Product\n",
       "bands    Init_Inv[bands]: Inv_('bands', 0) == 10\n",
       "coils     Init_Inv[coils]: Inv_('coils', 0) == 0\n",
       "Name: Init_Inv, dtype: object"
      ]
     },
     "execution_count": 14,
     "metadata": {},
     "output_type": "execute_result"
    }
   ],
   "source": [
    "opd.forall(model, \"Product\", (Inv[idx[:,0]] == productDF.inv0), \"Init_Inv\")"
   ]
  },
  {
   "cell_type": "markdown",
   "metadata": {},
   "source": [
    "### Now add the balance constraints. Note the use of `.shift` to refer to the earlier period\n",
    "$$Make[p,1] + Inv[p,t-1] = Sell[p,1]+Inv[p,1]\\qquad\\forall p, t\\ge 1$$"
   ]
  },
  {
   "cell_type": "code",
   "execution_count": 17,
   "metadata": {},
   "outputs": [
    {
     "data": {
      "text/plain": [
       "Product  T\n",
       "bands    1    Balance[bands,1]: Make_('bands', 1)+Inv_('band...\n",
       "         2    Balance[bands,2]: Make_('bands', 2)+Inv_('band...\n",
       "         3    Balance[bands,3]: Make_('bands', 3)+Inv_('band...\n",
       "         4    Balance[bands,4]: Make_('bands', 4)+Inv_('band...\n",
       "coils    1    Balance[coils,1]: Make_('coils', 1)+Inv_('coil...\n",
       "         2    Balance[coils,2]: Make_('coils', 2)+Inv_('coil...\n",
       "         3    Balance[coils,3]: Make_('coils', 3)+Inv_('coil...\n",
       "         4    Balance[coils,4]: Make_('coils', 4)+Inv_('coil...\n",
       "Name: Balance, dtype: object"
      ]
     },
     "execution_count": 17,
     "metadata": {},
     "output_type": "execute_result"
    }
   ],
   "source": [
    "opd.forall(model, [\"Product\", \"T\"], (Make + Inv.groupby('Product').shift(1)[rmDF.index] == Sell + Inv[rmDF.index]), \"Balance\")\n"
   ]
  },
  {
   "cell_type": "code",
   "execution_count": 19,
   "metadata": {},
   "outputs": [
    {
     "data": {
      "text/html": [
       "<div>\n",
       "<style scoped>\n",
       "    .dataframe tbody tr th:only-of-type {\n",
       "        vertical-align: middle;\n",
       "    }\n",
       "\n",
       "    .dataframe tbody tr th {\n",
       "        vertical-align: top;\n",
       "    }\n",
       "\n",
       "    .dataframe thead th {\n",
       "        text-align: right;\n",
       "    }\n",
       "</style>\n",
       "<table border=\"1\" class=\"dataframe\">\n",
       "  <thead>\n",
       "    <tr style=\"text-align: right;\">\n",
       "      <th></th>\n",
       "      <th></th>\n",
       "      <th>ShiftInv</th>\n",
       "    </tr>\n",
       "    <tr>\n",
       "      <th>Product</th>\n",
       "      <th>T</th>\n",
       "      <th></th>\n",
       "    </tr>\n",
       "  </thead>\n",
       "  <tbody>\n",
       "    <tr>\n",
       "      <th rowspan=\"5\" valign=\"top\">bands</th>\n",
       "      <th>0</th>\n",
       "      <td>NaN</td>\n",
       "    </tr>\n",
       "    <tr>\n",
       "      <th>1</th>\n",
       "      <td>Inv_('bands', 0)</td>\n",
       "    </tr>\n",
       "    <tr>\n",
       "      <th>2</th>\n",
       "      <td>Inv_('bands', 1)</td>\n",
       "    </tr>\n",
       "    <tr>\n",
       "      <th>3</th>\n",
       "      <td>Inv_('bands', 2)</td>\n",
       "    </tr>\n",
       "    <tr>\n",
       "      <th>4</th>\n",
       "      <td>Inv_('bands', 3)</td>\n",
       "    </tr>\n",
       "    <tr>\n",
       "      <th rowspan=\"5\" valign=\"top\">coils</th>\n",
       "      <th>0</th>\n",
       "      <td>NaN</td>\n",
       "    </tr>\n",
       "    <tr>\n",
       "      <th>1</th>\n",
       "      <td>Inv_('coils', 0)</td>\n",
       "    </tr>\n",
       "    <tr>\n",
       "      <th>2</th>\n",
       "      <td>Inv_('coils', 1)</td>\n",
       "    </tr>\n",
       "    <tr>\n",
       "      <th>3</th>\n",
       "      <td>Inv_('coils', 2)</td>\n",
       "    </tr>\n",
       "    <tr>\n",
       "      <th>4</th>\n",
       "      <td>Inv_('coils', 3)</td>\n",
       "    </tr>\n",
       "  </tbody>\n",
       "</table>\n",
       "</div>"
      ],
      "text/plain": [
       "                   ShiftInv\n",
       "Product T                  \n",
       "bands   0               NaN\n",
       "        1  Inv_('bands', 0)\n",
       "        2  Inv_('bands', 1)\n",
       "        3  Inv_('bands', 2)\n",
       "        4  Inv_('bands', 3)\n",
       "coils   0               NaN\n",
       "        1  Inv_('coils', 0)\n",
       "        2  Inv_('coils', 1)\n",
       "        3  Inv_('coils', 2)\n",
       "        4  Inv_('coils', 3)"
      ]
     },
     "execution_count": 19,
     "metadata": {},
     "output_type": "execute_result"
    }
   ],
   "source": [
    "Inv.groupby('Product').shift(1).to_frame('ShiftInv')"
   ]
  },
  {
   "cell_type": "markdown",
   "metadata": {},
   "source": [
    "### Time to solve"
   ]
  },
  {
   "cell_type": "code",
   "execution_count": 20,
   "metadata": {},
   "outputs": [
    {
     "data": {
      "text/plain": [
       "docplex.mp.solution.SolveSolution(obj=940250,values={Sell_('bands', 1):6.."
      ]
     },
     "execution_count": 20,
     "metadata": {},
     "output_type": "execute_result"
    }
   ],
   "source": [
    "model.solve()"
   ]
  },
  {
   "cell_type": "markdown",
   "metadata": {},
   "source": [
    "### Grab the solution and put the solution in a DataFrame"
   ]
  },
  {
   "cell_type": "code",
   "execution_count": 17,
   "metadata": {},
   "outputs": [
    {
     "data": {
      "text/html": [
       "<div>\n",
       "<style scoped>\n",
       "    .dataframe tbody tr th:only-of-type {\n",
       "        vertical-align: middle;\n",
       "    }\n",
       "\n",
       "    .dataframe tbody tr th {\n",
       "        vertical-align: top;\n",
       "    }\n",
       "\n",
       "    .dataframe thead th {\n",
       "        text-align: right;\n",
       "    }\n",
       "</style>\n",
       "<table border=\"1\" class=\"dataframe\">\n",
       "  <thead>\n",
       "    <tr style=\"text-align: right;\">\n",
       "      <th></th>\n",
       "      <th></th>\n",
       "      <th>Inv</th>\n",
       "      <th>Make</th>\n",
       "      <th>Sell</th>\n",
       "    </tr>\n",
       "    <tr>\n",
       "      <th>Product</th>\n",
       "      <th>T</th>\n",
       "      <th></th>\n",
       "      <th></th>\n",
       "      <th></th>\n",
       "    </tr>\n",
       "  </thead>\n",
       "  <tbody>\n",
       "    <tr>\n",
       "      <th rowspan=\"4\" valign=\"top\">bands</th>\n",
       "      <th>1</th>\n",
       "      <td>0.0</td>\n",
       "      <td>5990.0</td>\n",
       "      <td>6000.0</td>\n",
       "    </tr>\n",
       "    <tr>\n",
       "      <th>2</th>\n",
       "      <td>0.0</td>\n",
       "      <td>6000.0</td>\n",
       "      <td>6000.0</td>\n",
       "    </tr>\n",
       "    <tr>\n",
       "      <th>3</th>\n",
       "      <td>0.0</td>\n",
       "      <td>2040.0</td>\n",
       "      <td>2040.0</td>\n",
       "    </tr>\n",
       "    <tr>\n",
       "      <th>4</th>\n",
       "      <td>0.0</td>\n",
       "      <td>2800.0</td>\n",
       "      <td>2800.0</td>\n",
       "    </tr>\n",
       "    <tr>\n",
       "      <th rowspan=\"4\" valign=\"top\">coils</th>\n",
       "      <th>1</th>\n",
       "      <td>540.0</td>\n",
       "      <td>1967.0</td>\n",
       "      <td>1427.0</td>\n",
       "    </tr>\n",
       "    <tr>\n",
       "      <th>2</th>\n",
       "      <td>0.0</td>\n",
       "      <td>1960.0</td>\n",
       "      <td>2500.0</td>\n",
       "    </tr>\n",
       "    <tr>\n",
       "      <th>3</th>\n",
       "      <td>0.0</td>\n",
       "      <td>3500.0</td>\n",
       "      <td>3500.0</td>\n",
       "    </tr>\n",
       "    <tr>\n",
       "      <th>4</th>\n",
       "      <td>0.0</td>\n",
       "      <td>4200.0</td>\n",
       "      <td>4200.0</td>\n",
       "    </tr>\n",
       "  </tbody>\n",
       "</table>\n",
       "</div>"
      ],
      "text/plain": [
       "             Inv    Make    Sell\n",
       "Product T                       \n",
       "bands   1    0.0  5990.0  6000.0\n",
       "        2    0.0  6000.0  6000.0\n",
       "        3    0.0  2040.0  2040.0\n",
       "        4    0.0  2800.0  2800.0\n",
       "coils   1  540.0  1967.0  1427.0\n",
       "        2    0.0  1960.0  2500.0\n",
       "        3    0.0  3500.0  3500.0\n",
       "        4    0.0  4200.0  4200.0"
      ]
     },
     "execution_count": 17,
     "metadata": {},
     "output_type": "execute_result"
    }
   ],
   "source": [
    "soln = pd.DataFrame({'Make' : [x.solution_value for x in Make],\n",
    "                     'Sell' : [x.solution_value for x in Sell],\n",
    "                     'Inv' : [x.solution_value for x in Inv[rmDF.index]]},\n",
    "                    index = rmDF.index)\n",
    "soln"
   ]
  },
  {
   "cell_type": "code",
   "execution_count": null,
   "metadata": {},
   "outputs": [],
   "source": []
  }
 ],
 "metadata": {
  "anaconda-cloud": {},
  "kernelspec": {
   "display_name": "Python [conda env:cplex128]",
   "language": "python",
   "name": "conda-env-cplex128-py"
  },
  "language_info": {
   "codemirror_mode": {
    "name": "ipython",
    "version": 3
   },
   "file_extension": ".py",
   "mimetype": "text/x-python",
   "name": "python",
   "nbconvert_exporter": "python",
   "pygments_lexer": "ipython3",
   "version": "3.6.4"
  }
 },
 "nbformat": 4,
 "nbformat_minor": 1
}
