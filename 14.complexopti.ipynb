{
 "cells": [
  {
   "cell_type": "markdown",
   "metadata": {},
   "source": [
    "# A people assignment problem.\n",
    "## Copyright (C) Princeton Consultants, 2017\n",
    "\n",
    "- Assign hours of work of people to sites per day of week\n",
    "- Each person can work\n",
    "  - At most a specified number of hours per day\n",
    "  - At most a specified number of hours per week\n",
    "  - At most a specified number of days per week\n",
    "- Each site needs a set of people assigned for a number of hours per day\n",
    "- When a person is assigned to a site\n",
    "  - They must be assigned for at least an hour, in half-hour increments\n",
    "  - They must be assigned for at least 2 days in the week\n",
    "- There is a preference score for each person/site pair that is eligible to be assigned\n",
    "  - Maximize the preferences\n",
    "- There are not enough people available to cover all the site requirements, so maximize the coverage as best as possible \n"
   ]
  },
  {
   "cell_type": "markdown",
   "metadata": {
    "nbpresent": {
     "id": "fd9184b4-be86-4fb1-8376-b11824d47e06"
    }
   },
   "source": [
    "## The list of files:\n",
    "* sites.csv   contains site data:  ID and num hours per week\n",
    "* people.csv  contains people data:  ID, total hours per week, days per week\n",
    "* peoplehoursperday.csv contains hours per day for each person:  ID, day, hours\n",
    "* sitehoursperday.csv contains hours per day for each site:  ID, day, hours\n",
    "* prefs.csv contains the allowed assignments and a preference score:  person_id, site_id, pref\n"
   ]
  },
  {
   "cell_type": "code",
   "execution_count": 1,
   "metadata": {
    "collapsed": true,
    "nbpresent": {
     "id": "7dcf0393-587c-4c84-9dbe-c3956c491817"
    }
   },
   "outputs": [],
   "source": [
    "import pandas as pd\n",
    "sites = pd.read_csv(\"sites.csv\", index_col=0)\n",
    "people = pd.read_csv(\"people.csv\", index_col=0)\n",
    "peoplehoursperday = pd.read_csv(\"peoplehoursperday.csv\", index_col=[0,1])\n",
    "sitehoursperday = pd.read_csv(\"sitehoursperday.csv\", index_col=[0,1])\n",
    "prefs = pd.read_csv(\"prefs.csv\", index_col=[0,1])"
   ]
  },
  {
   "cell_type": "code",
   "execution_count": 2,
   "metadata": {
    "collapsed": false,
    "nbpresent": {
     "id": "a089f7d1-a1e6-4c68-8db2-b9926b417495"
    }
   },
   "outputs": [
    {
     "data": {
      "text/html": [
       "<div>\n",
       "<table border=\"1\" class=\"dataframe\">\n",
       "  <thead>\n",
       "    <tr style=\"text-align: right;\">\n",
       "      <th></th>\n",
       "      <th>num_hours</th>\n",
       "    </tr>\n",
       "    <tr>\n",
       "      <th>id</th>\n",
       "      <th></th>\n",
       "    </tr>\n",
       "  </thead>\n",
       "  <tbody>\n",
       "    <tr>\n",
       "      <th>TWD0000000357BVYIM</th>\n",
       "      <td>12.0</td>\n",
       "    </tr>\n",
       "    <tr>\n",
       "      <th>UXE0000000358CWZJN</th>\n",
       "      <td>179.0</td>\n",
       "    </tr>\n",
       "    <tr>\n",
       "      <th>VYF0000000359DXAKO</th>\n",
       "      <td>171.0</td>\n",
       "    </tr>\n",
       "    <tr>\n",
       "      <th>WZG0000000360EYBLP</th>\n",
       "      <td>11.0</td>\n",
       "    </tr>\n",
       "    <tr>\n",
       "      <th>XAH0000000361FZCMQ</th>\n",
       "      <td>10.0</td>\n",
       "    </tr>\n",
       "  </tbody>\n",
       "</table>\n",
       "</div>"
      ],
      "text/plain": [
       "                    num_hours\n",
       "id                           \n",
       "TWD0000000357BVYIM       12.0\n",
       "UXE0000000358CWZJN      179.0\n",
       "VYF0000000359DXAKO      171.0\n",
       "WZG0000000360EYBLP       11.0\n",
       "XAH0000000361FZCMQ       10.0"
      ]
     },
     "execution_count": 2,
     "metadata": {},
     "output_type": "execute_result"
    }
   ],
   "source": [
    "sites.head()"
   ]
  },
  {
   "cell_type": "code",
   "execution_count": 3,
   "metadata": {
    "collapsed": false,
    "nbpresent": {
     "id": "2f154cd0-30ea-476f-81cc-3dc70f4a4232"
    }
   },
   "outputs": [
    {
     "data": {
      "text/html": [
       "<div>\n",
       "<table border=\"1\" class=\"dataframe\">\n",
       "  <thead>\n",
       "    <tr style=\"text-align: right;\">\n",
       "      <th></th>\n",
       "      <th>total_hrs_per_week</th>\n",
       "      <th>days_per_week</th>\n",
       "    </tr>\n",
       "    <tr>\n",
       "      <th>id</th>\n",
       "      <th></th>\n",
       "      <th></th>\n",
       "    </tr>\n",
       "  </thead>\n",
       "  <tbody>\n",
       "    <tr>\n",
       "      <th>ADK0000000000ICFPT</th>\n",
       "      <td>6</td>\n",
       "      <td>3</td>\n",
       "    </tr>\n",
       "    <tr>\n",
       "      <th>BEL0000000001JDGQU</th>\n",
       "      <td>12</td>\n",
       "      <td>3</td>\n",
       "    </tr>\n",
       "    <tr>\n",
       "      <th>CFM0000000002KEHRV</th>\n",
       "      <td>10</td>\n",
       "      <td>7</td>\n",
       "    </tr>\n",
       "    <tr>\n",
       "      <th>DGN0000000003LFISW</th>\n",
       "      <td>28</td>\n",
       "      <td>6</td>\n",
       "    </tr>\n",
       "    <tr>\n",
       "      <th>EHO0000000004MGJTX</th>\n",
       "      <td>14</td>\n",
       "      <td>1</td>\n",
       "    </tr>\n",
       "  </tbody>\n",
       "</table>\n",
       "</div>"
      ],
      "text/plain": [
       "                    total_hrs_per_week  days_per_week\n",
       "id                                                   \n",
       "ADK0000000000ICFPT                   6              3\n",
       "BEL0000000001JDGQU                  12              3\n",
       "CFM0000000002KEHRV                  10              7\n",
       "DGN0000000003LFISW                  28              6\n",
       "EHO0000000004MGJTX                  14              1"
      ]
     },
     "execution_count": 3,
     "metadata": {},
     "output_type": "execute_result"
    }
   ],
   "source": [
    "people.head()"
   ]
  },
  {
   "cell_type": "code",
   "execution_count": 4,
   "metadata": {
    "collapsed": false,
    "nbpresent": {
     "id": "9cbcefc2-a5f0-4310-b57d-5fda361137d0"
    }
   },
   "outputs": [
    {
     "data": {
      "text/html": [
       "<div>\n",
       "<table border=\"1\" class=\"dataframe\">\n",
       "  <thead>\n",
       "    <tr style=\"text-align: right;\">\n",
       "      <th></th>\n",
       "      <th></th>\n",
       "      <th>hours</th>\n",
       "    </tr>\n",
       "    <tr>\n",
       "      <th>id</th>\n",
       "      <th>day</th>\n",
       "      <th></th>\n",
       "    </tr>\n",
       "  </thead>\n",
       "  <tbody>\n",
       "    <tr>\n",
       "      <th rowspan=\"5\" valign=\"top\">ADK0000000364ICFPT</th>\n",
       "      <th>Mo</th>\n",
       "      <td>8.0</td>\n",
       "    </tr>\n",
       "    <tr>\n",
       "      <th>Tu</th>\n",
       "      <td>8.0</td>\n",
       "    </tr>\n",
       "    <tr>\n",
       "      <th>We</th>\n",
       "      <td>8.0</td>\n",
       "    </tr>\n",
       "    <tr>\n",
       "      <th>Th</th>\n",
       "      <td>8.0</td>\n",
       "    </tr>\n",
       "    <tr>\n",
       "      <th>Fr</th>\n",
       "      <td>4.0</td>\n",
       "    </tr>\n",
       "  </tbody>\n",
       "</table>\n",
       "</div>"
      ],
      "text/plain": [
       "                        hours\n",
       "id                 day       \n",
       "ADK0000000364ICFPT Mo     8.0\n",
       "                   Tu     8.0\n",
       "                   We     8.0\n",
       "                   Th     8.0\n",
       "                   Fr     4.0"
      ]
     },
     "execution_count": 4,
     "metadata": {},
     "output_type": "execute_result"
    }
   ],
   "source": [
    "sitehoursperday.head()"
   ]
  },
  {
   "cell_type": "code",
   "execution_count": 5,
   "metadata": {
    "collapsed": false,
    "nbpresent": {
     "id": "fd277f93-2a2c-4a5b-838a-01872ecad88d"
    }
   },
   "outputs": [
    {
     "data": {
      "text/html": [
       "<div>\n",
       "<table border=\"1\" class=\"dataframe\">\n",
       "  <thead>\n",
       "    <tr style=\"text-align: right;\">\n",
       "      <th></th>\n",
       "      <th></th>\n",
       "      <th>hours</th>\n",
       "    </tr>\n",
       "    <tr>\n",
       "      <th>id</th>\n",
       "      <th>day</th>\n",
       "      <th></th>\n",
       "    </tr>\n",
       "  </thead>\n",
       "  <tbody>\n",
       "    <tr>\n",
       "      <th>ADK0000000000ICFPT</th>\n",
       "      <th>Mo</th>\n",
       "      <td>0</td>\n",
       "    </tr>\n",
       "    <tr>\n",
       "      <th>BEL0000000001JDGQU</th>\n",
       "      <th>Mo</th>\n",
       "      <td>8</td>\n",
       "    </tr>\n",
       "    <tr>\n",
       "      <th>CFM0000000002KEHRV</th>\n",
       "      <th>Mo</th>\n",
       "      <td>0</td>\n",
       "    </tr>\n",
       "    <tr>\n",
       "      <th>DGN0000000003LFISW</th>\n",
       "      <th>Mo</th>\n",
       "      <td>0</td>\n",
       "    </tr>\n",
       "    <tr>\n",
       "      <th>EHO0000000004MGJTX</th>\n",
       "      <th>Mo</th>\n",
       "      <td>0</td>\n",
       "    </tr>\n",
       "  </tbody>\n",
       "</table>\n",
       "</div>"
      ],
      "text/plain": [
       "                        hours\n",
       "id                 day       \n",
       "ADK0000000000ICFPT Mo       0\n",
       "BEL0000000001JDGQU Mo       8\n",
       "CFM0000000002KEHRV Mo       0\n",
       "DGN0000000003LFISW Mo       0\n",
       "EHO0000000004MGJTX Mo       0"
      ]
     },
     "execution_count": 5,
     "metadata": {},
     "output_type": "execute_result"
    }
   ],
   "source": [
    "peoplehoursperday.head()"
   ]
  },
  {
   "cell_type": "code",
   "execution_count": 6,
   "metadata": {
    "collapsed": false,
    "nbpresent": {
     "id": "062132a7-c9fc-463b-9800-37ff4c5a58eb"
    }
   },
   "outputs": [
    {
     "data": {
      "text/html": [
       "<div>\n",
       "<table border=\"1\" class=\"dataframe\">\n",
       "  <thead>\n",
       "    <tr style=\"text-align: right;\">\n",
       "      <th></th>\n",
       "      <th></th>\n",
       "      <th>pref</th>\n",
       "    </tr>\n",
       "    <tr>\n",
       "      <th>person_id</th>\n",
       "      <th>site_id</th>\n",
       "      <th></th>\n",
       "    </tr>\n",
       "  </thead>\n",
       "  <tbody>\n",
       "    <tr>\n",
       "      <th>MPW0000000272UORBF</th>\n",
       "      <th>ADK0000000364ICFPT</th>\n",
       "      <td>64</td>\n",
       "    </tr>\n",
       "    <tr>\n",
       "      <th>ORY0000000196WQTDH</th>\n",
       "      <th>ADK0000000364ICFPT</th>\n",
       "      <td>32</td>\n",
       "    </tr>\n",
       "    <tr>\n",
       "      <th>QTA0000000146YSVFJ</th>\n",
       "      <th>ADK0000000364ICFPT</th>\n",
       "      <td>97</td>\n",
       "    </tr>\n",
       "    <tr>\n",
       "      <th>TWD0000000123BVYIM</th>\n",
       "      <th>ADK0000000364ICFPT</th>\n",
       "      <td>57</td>\n",
       "    </tr>\n",
       "    <tr>\n",
       "      <th>ADK0000000000ICFPT</th>\n",
       "      <th>ADK0000000390ICFPT</th>\n",
       "      <td>35</td>\n",
       "    </tr>\n",
       "  </tbody>\n",
       "</table>\n",
       "</div>"
      ],
      "text/plain": [
       "                                       pref\n",
       "person_id          site_id                 \n",
       "MPW0000000272UORBF ADK0000000364ICFPT    64\n",
       "ORY0000000196WQTDH ADK0000000364ICFPT    32\n",
       "QTA0000000146YSVFJ ADK0000000364ICFPT    97\n",
       "TWD0000000123BVYIM ADK0000000364ICFPT    57\n",
       "ADK0000000000ICFPT ADK0000000390ICFPT    35"
      ]
     },
     "execution_count": 6,
     "metadata": {},
     "output_type": "execute_result"
    }
   ],
   "source": [
    "prefs.head()"
   ]
  },
  {
   "cell_type": "markdown",
   "metadata": {
    "nbpresent": {
     "id": "c2b3148c-ac5b-412b-be2f-5ec21f11305b"
    }
   },
   "source": [
    "## Data checks.  Do people and peoplehoursperday correspond?  Compare the indexes"
   ]
  },
  {
   "cell_type": "code",
   "execution_count": 7,
   "metadata": {
    "collapsed": false,
    "nbpresent": {
     "id": "8d23ef4d-b110-41a0-8623-80903fc9af4d"
    }
   },
   "outputs": [
    {
     "name": "stdout",
     "output_type": "stream",
     "text": [
      "PeopleHoursPerDay and People refer to same people?  True\n",
      "Number of people  357\n"
     ]
    }
   ],
   "source": [
    "uniquePeople = set(people.index.get_level_values('id'))\n",
    "print (\"PeopleHoursPerDay and People refer to same people? \", \n",
    "       set(peoplehoursperday.index.get_level_values('id')) == uniquePeople)\n",
    "print (\"Number of people \", len(people))"
   ]
  },
  {
   "cell_type": "markdown",
   "metadata": {
    "nbpresent": {
     "id": "f880dee1-cabb-4646-b8f8-e6b24efb3e09"
    }
   },
   "source": [
    "## Check that the people in the prefs table are in the people table (and see if some people never are). \n"
   ]
  },
  {
   "cell_type": "code",
   "execution_count": 8,
   "metadata": {
    "collapsed": false,
    "nbpresent": {
     "id": "c6a28d42-6b4f-42c8-9b0d-08ff4f94f6ff"
    }
   },
   "outputs": [
    {
     "name": "stdout",
     "output_type": "stream",
     "text": [
      "People in Prefs and People refer to same people?  False\n",
      "Number of people in prefs =  338\n"
     ]
    }
   ],
   "source": [
    "peopleInPrefs = set(prefs.index.get_level_values('person_id'))\n",
    "print (\"People in Prefs and People refer to same people? \", \n",
    "       (len(uniquePeople) == len(peopleInPrefs)) and\n",
    "       (uniquePeople == peopleInPrefs))\n",
    "print (\"Number of people in prefs = \", len(peopleInPrefs))"
   ]
  },
  {
   "cell_type": "markdown",
   "metadata": {
    "nbpresent": {
     "id": "241aa92b-cd0a-49d5-976f-784dae1770c1"
    }
   },
   "source": [
    "## This means that some people can never be assigned.  Now check that the people in the prefs table are in the people table"
   ]
  },
  {
   "cell_type": "code",
   "execution_count": 9,
   "metadata": {
    "collapsed": false,
    "nbpresent": {
     "id": "49614599-6a86-46b5-896e-13c9ec5cf804"
    }
   },
   "outputs": [
    {
     "name": "stdout",
     "output_type": "stream",
     "text": [
      "People in prefs are in people table?  True\n"
     ]
    }
   ],
   "source": [
    "print (\"People in prefs are in people table? \",\n",
    "       peopleInPrefs.issubset(uniquePeople))\n"
   ]
  },
  {
   "cell_type": "markdown",
   "metadata": {
    "nbpresent": {
     "id": "bc9365c4-af8b-4fa1-887e-b6e06f38b536"
    }
   },
   "source": [
    "## Time to check the sites.  Do same checks as with people, but in reverse"
   ]
  },
  {
   "cell_type": "code",
   "execution_count": 10,
   "metadata": {
    "collapsed": false,
    "nbpresent": {
     "id": "cb374af8-3483-41f1-9006-3db72d6e84e3"
    }
   },
   "outputs": [
    {
     "name": "stdout",
     "output_type": "stream",
     "text": [
      "SiteHoursPerDay and Sites refer to same sites?  False\n",
      "Number of sites  548\n",
      "Number of sites from Hours Per day  498\n"
     ]
    }
   ],
   "source": [
    "uniqueSites = set(sites.index.get_level_values('id'))\n",
    "uniqueSitesPerDay = set(sitehoursperday.index.get_level_values('id'))\n",
    "print (\"SiteHoursPerDay and Sites refer to same sites? \",\n",
    "       (len(uniqueSites) == len(uniqueSitesPerDay)) and\n",
    "       uniqueSitesPerDay == uniqueSites)\n",
    "print (\"Number of sites \", len(uniqueSites))\n",
    "print (\"Number of sites from Hours Per day \", len(uniqueSitesPerDay))"
   ]
  },
  {
   "cell_type": "markdown",
   "metadata": {
    "nbpresent": {
     "id": "b1736cc4-e077-469e-bcc9-20c27dfffcd8"
    }
   },
   "source": [
    "## So there are some sites that have no openings on any days.  Let's make a list of them"
   ]
  },
  {
   "cell_type": "code",
   "execution_count": 11,
   "metadata": {
    "collapsed": false,
    "nbpresent": {
     "id": "8ca89dc1-6017-4b03-b5af-c0d9db10a81e"
    }
   },
   "outputs": [
    {
     "name": "stdout",
     "output_type": "stream",
     "text": [
      "Number of sites with no daily hours =  50\n"
     ]
    }
   ],
   "source": [
    "sitesWithNoDays = uniqueSites.difference(uniqueSitesPerDay)\n",
    "print(\"Number of sites with no daily hours = \", len(sitesWithNoDays))"
   ]
  },
  {
   "cell_type": "markdown",
   "metadata": {
    "nbpresent": {
     "id": "f8b78507-8022-4845-95bc-8d9a783a7cd5"
    }
   },
   "source": [
    "## So we have seen that there are 50 sites that have no days they can be assigned.  Now check the sites against the prefs table"
   ]
  },
  {
   "cell_type": "code",
   "execution_count": 12,
   "metadata": {
    "collapsed": false,
    "nbpresent": {
     "id": "d32bfa92-9dae-4142-86b8-781947efecd4"
    }
   },
   "outputs": [
    {
     "name": "stdout",
     "output_type": "stream",
     "text": [
      "Number of sites from prefs =  498\n"
     ]
    }
   ],
   "source": [
    "sitesInPrefs = set(prefs.index.get_level_values('site_id'))\n",
    "print(\"Number of sites from prefs = \", len(sitesInPrefs))"
   ]
  },
  {
   "cell_type": "markdown",
   "metadata": {
    "nbpresent": {
     "id": "85e35bbb-2b2d-4b54-9be0-609cca1dccad"
    }
   },
   "source": [
    "## Take a guess that the data is consistent in this regard"
   ]
  },
  {
   "cell_type": "markdown",
   "metadata": {
    "nbpresent": {
     "id": "3a1f454f-e0dc-4d2f-bfb0-4fa1873b910a"
    }
   },
   "source": [
    "# The next step is to take the prefs table (eligible pairs), merge with the peoplehoursperday and the sitehoursperday, and determine how many hours can possibly be assigned to each pair (the min of the two values)"
   ]
  },
  {
   "cell_type": "code",
   "execution_count": 13,
   "metadata": {
    "collapsed": false,
    "nbpresent": {
     "id": "52aca7e0-0567-4d4e-9e5c-f363a0958704"
    },
    "scrolled": true
   },
   "outputs": [
    {
     "name": "stdout",
     "output_type": "stream",
     "text": [
      "Length of prefs with daily, including zeros =  112364\n",
      "Length of prefs with daily, without zeros =  87621\n"
     ]
    },
    {
     "data": {
      "text/html": [
       "<div>\n",
       "<table border=\"1\" class=\"dataframe\">\n",
       "  <thead>\n",
       "    <tr style=\"text-align: right;\">\n",
       "      <th></th>\n",
       "      <th>person_id</th>\n",
       "      <th>site_id</th>\n",
       "      <th>pref</th>\n",
       "      <th>day</th>\n",
       "      <th>daily_hours</th>\n",
       "    </tr>\n",
       "  </thead>\n",
       "  <tbody>\n",
       "    <tr>\n",
       "      <th>0</th>\n",
       "      <td>MPW0000000272UORBF</td>\n",
       "      <td>ADK0000000364ICFPT</td>\n",
       "      <td>64</td>\n",
       "      <td>Mo</td>\n",
       "      <td>8.0</td>\n",
       "    </tr>\n",
       "    <tr>\n",
       "      <th>1</th>\n",
       "      <td>MPW0000000272UORBF</td>\n",
       "      <td>ADK0000000364ICFPT</td>\n",
       "      <td>64</td>\n",
       "      <td>Tu</td>\n",
       "      <td>8.0</td>\n",
       "    </tr>\n",
       "    <tr>\n",
       "      <th>2</th>\n",
       "      <td>MPW0000000272UORBF</td>\n",
       "      <td>ADK0000000364ICFPT</td>\n",
       "      <td>64</td>\n",
       "      <td>We</td>\n",
       "      <td>8.0</td>\n",
       "    </tr>\n",
       "    <tr>\n",
       "      <th>3</th>\n",
       "      <td>MPW0000000272UORBF</td>\n",
       "      <td>ADK0000000364ICFPT</td>\n",
       "      <td>64</td>\n",
       "      <td>Th</td>\n",
       "      <td>4.0</td>\n",
       "    </tr>\n",
       "    <tr>\n",
       "      <th>4</th>\n",
       "      <td>MPW0000000272UORBF</td>\n",
       "      <td>ADK0000000364ICFPT</td>\n",
       "      <td>64</td>\n",
       "      <td>Fr</td>\n",
       "      <td>4.0</td>\n",
       "    </tr>\n",
       "    <tr>\n",
       "      <th>9</th>\n",
       "      <td>ORY0000000196WQTDH</td>\n",
       "      <td>ADK0000000364ICFPT</td>\n",
       "      <td>32</td>\n",
       "      <td>We</td>\n",
       "      <td>4.0</td>\n",
       "    </tr>\n",
       "    <tr>\n",
       "      <th>10</th>\n",
       "      <td>ORY0000000196WQTDH</td>\n",
       "      <td>ADK0000000364ICFPT</td>\n",
       "      <td>32</td>\n",
       "      <td>Th</td>\n",
       "      <td>4.0</td>\n",
       "    </tr>\n",
       "    <tr>\n",
       "      <th>11</th>\n",
       "      <td>ORY0000000196WQTDH</td>\n",
       "      <td>ADK0000000364ICFPT</td>\n",
       "      <td>32</td>\n",
       "      <td>Fr</td>\n",
       "      <td>4.0</td>\n",
       "    </tr>\n",
       "    <tr>\n",
       "      <th>14</th>\n",
       "      <td>QTA0000000146YSVFJ</td>\n",
       "      <td>ADK0000000364ICFPT</td>\n",
       "      <td>97</td>\n",
       "      <td>Mo</td>\n",
       "      <td>6.0</td>\n",
       "    </tr>\n",
       "    <tr>\n",
       "      <th>15</th>\n",
       "      <td>QTA0000000146YSVFJ</td>\n",
       "      <td>ADK0000000364ICFPT</td>\n",
       "      <td>97</td>\n",
       "      <td>Tu</td>\n",
       "      <td>6.0</td>\n",
       "    </tr>\n",
       "    <tr>\n",
       "      <th>16</th>\n",
       "      <td>QTA0000000146YSVFJ</td>\n",
       "      <td>ADK0000000364ICFPT</td>\n",
       "      <td>97</td>\n",
       "      <td>We</td>\n",
       "      <td>6.0</td>\n",
       "    </tr>\n",
       "    <tr>\n",
       "      <th>17</th>\n",
       "      <td>QTA0000000146YSVFJ</td>\n",
       "      <td>ADK0000000364ICFPT</td>\n",
       "      <td>97</td>\n",
       "      <td>Th</td>\n",
       "      <td>6.0</td>\n",
       "    </tr>\n",
       "    <tr>\n",
       "      <th>21</th>\n",
       "      <td>TWD0000000123BVYIM</td>\n",
       "      <td>ADK0000000364ICFPT</td>\n",
       "      <td>57</td>\n",
       "      <td>Mo</td>\n",
       "      <td>6.0</td>\n",
       "    </tr>\n",
       "    <tr>\n",
       "      <th>22</th>\n",
       "      <td>TWD0000000123BVYIM</td>\n",
       "      <td>ADK0000000364ICFPT</td>\n",
       "      <td>57</td>\n",
       "      <td>Tu</td>\n",
       "      <td>6.0</td>\n",
       "    </tr>\n",
       "    <tr>\n",
       "      <th>23</th>\n",
       "      <td>TWD0000000123BVYIM</td>\n",
       "      <td>ADK0000000364ICFPT</td>\n",
       "      <td>57</td>\n",
       "      <td>We</td>\n",
       "      <td>6.0</td>\n",
       "    </tr>\n",
       "    <tr>\n",
       "      <th>24</th>\n",
       "      <td>TWD0000000123BVYIM</td>\n",
       "      <td>ADK0000000364ICFPT</td>\n",
       "      <td>57</td>\n",
       "      <td>Th</td>\n",
       "      <td>6.0</td>\n",
       "    </tr>\n",
       "    <tr>\n",
       "      <th>25</th>\n",
       "      <td>TWD0000000123BVYIM</td>\n",
       "      <td>ADK0000000364ICFPT</td>\n",
       "      <td>57</td>\n",
       "      <td>Fr</td>\n",
       "      <td>2.0</td>\n",
       "    </tr>\n",
       "    <tr>\n",
       "      <th>29</th>\n",
       "      <td>ADK0000000000ICFPT</td>\n",
       "      <td>ADK0000000390ICFPT</td>\n",
       "      <td>35</td>\n",
       "      <td>Tu</td>\n",
       "      <td>3.0</td>\n",
       "    </tr>\n",
       "    <tr>\n",
       "      <th>36</th>\n",
       "      <td>ADK0000000026ICFPT</td>\n",
       "      <td>ADK0000000390ICFPT</td>\n",
       "      <td>95</td>\n",
       "      <td>Tu</td>\n",
       "      <td>2.0</td>\n",
       "    </tr>\n",
       "    <tr>\n",
       "      <th>37</th>\n",
       "      <td>ADK0000000026ICFPT</td>\n",
       "      <td>ADK0000000390ICFPT</td>\n",
       "      <td>95</td>\n",
       "      <td>We</td>\n",
       "      <td>2.0</td>\n",
       "    </tr>\n",
       "  </tbody>\n",
       "</table>\n",
       "</div>"
      ],
      "text/plain": [
       "             person_id             site_id  pref day  daily_hours\n",
       "0   MPW0000000272UORBF  ADK0000000364ICFPT    64  Mo          8.0\n",
       "1   MPW0000000272UORBF  ADK0000000364ICFPT    64  Tu          8.0\n",
       "2   MPW0000000272UORBF  ADK0000000364ICFPT    64  We          8.0\n",
       "3   MPW0000000272UORBF  ADK0000000364ICFPT    64  Th          4.0\n",
       "4   MPW0000000272UORBF  ADK0000000364ICFPT    64  Fr          4.0\n",
       "9   ORY0000000196WQTDH  ADK0000000364ICFPT    32  We          4.0\n",
       "10  ORY0000000196WQTDH  ADK0000000364ICFPT    32  Th          4.0\n",
       "11  ORY0000000196WQTDH  ADK0000000364ICFPT    32  Fr          4.0\n",
       "14  QTA0000000146YSVFJ  ADK0000000364ICFPT    97  Mo          6.0\n",
       "15  QTA0000000146YSVFJ  ADK0000000364ICFPT    97  Tu          6.0\n",
       "16  QTA0000000146YSVFJ  ADK0000000364ICFPT    97  We          6.0\n",
       "17  QTA0000000146YSVFJ  ADK0000000364ICFPT    97  Th          6.0\n",
       "21  TWD0000000123BVYIM  ADK0000000364ICFPT    57  Mo          6.0\n",
       "22  TWD0000000123BVYIM  ADK0000000364ICFPT    57  Tu          6.0\n",
       "23  TWD0000000123BVYIM  ADK0000000364ICFPT    57  We          6.0\n",
       "24  TWD0000000123BVYIM  ADK0000000364ICFPT    57  Th          6.0\n",
       "25  TWD0000000123BVYIM  ADK0000000364ICFPT    57  Fr          2.0\n",
       "29  ADK0000000000ICFPT  ADK0000000390ICFPT    35  Tu          3.0\n",
       "36  ADK0000000026ICFPT  ADK0000000390ICFPT    95  Tu          2.0\n",
       "37  ADK0000000026ICFPT  ADK0000000390ICFPT    95  We          2.0"
      ]
     },
     "execution_count": 13,
     "metadata": {},
     "output_type": "execute_result"
    }
   ],
   "source": [
    "prefswithdaily = (\n",
    "    pd.merge(prefs.reset_index(), peoplehoursperday.reset_index(), left_on='person_id', right_on='id', how='left')\n",
    "    .drop('id',axis=1)\n",
    "    .rename(columns={'hours' : 'person_hours'})\n",
    "    .merge(sitehoursperday.reset_index(), left_on=['site_id','day'], right_on=['id','day'], how='left')\n",
    "    .drop('id',axis=1)\n",
    "    .rename(columns={'hours' : 'site_hours'})\n",
    "    )\n",
    "prefswithdaily.dropna(axis='index', how='any', subset=['site_hours'], inplace=True)\n",
    "prefswithdaily['daily_hours'] = prefswithdaily[['person_hours','site_hours']].min(axis=1)\n",
    "print(\"Length of prefs with daily, including zeros = \", len(prefswithdaily))\n",
    "prefswithdaily = prefswithdaily.drop(['person_hours','site_hours'],axis=1)[prefswithdaily.daily_hours > 0]\n",
    "print(\"Length of prefs with daily, without zeros = \",len(prefswithdaily))\n",
    "prefswithdaily.head(20)"
   ]
  },
  {
   "cell_type": "code",
   "execution_count": 14,
   "metadata": {
    "collapsed": false,
    "nbpresent": {
     "id": "fc9867e9-9d01-46a2-9b3f-9ef79054fc89"
    }
   },
   "outputs": [
    {
     "data": {
      "text/plain": [
       "(7, 0, 2)"
      ]
     },
     "execution_count": 14,
     "metadata": {},
     "output_type": "execute_result"
    }
   ],
   "source": [
    "from gurobipy import *\n",
    "gurobipy.gurobi.version()"
   ]
  },
  {
   "cell_type": "code",
   "execution_count": 15,
   "metadata": {
    "collapsed": false,
    "nbpresent": {
     "id": "d1cd05b4-d881-48e4-90fb-e5b8b860809b"
    }
   },
   "outputs": [
    {
     "data": {
      "text/html": [
       "<div>\n",
       "<table border=\"1\" class=\"dataframe\">\n",
       "  <thead>\n",
       "    <tr style=\"text-align: right;\">\n",
       "      <th></th>\n",
       "      <th></th>\n",
       "      <th></th>\n",
       "      <th>pref</th>\n",
       "      <th>daily_hours</th>\n",
       "    </tr>\n",
       "    <tr>\n",
       "      <th>person_id</th>\n",
       "      <th>site_id</th>\n",
       "      <th>day</th>\n",
       "      <th></th>\n",
       "      <th></th>\n",
       "    </tr>\n",
       "  </thead>\n",
       "  <tbody>\n",
       "    <tr>\n",
       "      <th rowspan=\"5\" valign=\"top\">MPW0000000272UORBF</th>\n",
       "      <th rowspan=\"5\" valign=\"top\">ADK0000000364ICFPT</th>\n",
       "      <th>Mo</th>\n",
       "      <td>64</td>\n",
       "      <td>8.0</td>\n",
       "    </tr>\n",
       "    <tr>\n",
       "      <th>Tu</th>\n",
       "      <td>64</td>\n",
       "      <td>8.0</td>\n",
       "    </tr>\n",
       "    <tr>\n",
       "      <th>We</th>\n",
       "      <td>64</td>\n",
       "      <td>8.0</td>\n",
       "    </tr>\n",
       "    <tr>\n",
       "      <th>Th</th>\n",
       "      <td>64</td>\n",
       "      <td>4.0</td>\n",
       "    </tr>\n",
       "    <tr>\n",
       "      <th>Fr</th>\n",
       "      <td>64</td>\n",
       "      <td>4.0</td>\n",
       "    </tr>\n",
       "  </tbody>\n",
       "</table>\n",
       "</div>"
      ],
      "text/plain": [
       "                                           pref  daily_hours\n",
       "person_id          site_id            day                   \n",
       "MPW0000000272UORBF ADK0000000364ICFPT Mo     64          8.0\n",
       "                                      Tu     64          8.0\n",
       "                                      We     64          8.0\n",
       "                                      Th     64          4.0\n",
       "                                      Fr     64          4.0"
      ]
     },
     "execution_count": 15,
     "metadata": {},
     "output_type": "execute_result"
    }
   ],
   "source": [
    "allvars = prefswithdaily.set_index(['person_id','site_id','day'])\n",
    "allvars.head()"
   ]
  },
  {
   "cell_type": "code",
   "execution_count": 16,
   "metadata": {
    "collapsed": false,
    "nbpresent": {
     "id": "e0ef4845-efc3-47af-b9a5-6a7b3fae4c2a"
    }
   },
   "outputs": [
    {
     "name": "stdout",
     "output_type": "stream",
     "text": [
      "31427 337 498\n"
     ]
    }
   ],
   "source": [
    "eligiblePairs = set((p,s) for (p,s,d) in allvars.index)\n",
    "eligiblePeople = set(p for p,s in eligiblePairs)\n",
    "eligibleSites = set(s for p,s in eligiblePairs)\n",
    "print (len(eligiblePairs), len(eligiblePeople), len(eligibleSites))"
   ]
  },
  {
   "cell_type": "code",
   "execution_count": 17,
   "metadata": {
    "collapsed": true,
    "nbpresent": {
     "id": "64f0c9a3-7862-49af-b7f9-cb9fd1d7d74f"
    }
   },
   "outputs": [],
   "source": [
    "m=Model(\"sched\")"
   ]
  },
  {
   "cell_type": "code",
   "execution_count": 18,
   "metadata": {
    "collapsed": true
   },
   "outputs": [],
   "source": [
    "allvars['h'] = m.addVars(allvars.index, \n",
    "                         ub=2*allvars.daily_hours.values,\n",
    "                         vtype=GRB.INTEGER,\n",
    "                         name=\"h\").values()\n",
    "allvars['pairday'] = m.addVars(allvars.index,\n",
    "                               vtype=GRB.BINARY,\n",
    "                               name='pairday').values()\n",
    "m.update()"
   ]
  },
  {
   "cell_type": "code",
   "execution_count": 19,
   "metadata": {
    "collapsed": false,
    "nbpresent": {
     "id": "0a9ba483-b242-4453-8816-bb68f80759c8"
    }
   },
   "outputs": [
    {
     "data": {
      "text/html": [
       "<div>\n",
       "<table border=\"1\" class=\"dataframe\">\n",
       "  <thead>\n",
       "    <tr style=\"text-align: right;\">\n",
       "      <th></th>\n",
       "      <th></th>\n",
       "      <th></th>\n",
       "      <th>pref</th>\n",
       "      <th>daily_hours</th>\n",
       "      <th>h</th>\n",
       "      <th>pairday</th>\n",
       "    </tr>\n",
       "    <tr>\n",
       "      <th>person_id</th>\n",
       "      <th>site_id</th>\n",
       "      <th>day</th>\n",
       "      <th></th>\n",
       "      <th></th>\n",
       "      <th></th>\n",
       "      <th></th>\n",
       "    </tr>\n",
       "  </thead>\n",
       "  <tbody>\n",
       "    <tr>\n",
       "      <th rowspan=\"5\" valign=\"top\">MPW0000000272UORBF</th>\n",
       "      <th rowspan=\"5\" valign=\"top\">ADK0000000364ICFPT</th>\n",
       "      <th>Mo</th>\n",
       "      <td>64</td>\n",
       "      <td>8.0</td>\n",
       "      <td>&lt;gurobi.Var h[MPW0000000272UORBF,ADK0000000364ICFPT,Mo]&gt;</td>\n",
       "      <td>&lt;gurobi.Var pairday[MPW0000000272UORBF,ADK0000000364ICFPT,Mo]&gt;</td>\n",
       "    </tr>\n",
       "    <tr>\n",
       "      <th>Tu</th>\n",
       "      <td>64</td>\n",
       "      <td>8.0</td>\n",
       "      <td>&lt;gurobi.Var h[MPW0000000272UORBF,ADK0000000364ICFPT,Tu]&gt;</td>\n",
       "      <td>&lt;gurobi.Var pairday[MPW0000000272UORBF,ADK0000000364ICFPT,Tu]&gt;</td>\n",
       "    </tr>\n",
       "    <tr>\n",
       "      <th>We</th>\n",
       "      <td>64</td>\n",
       "      <td>8.0</td>\n",
       "      <td>&lt;gurobi.Var h[MPW0000000272UORBF,ADK0000000364ICFPT,We]&gt;</td>\n",
       "      <td>&lt;gurobi.Var pairday[MPW0000000272UORBF,ADK0000000364ICFPT,We]&gt;</td>\n",
       "    </tr>\n",
       "    <tr>\n",
       "      <th>Th</th>\n",
       "      <td>64</td>\n",
       "      <td>4.0</td>\n",
       "      <td>&lt;gurobi.Var h[MPW0000000272UORBF,ADK0000000364ICFPT,Th]&gt;</td>\n",
       "      <td>&lt;gurobi.Var pairday[MPW0000000272UORBF,ADK0000000364ICFPT,Th]&gt;</td>\n",
       "    </tr>\n",
       "    <tr>\n",
       "      <th>Fr</th>\n",
       "      <td>64</td>\n",
       "      <td>4.0</td>\n",
       "      <td>&lt;gurobi.Var h[MPW0000000272UORBF,ADK0000000364ICFPT,Fr]&gt;</td>\n",
       "      <td>&lt;gurobi.Var pairday[MPW0000000272UORBF,ADK0000000364ICFPT,Fr]&gt;</td>\n",
       "    </tr>\n",
       "    <tr>\n",
       "      <th rowspan=\"3\" valign=\"top\">ORY0000000196WQTDH</th>\n",
       "      <th rowspan=\"3\" valign=\"top\">ADK0000000364ICFPT</th>\n",
       "      <th>We</th>\n",
       "      <td>32</td>\n",
       "      <td>4.0</td>\n",
       "      <td>&lt;gurobi.Var h[ORY0000000196WQTDH,ADK0000000364ICFPT,We]&gt;</td>\n",
       "      <td>&lt;gurobi.Var pairday[ORY0000000196WQTDH,ADK0000000364ICFPT,We]&gt;</td>\n",
       "    </tr>\n",
       "    <tr>\n",
       "      <th>Th</th>\n",
       "      <td>32</td>\n",
       "      <td>4.0</td>\n",
       "      <td>&lt;gurobi.Var h[ORY0000000196WQTDH,ADK0000000364ICFPT,Th]&gt;</td>\n",
       "      <td>&lt;gurobi.Var pairday[ORY0000000196WQTDH,ADK0000000364ICFPT,Th]&gt;</td>\n",
       "    </tr>\n",
       "    <tr>\n",
       "      <th>Fr</th>\n",
       "      <td>32</td>\n",
       "      <td>4.0</td>\n",
       "      <td>&lt;gurobi.Var h[ORY0000000196WQTDH,ADK0000000364ICFPT,Fr]&gt;</td>\n",
       "      <td>&lt;gurobi.Var pairday[ORY0000000196WQTDH,ADK0000000364ICFPT,Fr]&gt;</td>\n",
       "    </tr>\n",
       "    <tr>\n",
       "      <th rowspan=\"2\" valign=\"top\">QTA0000000146YSVFJ</th>\n",
       "      <th rowspan=\"2\" valign=\"top\">ADK0000000364ICFPT</th>\n",
       "      <th>Mo</th>\n",
       "      <td>97</td>\n",
       "      <td>6.0</td>\n",
       "      <td>&lt;gurobi.Var h[QTA0000000146YSVFJ,ADK0000000364ICFPT,Mo]&gt;</td>\n",
       "      <td>&lt;gurobi.Var pairday[QTA0000000146YSVFJ,ADK0000000364ICFPT,Mo]&gt;</td>\n",
       "    </tr>\n",
       "    <tr>\n",
       "      <th>Tu</th>\n",
       "      <td>97</td>\n",
       "      <td>6.0</td>\n",
       "      <td>&lt;gurobi.Var h[QTA0000000146YSVFJ,ADK0000000364ICFPT,Tu]&gt;</td>\n",
       "      <td>&lt;gurobi.Var pairday[QTA0000000146YSVFJ,ADK0000000364ICFPT,Tu]&gt;</td>\n",
       "    </tr>\n",
       "  </tbody>\n",
       "</table>\n",
       "</div>"
      ],
      "text/plain": [
       "                                           pref  daily_hours  \\\n",
       "person_id          site_id            day                      \n",
       "MPW0000000272UORBF ADK0000000364ICFPT Mo     64          8.0   \n",
       "                                      Tu     64          8.0   \n",
       "                                      We     64          8.0   \n",
       "                                      Th     64          4.0   \n",
       "                                      Fr     64          4.0   \n",
       "ORY0000000196WQTDH ADK0000000364ICFPT We     32          4.0   \n",
       "                                      Th     32          4.0   \n",
       "                                      Fr     32          4.0   \n",
       "QTA0000000146YSVFJ ADK0000000364ICFPT Mo     97          6.0   \n",
       "                                      Tu     97          6.0   \n",
       "\n",
       "                                                                                                  h  \\\n",
       "person_id          site_id            day                                                             \n",
       "MPW0000000272UORBF ADK0000000364ICFPT Mo   <gurobi.Var h[MPW0000000272UORBF,ADK0000000364ICFPT,Mo]>   \n",
       "                                      Tu   <gurobi.Var h[MPW0000000272UORBF,ADK0000000364ICFPT,Tu]>   \n",
       "                                      We   <gurobi.Var h[MPW0000000272UORBF,ADK0000000364ICFPT,We]>   \n",
       "                                      Th   <gurobi.Var h[MPW0000000272UORBF,ADK0000000364ICFPT,Th]>   \n",
       "                                      Fr   <gurobi.Var h[MPW0000000272UORBF,ADK0000000364ICFPT,Fr]>   \n",
       "ORY0000000196WQTDH ADK0000000364ICFPT We   <gurobi.Var h[ORY0000000196WQTDH,ADK0000000364ICFPT,We]>   \n",
       "                                      Th   <gurobi.Var h[ORY0000000196WQTDH,ADK0000000364ICFPT,Th]>   \n",
       "                                      Fr   <gurobi.Var h[ORY0000000196WQTDH,ADK0000000364ICFPT,Fr]>   \n",
       "QTA0000000146YSVFJ ADK0000000364ICFPT Mo   <gurobi.Var h[QTA0000000146YSVFJ,ADK0000000364ICFPT,Mo]>   \n",
       "                                      Tu   <gurobi.Var h[QTA0000000146YSVFJ,ADK0000000364ICFPT,Tu]>   \n",
       "\n",
       "                                                                                                  pairday  \n",
       "person_id          site_id            day                                                                  \n",
       "MPW0000000272UORBF ADK0000000364ICFPT Mo   <gurobi.Var pairday[MPW0000000272UORBF,ADK0000000364ICFPT,Mo]>  \n",
       "                                      Tu   <gurobi.Var pairday[MPW0000000272UORBF,ADK0000000364ICFPT,Tu]>  \n",
       "                                      We   <gurobi.Var pairday[MPW0000000272UORBF,ADK0000000364ICFPT,We]>  \n",
       "                                      Th   <gurobi.Var pairday[MPW0000000272UORBF,ADK0000000364ICFPT,Th]>  \n",
       "                                      Fr   <gurobi.Var pairday[MPW0000000272UORBF,ADK0000000364ICFPT,Fr]>  \n",
       "ORY0000000196WQTDH ADK0000000364ICFPT We   <gurobi.Var pairday[ORY0000000196WQTDH,ADK0000000364ICFPT,We]>  \n",
       "                                      Th   <gurobi.Var pairday[ORY0000000196WQTDH,ADK0000000364ICFPT,Th]>  \n",
       "                                      Fr   <gurobi.Var pairday[ORY0000000196WQTDH,ADK0000000364ICFPT,Fr]>  \n",
       "QTA0000000146YSVFJ ADK0000000364ICFPT Mo   <gurobi.Var pairday[QTA0000000146YSVFJ,ADK0000000364ICFPT,Mo]>  \n",
       "                                      Tu   <gurobi.Var pairday[QTA0000000146YSVFJ,ADK0000000364ICFPT,Tu]>  "
      ]
     },
     "execution_count": 19,
     "metadata": {},
     "output_type": "execute_result"
    }
   ],
   "source": [
    "pd.set_option('display.max_colwidth', 1000)\n",
    "allvars.head(10)"
   ]
  },
  {
   "cell_type": "code",
   "execution_count": 20,
   "metadata": {
    "collapsed": false,
    "nbpresent": {
     "id": "0d2a9f7e-4fb7-402a-96f5-8135ca545caa"
    }
   },
   "outputs": [
    {
     "data": {
      "text/html": [
       "<div>\n",
       "<table border=\"1\" class=\"dataframe\">\n",
       "  <thead>\n",
       "    <tr style=\"text-align: right;\">\n",
       "      <th></th>\n",
       "      <th></th>\n",
       "      <th>z</th>\n",
       "    </tr>\n",
       "    <tr>\n",
       "      <th>person_id</th>\n",
       "      <th>site_id</th>\n",
       "      <th></th>\n",
       "    </tr>\n",
       "  </thead>\n",
       "  <tbody>\n",
       "    <tr>\n",
       "      <th>MPW0000000142UORBF</th>\n",
       "      <th>ADK0000000650ICFPT</th>\n",
       "      <td>&lt;gurobi.Var z[MPW0000000142UORBF,ADK0000000650ICFPT]&gt;</td>\n",
       "    </tr>\n",
       "    <tr>\n",
       "      <th>CFM0000000028KEHRV</th>\n",
       "      <th>UXE0000000904CWZJN</th>\n",
       "      <td>&lt;gurobi.Var z[CFM0000000028KEHRV,UXE0000000904CWZJN]&gt;</td>\n",
       "    </tr>\n",
       "    <tr>\n",
       "      <th>UXE0000000020CWZJN</th>\n",
       "      <th>PSZ0000000431XRUEI</th>\n",
       "      <td>&lt;gurobi.Var z[UXE0000000020CWZJN,PSZ0000000431XRUEI]&gt;</td>\n",
       "    </tr>\n",
       "    <tr>\n",
       "      <th>YBI0000000258GADNR</th>\n",
       "      <th>LOV0000000739TNQAE</th>\n",
       "      <td>&lt;gurobi.Var z[YBI0000000258GADNR,LOV0000000739TNQAE]&gt;</td>\n",
       "    </tr>\n",
       "    <tr>\n",
       "      <th>NQX0000000117VPSCG</th>\n",
       "      <th>BEL0000000391JDGQU</th>\n",
       "      <td>&lt;gurobi.Var z[NQX0000000117VPSCG,BEL0000000391JDGQU]&gt;</td>\n",
       "    </tr>\n",
       "  </tbody>\n",
       "</table>\n",
       "</div>"
      ],
      "text/plain": [
       "                                                                                           z\n",
       "person_id          site_id                                                                  \n",
       "MPW0000000142UORBF ADK0000000650ICFPT  <gurobi.Var z[MPW0000000142UORBF,ADK0000000650ICFPT]>\n",
       "CFM0000000028KEHRV UXE0000000904CWZJN  <gurobi.Var z[CFM0000000028KEHRV,UXE0000000904CWZJN]>\n",
       "UXE0000000020CWZJN PSZ0000000431XRUEI  <gurobi.Var z[UXE0000000020CWZJN,PSZ0000000431XRUEI]>\n",
       "YBI0000000258GADNR LOV0000000739TNQAE  <gurobi.Var z[YBI0000000258GADNR,LOV0000000739TNQAE]>\n",
       "NQX0000000117VPSCG BEL0000000391JDGQU  <gurobi.Var z[NQX0000000117VPSCG,BEL0000000391JDGQU]>"
      ]
     },
     "execution_count": 20,
     "metadata": {},
     "output_type": "execute_result"
    }
   ],
   "source": [
    "zvars = pd.DataFrame({'z' : m.addVars(eligiblePairs, vtype=GRB.BINARY, name=\"z\").values()}, \n",
    "                     index=pd.MultiIndex.from_tuples(eligiblePairs, names=['person_id','site_id']))\n",
    "m.update()\n",
    "zvars.head()"
   ]
  },
  {
   "cell_type": "code",
   "execution_count": 21,
   "metadata": {
    "collapsed": false,
    "nbpresent": {
     "id": "55f78c04-99dc-4543-b6b1-a4c6d059a046"
    }
   },
   "outputs": [
    {
     "name": "stdout",
     "output_type": "stream",
     "text": [
      "Number of variables  207665\n"
     ]
    },
    {
     "data": {
      "text/html": [
       "<div>\n",
       "<table border=\"1\" class=\"dataframe\">\n",
       "  <thead>\n",
       "    <tr style=\"text-align: right;\">\n",
       "      <th></th>\n",
       "      <th>excess</th>\n",
       "      <th>shortage</th>\n",
       "    </tr>\n",
       "    <tr>\n",
       "      <th>site_id</th>\n",
       "      <th></th>\n",
       "      <th></th>\n",
       "    </tr>\n",
       "  </thead>\n",
       "  <tbody>\n",
       "    <tr>\n",
       "      <th>LOV0000000843TNQAE</th>\n",
       "      <td>&lt;gurobi.Var excess[LOV0000000843TNQAE]&gt;</td>\n",
       "      <td>&lt;gurobi.Var shortage[LOV0000000843TNQAE]&gt;</td>\n",
       "    </tr>\n",
       "    <tr>\n",
       "      <th>ADK0000000364ICFPT</th>\n",
       "      <td>&lt;gurobi.Var excess[ADK0000000364ICFPT]&gt;</td>\n",
       "      <td>&lt;gurobi.Var shortage[ADK0000000364ICFPT]&gt;</td>\n",
       "    </tr>\n",
       "    <tr>\n",
       "      <th>TWD0000000773BVYIM</th>\n",
       "      <td>&lt;gurobi.Var excess[TWD0000000773BVYIM]&gt;</td>\n",
       "      <td>&lt;gurobi.Var shortage[TWD0000000773BVYIM]&gt;</td>\n",
       "    </tr>\n",
       "    <tr>\n",
       "      <th>RUB0000000875ZTWGK</th>\n",
       "      <td>&lt;gurobi.Var excess[RUB0000000875ZTWGK]&gt;</td>\n",
       "      <td>&lt;gurobi.Var shortage[RUB0000000875ZTWGK]&gt;</td>\n",
       "    </tr>\n",
       "    <tr>\n",
       "      <th>SVC0000000512AUXHL</th>\n",
       "      <td>&lt;gurobi.Var excess[SVC0000000512AUXHL]&gt;</td>\n",
       "      <td>&lt;gurobi.Var shortage[SVC0000000512AUXHL]&gt;</td>\n",
       "    </tr>\n",
       "  </tbody>\n",
       "</table>\n",
       "</div>"
      ],
      "text/plain": [
       "                                                     excess  \\\n",
       "site_id                                                       \n",
       "LOV0000000843TNQAE  <gurobi.Var excess[LOV0000000843TNQAE]>   \n",
       "ADK0000000364ICFPT  <gurobi.Var excess[ADK0000000364ICFPT]>   \n",
       "TWD0000000773BVYIM  <gurobi.Var excess[TWD0000000773BVYIM]>   \n",
       "RUB0000000875ZTWGK  <gurobi.Var excess[RUB0000000875ZTWGK]>   \n",
       "SVC0000000512AUXHL  <gurobi.Var excess[SVC0000000512AUXHL]>   \n",
       "\n",
       "                                                     shortage  \n",
       "site_id                                                        \n",
       "LOV0000000843TNQAE  <gurobi.Var shortage[LOV0000000843TNQAE]>  \n",
       "ADK0000000364ICFPT  <gurobi.Var shortage[ADK0000000364ICFPT]>  \n",
       "TWD0000000773BVYIM  <gurobi.Var shortage[TWD0000000773BVYIM]>  \n",
       "RUB0000000875ZTWGK  <gurobi.Var shortage[RUB0000000875ZTWGK]>  \n",
       "SVC0000000512AUXHL  <gurobi.Var shortage[SVC0000000512AUXHL]>  "
      ]
     },
     "execution_count": 21,
     "metadata": {},
     "output_type": "execute_result"
    }
   ],
   "source": [
    "siteSlackVars = pd.DataFrame(\n",
    "    { 'shortage' : m.addVars(eligibleSites, vtype=GRB.CONTINUOUS, name='shortage').values(),\n",
    "      'excess' : m.addVars(eligibleSites, vtype=GRB.CONTINUOUS, name='excess').values() },\n",
    "    index=pd.Index(eligibleSites, name='site_id'))\n",
    "m.update()\n",
    "print(\"Number of variables \", m.NumVars)\n",
    "siteSlackVars.head()\n"
   ]
  },
  {
   "cell_type": "markdown",
   "metadata": {
    "nbpresent": {
     "id": "11c3e925-ceef-4019-969a-aacb9da1f9a8"
    }
   },
   "source": [
    "## Define the objective function"
   ]
  },
  {
   "cell_type": "code",
   "execution_count": 22,
   "metadata": {
    "collapsed": false,
    "nbpresent": {
     "id": "5b6032b0-5f62-4cab-bdb7-3e53d38d053a"
    }
   },
   "outputs": [],
   "source": [
    "m.setObjective(quicksum(siteSlackVars.shortage), sense=GRB.MINIMIZE)\n"
   ]
  },
  {
   "cell_type": "markdown",
   "metadata": {},
   "source": [
    "## Define a helper function to name variables and constraints"
   ]
  },
  {
   "cell_type": "code",
   "execution_count": 23,
   "metadata": {
    "collapsed": false,
    "nbpresent": {
     "id": "fab60a6a-a74d-4766-920a-a63a2b0756cb"
    }
   },
   "outputs": [],
   "source": [
    "\n",
    "import collections\n",
    "def lpnamer(prefix, tup):\n",
    "    if isinstance(tup, str):\n",
    "        result = prefix + '[' + tup + ']'\n",
    "    elif not isinstance(tup, collections.Iterable):\n",
    "        result = prefix + '[' + str(tup) + ']'\n",
    "    else:\n",
    "        tup2 = [val for val in tup]\n",
    "        tmp = '[' + ','.join(tup2) + ']'\n",
    "        result = prefix + tmp\n",
    "    return result"
   ]
  },
  {
   "cell_type": "markdown",
   "metadata": {
    "nbpresent": {
     "id": "34251480-6220-40b6-a067-08a1f9aafc5b"
    }
   },
   "source": [
    "## Now time to do the constraints.  This version will mimic the OPL model"
   ]
  },
  {
   "cell_type": "code",
   "execution_count": 24,
   "metadata": {
    "collapsed": false,
    "nbpresent": {
     "id": "e01bf187-e6c3-4f2b-80ec-9706d8ebb6d1"
    },
    "scrolled": true
   },
   "outputs": [
    {
     "name": "stdout",
     "output_type": "stream",
     "text": [
      "h[abc] h[abc,def] h[abc,def,ghi]\n",
      "<class 'tuple'>\n"
     ]
    }
   ],
   "source": [
    "print (lpnamer('h','abc'), lpnamer('h',('abc','def')), lpnamer('h',('abc','def','ghi')))\n",
    "for it in allvars.head(1).itertuples():\n",
    "    print(type(it.Index))"
   ]
  },
  {
   "cell_type": "code",
   "execution_count": 25,
   "metadata": {
    "collapsed": false,
    "nbpresent": {
     "id": "f03d0248-a235-4e18-bddc-13b8046fa5c8"
    }
   },
   "outputs": [
    {
     "name": "stdout",
     "output_type": "stream",
     "text": [
      "1271\n"
     ]
    }
   ],
   "source": [
    "\n",
    "conDF = pd.DataFrame(\n",
    "        allvars.h.groupby(level=['person_id','day']).aggregate(quicksum).rename('thesum'))\n",
    "conDF.index.names = ['id', 'day']\n",
    "conDF = conDF.merge(peoplehoursperday, left_index=True, right_index=True, how='left')\n",
    "for it in conDF.itertuples():\n",
    "    m.addConstr(it.thesum <= 2*it.hours, name=lpnamer('PersonHoursPerDay',it.Index))\n",
    "m.update()\n",
    "print(m.NumConstrs)\n"
   ]
  },
  {
   "cell_type": "code",
   "execution_count": 26,
   "metadata": {
    "collapsed": false,
    "nbpresent": {
     "id": "1fa90ca1-fcf4-40fb-bc37-7aa884a81027"
    }
   },
   "outputs": [
    {
     "name": "stdout",
     "output_type": "stream",
     "text": [
      "2975\n"
     ]
    }
   ],
   "source": [
    "conDF = pd.DataFrame(allvars.h.groupby(level=['site_id','day']).aggregate(quicksum).rename('thesum'))\n",
    "conDF.index.names = ['id', 'day']\n",
    "conDF = conDF.merge(sitehoursperday, left_index=True, right_index=True, how='left')\n",
    "for it in conDF.itertuples():\n",
    "    m.addConstr(it.thesum <= 2*it.hours, name=lpnamer('SiteHoursPerDay',it.Index))\n",
    "m.update()\n",
    "print(m.NumConstrs)\n"
   ]
  },
  {
   "cell_type": "code",
   "execution_count": 27,
   "metadata": {
    "collapsed": false,
    "nbpresent": {
     "id": "72694efd-4485-4f4a-af90-b89bb6f77d9f"
    }
   },
   "outputs": [
    {
     "name": "stdout",
     "output_type": "stream",
     "text": [
      "3312\n"
     ]
    }
   ],
   "source": [
    "\n",
    "conDF = pd.DataFrame(allvars.h.groupby(level='person_id').aggregate(quicksum).rename('thesum'))\n",
    "conDF.index.names = ['id']\n",
    "conDF = conDF.merge(people, left_index=True, right_index=True, how='left')\n",
    "for it in conDF.itertuples():\n",
    "    m.addConstr(it.thesum <= 2*it.total_hrs_per_week, name=lpnamer('TotalHoursPerWeek',it.Index))\n",
    "m.update()\n",
    "print(m.NumConstrs)\n",
    "\n"
   ]
  },
  {
   "cell_type": "code",
   "execution_count": 28,
   "metadata": {
    "collapsed": false,
    "nbpresent": {
     "id": "5600c742-214c-459e-ba9f-9785d2b5c946"
    }
   },
   "outputs": [
    {
     "name": "stdout",
     "output_type": "stream",
     "text": [
      "178554\n"
     ]
    }
   ],
   "source": [
    "for it in allvars.itertuples() :\n",
    "    m.addConstr(it.h <= 2*it.daily_hours*it.pairday, name=lpnamer(\"PairDayUp\",it.Index))\n",
    "    m.addConstr(2*it.pairday <= it.h, name=lpnamer(\"PairDayLow\",it.Index)) # One hour minimum\n",
    "m.update()\n",
    "print(m.NumConstrs)"
   ]
  },
  {
   "cell_type": "code",
   "execution_count": 29,
   "metadata": {
    "collapsed": false,
    "nbpresent": {
     "id": "526edafc-4ae7-434b-a958-7419d10396f9"
    }
   },
   "outputs": [
    {
     "name": "stdout",
     "output_type": "stream",
     "text": [
      "178891\n"
     ]
    }
   ],
   "source": [
    "\n",
    "conDF = pd.DataFrame(allvars.pairday.groupby(level='person_id').aggregate(quicksum).rename('thesum'))\n",
    "conDF.index.names = ['id']\n",
    "conDF = conDF.merge(people, left_index=True, right_index=True, how='left')\n",
    "for it in conDF.itertuples():\n",
    "    m.addConstr(it.thesum <= it.days_per_week, name=lpnamer('TotalDaysPerWeek[',it.Index))\n",
    "m.update()\n",
    "print(m.NumConstrs)"
   ]
  },
  {
   "cell_type": "code",
   "execution_count": 30,
   "metadata": {
    "collapsed": false,
    "nbpresent": {
     "id": "2d5d8809-6f76-444b-9ebf-1338ba6738b3"
    }
   },
   "outputs": [
    {
     "name": "stdout",
     "output_type": "stream",
     "text": [
      "241745\n"
     ]
    }
   ],
   "source": [
    "agggb = allvars.pairday.groupby(level=['person_id','site_id']).agg(quicksum).rename('sumpairday')\n",
    "aggzmerge = pd.merge(pd.DataFrame(agggb), pd.DataFrame(zvars), left_index=True, right_index=True, how='inner')\n",
    "for it in aggzmerge.itertuples():\n",
    "    m.addConstr(2*it.z <= it.sumpairday, name=lpnamer('ZVarUp',it.Index))\n",
    "    m.addConstr(it.sumpairday <= it.sumpairday.size()*it.z, name=lpnamer('ZVarLow',it.Index))\n",
    "m.update()\n",
    "print(m.NumConstrs)\n"
   ]
  },
  {
   "cell_type": "markdown",
   "metadata": {
    "nbpresent": {
     "id": "50df7c20-d03d-4369-88b1-c82182e2881b"
    }
   },
   "source": [
    "### Define the shortage constraints, for each site, measure how well we can cover"
   ]
  },
  {
   "cell_type": "code",
   "execution_count": 31,
   "metadata": {
    "collapsed": false,
    "nbpresent": {
     "id": "62b2f6d1-393e-455e-958b-7e8dc2d10bd6"
    }
   },
   "outputs": [
    {
     "name": "stdout",
     "output_type": "stream",
     "text": [
      "242243\n"
     ]
    }
   ],
   "source": [
    "shortageSums = pd.DataFrame(allvars.h.groupby(level='site_id').agg(quicksum).rename('thesum'))\n",
    "shortageSums.index.names = ['id']\n",
    "conDF = (siteSlackVars\n",
    "         .merge(shortageSums, left_index=True, right_index=True, how='left')\n",
    "         .merge(sites, left_index=True, right_index=True, how='left')\n",
    "         )\n",
    "for it in conDF.itertuples():\n",
    "    m.addConstr(it.thesum + it.shortage - it.excess == 2*it.num_hours, name=lpnamer('SiteHours',it.Index))\n",
    "m.update()\n",
    "print(m.NumConstrs)\n"
   ]
  },
  {
   "cell_type": "code",
   "execution_count": 32,
   "metadata": {
    "collapsed": false,
    "nbpresent": {
     "id": "05d0c8ce-4701-48ee-9358-05f1c1e4913d"
    }
   },
   "outputs": [
    {
     "name": "stdout",
     "output_type": "stream",
     "text": [
      "Changed value of parameter TimeLimit to 300.0\n",
      "   Prev: 1e+100  Min: 0.0  Max: 1e+100  Default: 1e+100\n",
      "Changed value of parameter CutPasses to 1\n",
      "   Prev: -1  Min: -1  Max: 2000000000  Default: -1\n"
     ]
    }
   ],
   "source": [
    "\n",
    "m.setParam(GRB.Param.TimeLimit, 300)\n",
    "m.setParam(GRB.Param.CutPasses, 1)\n"
   ]
  },
  {
   "cell_type": "code",
   "execution_count": 33,
   "metadata": {
    "collapsed": false,
    "nbpresent": {
     "id": "1dba8750-2790-4248-9178-5851db2c50e7"
    }
   },
   "outputs": [
    {
     "name": "stdout",
     "output_type": "stream",
     "text": [
      "Optimize a model with 242243 rows, 207665 columns and 1027681 nonzeros\n",
      "Variable types: 996 continuous, 206669 integer (119048 binary)\n",
      "Coefficient statistics:\n",
      "  Matrix range     [1e+00, 2e+01]\n",
      "  Objective range  [1e+00, 1e+00]\n",
      "  Bounds range     [1e+00, 2e+01]\n",
      "  RHS range        [1e+00, 4e+02]\n",
      "Found heuristic solution: objective 9934\n",
      "Presolve removed 115651 rows and 87959 columns\n",
      "Presolve time: 2.93s\n",
      "Presolved: 126592 rows, 119706 columns, 620126 nonzeros\n",
      "Variable types: 0 continuous, 119706 integer (69509 binary)\n",
      "\n",
      "Root simplex log...\n",
      "\n",
      "Iteration    Objective       Primal Inf.    Dual Inf.      Time\n",
      "   15224    4.2500020e+03   4.145890e+03   0.000000e+00      5s\n",
      "   21471    4.2500000e+03   0.000000e+00   0.000000e+00      9s\n",
      "\n",
      "Root relaxation: objective 4.250000e+03, 21471 iterations, 5.27 seconds\n",
      "Total elapsed time = 19.13s\n",
      "Total elapsed time = 32.64s\n",
      "Total elapsed time = 41.90s\n",
      "Total elapsed time = 49.83s\n",
      "\n",
      "    Nodes    |    Current Node    |     Objective Bounds      |     Work\n",
      " Expl Unexpl |  Obj  Depth IntInf | Incumbent    BestBd   Gap | It/Node Time\n",
      "\n",
      "     0     0 4250.00000    0  574 9934.00000 4250.00000  57.2%     -   55s\n",
      "H    0     0                    4834.0000000 4250.00000  12.1%     -   57s\n",
      "     0     0 4250.22846    0  452 4834.00000 4250.22846  12.1%     -   90s\n",
      "H    0     0                    4618.0000000 4250.22846  7.96%     -   94s\n",
      "H    0     0                    4616.0000000 4250.22846  7.92%     -   94s\n",
      "H    0     2                    4610.0000000 4250.22846  7.80%     -  104s\n",
      "     0     2 4250.22846    0  421 4610.00000 4250.22846  7.80%     -  104s\n",
      "     1     4 4250.22846    1  421 4610.00000 4250.22846  7.80% 23127  105s\n",
      "    19    16 4251.52323    5  802 4610.00000 4251.37778  7.78%  2931  110s\n",
      "H   27    28                    4584.0000000 4251.37778  7.26%  2067  113s\n",
      "H   28    28                    4582.0000000 4251.37778  7.22%  1994  113s\n",
      "H   29    29                    4577.0000000 4251.37778  7.11%  1925  113s\n",
      "    39    34 4251.52323    8  801 4577.00000 4251.37778  7.11%  1435  118s\n",
      "    55    49 4254.10476   10  813 4577.00000 4251.37778  7.11%  1034  121s\n",
      "H   57    49                    4568.0000000 4251.37778  6.93%   998  121s\n",
      "H   60    51                    4565.0000000 4251.37778  6.87%   950  121s\n",
      "H  100    94                    4559.0000000 4251.37778  6.75%   592  124s\n",
      "H  111   104                    4557.0000000 4251.37778  6.71%   535  124s\n",
      "   117   108 4259.35000   18  746 4557.00000 4251.37778  6.71%   517  126s\n",
      "H  149   141                    4556.0000000 4251.37778  6.69%   420  127s\n",
      "H  162   152                    4551.0000000 4251.37778  6.58%   387  127s\n",
      "H  214   193                    4545.0000000 4251.37778  6.46%   311  129s\n",
      "H  219   195                    4541.0000000 4251.37778  6.38%   304  129s\n",
      "   232   211 4287.40000   44  657 4541.00000 4251.37778  6.38%   294  130s\n",
      "H  272   246                    4531.0000000 4251.37778  6.17%   254  131s\n",
      "H  331   303                    4518.0000000 4251.37778  5.90%   216  134s\n",
      "   357   330 4283.00000   70  570 4518.00000 4251.37778  5.90%   202  135s\n",
      "H  390   361                    4517.0000000 4251.37778  5.88%   188  136s\n",
      "H  397   369                    4510.0000000 4251.37778  5.73%   185  136s\n",
      "H  448   417                    4504.0000000 4251.37778  5.61%   171  139s\n",
      "   460   422 4283.00000   90  600 4504.00000 4251.37778  5.61%   168  140s\n",
      "H  502   464                    4497.0000000 4251.37778  5.46%   157  142s\n",
      "H  510   472                    4489.0000000 4251.37778  5.29%   156  142s\n",
      "H  573   534                    4485.0000000 4251.37778  5.21%   144  144s\n",
      "   576   542 4283.00000  113  592 4485.00000 4251.37778  5.21%   144  146s\n",
      "H  618   575                    4484.0000000 4251.37778  5.19%   142  148s\n",
      "H  631   588                    4480.0000000 4251.37778  5.10%   142  148s\n",
      "H  685   640                    4473.0000000 4251.37778  4.95%   135  151s\n",
      "H  686   641                    4472.0000000 4251.37778  4.93%   134  151s\n",
      "H  746   696                    4468.0000000 4251.37778  4.85%   133  156s\n",
      "H  748   699                    4465.0000000 4251.37778  4.78%   132  156s\n",
      "H  810   759                    4464.0000000 4251.37778  4.76%   131  160s\n",
      "H  825   774                    4461.0000000 4251.37778  4.70%   132  160s\n",
      "H  888   843                    4454.0000000 4251.37778  4.55%   133  165s\n",
      "H  984   933                    4452.0000000 4251.37778  4.51%   128  169s\n",
      "  1028   976 4284.00000  186  635 4452.00000 4251.37778  4.51%   125  173s\n",
      "H 1038   976                    4442.0000000 4251.37778  4.29%   125  173s\n",
      "  1076  1021 4296.00000  194  639 4442.00000 4251.37778  4.29%   123  177s\n",
      "H 1095  1025                    4437.0000000 4251.37778  4.18%   124  177s\n",
      "  1126  1065 4284.00000  196  673 4437.00000 4251.37778  4.18%   122  180s\n",
      "H 1170  1090                    4436.0000000 4251.37778  4.16%   119  180s\n",
      "H 1204  1118                    4429.0000000 4251.37778  4.01%   119  184s\n",
      "H 1233  1167                    4425.0000000 4251.37778  3.92%   119  186s\n",
      "  1284  1207 4288.00000  219  635 4425.00000 4251.37778  3.92%   117  190s\n",
      "H 1313  1220                    4422.0000000 4251.37778  3.86%   116  190s\n",
      "H 1429  1342                    4419.0000000 4251.37778  3.79%   112  196s\n",
      "H 1466  1377                    4418.0000000 4251.37778  3.77%   110  197s\n",
      "  1494  1402 4288.00000  255  631 4418.00000 4251.37778  3.77%   109  200s\n",
      "H 1523  1416                    4416.0000000 4251.37778  3.73%   108  201s\n",
      "  1651  1534 4288.00000  280  638 4416.00000 4251.37778  3.73%   105  208s\n",
      "H 1685  1563                    4415.0000000 4251.37778  3.71%   104  208s\n",
      "H 1694  1571                    4414.0000000 4251.37778  3.68%   104  208s\n",
      "  1712  1593 4288.00000  289  645 4414.00000 4251.37778  3.68%   104  212s\n",
      "H 1721  1593                    4412.0000000 4251.37778  3.64%   104  212s\n",
      "  1782  1649 4288.00000  296  628 4412.00000 4251.37778  3.64%   102  216s\n",
      "H 1820  1667                    4404.0000000 4251.37778  3.47%   101  216s\n",
      "  1874  1728 4288.00000  311  641 4404.00000 4251.37778  3.47%  99.4  220s\n",
      "H 1887  1728                    4402.0000000 4251.37778  3.42%  99.2  220s\n",
      "H 1931  1769                    4401.0000000 4251.37778  3.40%  98.8  220s\n",
      "  1956  1796 4288.00000  327  689 4401.00000 4251.37778  3.40%  98.5  225s\n",
      "H 1972  1796                    4400.0000000 4251.37778  3.38%  97.9  225s\n",
      "H 1998  1817                    4399.0000000 4251.37778  3.36%  97.4  225s\n",
      "  2040  1872 4288.00000  346  683 4399.00000 4251.37778  3.36%  98.1  230s\n",
      "  2137  1955 4288.00000  360  682 4399.00000 4251.37778  3.36%  96.9  235s\n",
      "H 2180  1971                    4396.0000000 4251.37778  3.29%  95.9  235s\n",
      "  2241  2060 4288.00000  372  668 4396.00000 4251.37778  3.29%  95.3  240s\n",
      "H 2289  2081                    4394.0000000 4251.37778  3.25%  95.7  240s\n",
      "H 2334  2124                    4389.0000000 4251.37778  3.14%  95.8  240s\n",
      "  2346  2157 4288.00000  388  692 4389.00000 4251.37778  3.14%  95.5  245s\n",
      "  2434  2234 4288.00000  398  680 4389.00000 4251.37778  3.14%  95.1  250s\n",
      "H 2479  2273                    4385.0000000 4251.37778  3.05%  95.0  250s\n",
      "H 2539  2332                    4380.0000000 4251.37778  2.94%  94.0  256s\n",
      "  2638  2421 4288.00000  426  686 4380.00000 4251.37778  2.94%  93.9  261s\n",
      "  2736  2500 4288.00000  454  661 4380.00000 4251.37778  2.94%  92.5  267s\n",
      "H 2755  2517                    4378.0000000 4251.37778  2.89%  92.4  267s\n",
      "H 2832  2592                    4374.0000000 4251.37778  2.80%  91.4  273s\n",
      "  2980  2715 4288.00000  491  743 4374.00000 4251.37778  2.80%  89.5  283s\n",
      "  3054  2782 4288.00000  499  685 4374.00000 4251.37778  2.80%  89.8  291s\n",
      "H 3153  2872                    4373.0000000 4251.37778  2.78%  89.1  297s\n",
      "H 3233  2942                    4372.0000000 4251.37778  2.76%  88.6  300s\n",
      "H 3245  2951                    4371.0000000 4251.37778  2.74%  88.5  300s\n",
      "H 3248  2955                    4363.0000000 4251.37778  2.56%  88.4  300s\n",
      "\n",
      "Cutting planes:\n",
      "  Gomory: 10\n",
      "  Cover: 615\n",
      "  Implied bound: 197\n",
      "  Clique: 2\n",
      "  MIR: 57\n",
      "  StrongCG: 2\n",
      "  Flow cover: 70\n",
      "  Zero half: 5\n",
      "\n",
      "Explored 3270 nodes (581911 simplex iterations) in 300.23 seconds\n",
      "Thread count was 8 (of 8 available processors)\n",
      "\n",
      "Solution count 10: 4363 4371 4372 ... 4394\n",
      "Pool objective bound 4252\n",
      "\n",
      "Time limit reached\n",
      "Best objective 4.363000000000e+03, best bound 4.252000000000e+03, gap 2.5441%\n"
     ]
    }
   ],
   "source": [
    "m.optimize()"
   ]
  },
  {
   "cell_type": "code",
   "execution_count": 34,
   "metadata": {
    "collapsed": false,
    "nbpresent": {
     "id": "f0306fc7-6dcb-43ca-8f0c-24c8e6eba295"
    }
   },
   "outputs": [],
   "source": [
    "m.addConstr(quicksum(siteSlackVars.shortage) <= m.ObjVal+0.25, name='shortageBound')\n",
    "m.setObjective(quicksum(siteSlackVars.excess))\n"
   ]
  },
  {
   "cell_type": "code",
   "execution_count": 35,
   "metadata": {
    "collapsed": false,
    "nbpresent": {
     "id": "0e306788-4eff-477c-aa1b-93b90899301b"
    }
   },
   "outputs": [
    {
     "name": "stdout",
     "output_type": "stream",
     "text": [
      "Reset all parameters to their default values\n",
      "Changed value of parameter TimeLimit to 180.0\n",
      "   Prev: 1e+100  Min: 0.0  Max: 1e+100  Default: 1e+100\n",
      "Changed value of parameter Presolve to 0\n",
      "   Prev: -1  Min: -1  Max: 2  Default: -1\n",
      "Changed value of parameter Cuts to 0\n",
      "   Prev: -1  Min: -1  Max: 3  Default: -1\n",
      "Optimize a model with 242244 rows, 207665 columns and 1028179 nonzeros\n",
      "Variable types: 996 continuous, 206669 integer (119048 binary)\n",
      "Coefficient statistics:\n",
      "  Matrix range     [1e+00, 2e+01]\n",
      "  Objective range  [1e+00, 1e+00]\n",
      "  Bounds range     [1e+00, 2e+01]\n",
      "  RHS range        [1e+00, 4e+03]\n",
      "\n",
      "Loaded MIP start with objective 399\n",
      "\n",
      "Variable types: 996 continuous, 206669 integer (123834 binary)\n",
      "\n",
      "Root simplex log...\n",
      "\n",
      "Iteration    Objective       Primal Inf.    Dual Inf.      Time\n",
      "    3347    0.0000000e+00   1.451975e+04   0.000000e+00      7s\n",
      "   16279    0.0000000e+00   0.000000e+00   0.000000e+00      9s\n",
      "\n",
      "Root relaxation: objective 0.000000e+00, 16279 iterations, 6.27 seconds\n",
      "Total elapsed time = 15.42s\n",
      "Total elapsed time = 24.65s\n",
      "Total elapsed time = 27.29s\n",
      "Total elapsed time = 30.86s\n",
      "\n",
      "    Nodes    |    Current Node    |     Objective Bounds      |     Work\n",
      " Expl Unexpl |  Obj  Depth IntInf | Incumbent    BestBd   Gap | It/Node Time\n",
      "\n",
      "     0     0    0.00000    0  389  399.00000    0.00000   100%     -   34s\n",
      "H    0     0                      60.0000000    0.00000   100%     -   48s\n",
      "     0     0    0.00000    0  304   60.00000    0.00000   100%     -   76s\n",
      "     0     2    0.00000    0  293   60.00000    0.00000   100%     -   93s\n",
      "     1     4    0.00000    1  366   60.00000    0.00000   100% 13600   96s\n",
      "    15    19    0.00000    4  449   60.00000    0.00000   100%  2054  100s\n",
      "    23    24    0.00000    5  434   60.00000    0.00000   100%  1770  105s\n",
      "    28    28    0.00000    6  440   60.00000    0.00000   100%  1752  115s\n",
      "    58    58    0.00000   13  441   60.00000    0.00000   100%  1055  148s\n",
      "H   59    60                      56.0000000    0.00000   100%  1037  148s\n",
      "H   64    65                      46.0000000    0.00000   100%  2559  148s\n",
      "    66    67    0.00000   14  462   46.00000    0.00000   100%  2485  160s\n",
      "   236   228    0.00000   54  520   46.00000    0.00000   100%   778  170s\n",
      "   363   338    0.00000   68  512   46.00000    0.00000   100%   561  180s\n",
      "\n",
      "Explored 439 nodes (450115 simplex iterations) in 180.18 seconds\n",
      "Thread count was 8 (of 8 available processors)\n",
      "\n",
      "Solution count 4: 46 56 60 399 \n",
      "Pool objective bound 0\n",
      "\n",
      "Time limit reached\n",
      "Best objective 4.599999998455e+01, best bound 0.000000000000e+00, gap 100.0000%\n"
     ]
    }
   ],
   "source": [
    "resetParams()\n",
    "m.setParam(GRB.Param.TimeLimit, 180)\n",
    "m.setParam(GRB.Param.Presolve, 0)\n",
    "m.setParam(GRB.Param.Cuts, 0)\n",
    "\n",
    "m.optimize()"
   ]
  },
  {
   "cell_type": "code",
   "execution_count": 36,
   "metadata": {
    "collapsed": false,
    "nbpresent": {
     "id": "ae8bed4b-0d16-48e8-8609-1d5e9794a6fe"
    }
   },
   "outputs": [],
   "source": [
    "m.addConstr(quicksum(siteSlackVars.excess) <= m.ObjVal+0.25, name='excessBound')\n",
    "conDF = zvars.merge(prefs, left_index=True, right_index=True, how='left')\n",
    "m.setObjective(quicksum(conDF.pref*conDF.z), sense=GRB.MAXIMIZE)\n"
   ]
  },
  {
   "cell_type": "code",
   "execution_count": 37,
   "metadata": {
    "collapsed": false,
    "nbpresent": {
     "id": "1815e471-a6f8-4bdd-95ef-edeaa2d5a2b9"
    },
    "scrolled": true
   },
   "outputs": [
    {
     "name": "stdout",
     "output_type": "stream",
     "text": [
      "Reset all parameters to their default values\n",
      "Changed value of parameter MIPGap to 0.01\n",
      "   Prev: 0.0001  Min: 0.0  Max: 1e+100  Default: 0.0001\n",
      "Changed value of parameter Cuts to 0\n",
      "   Prev: -1  Min: -1  Max: 3  Default: -1\n",
      "Changed value of parameter SubMIPNodes to 1500\n",
      "   Prev: 500  Min: 0  Max: 2000000000  Default: 500\n",
      "Changed value of parameter TimeLimit to 180.0\n",
      "   Prev: 1e+100  Min: 0.0  Max: 1e+100  Default: 1e+100\n",
      "Optimize a model with 242245 rows, 207665 columns and 1028677 nonzeros\n",
      "Variable types: 996 continuous, 206669 integer (119048 binary)\n",
      "Coefficient statistics:\n",
      "  Matrix range     [1e+00, 2e+01]\n",
      "  Objective range  [1e+00, 1e+02]\n",
      "  Bounds range     [1e+00, 2e+01]\n",
      "  RHS range        [1e+00, 4e+03]\n",
      "Presolve removed 98730 rows and 79144 columns\n",
      "Presolve time: 2.60s\n",
      "Presolved: 143515 rows, 128521 columns, 656730 nonzeros\n",
      "\n",
      "Loaded MIP start with objective 22153\n",
      "\n",
      "Variable types: 738 continuous, 127783 integer (69469 binary)\n",
      "\n",
      "Root simplex log...\n",
      "\n",
      "Iteration    Objective       Primal Inf.    Dual Inf.      Time\n",
      "   20462    4.8160500e+04   3.700970e+04   0.000000e+00      5s\n",
      "   24503    4.7651749e+04   2.387875e+03   0.000000e+00     10s\n",
      "   31250    4.7651748e+04   2.201711e+03   0.000000e+00     15s\n",
      "   37997    4.7651747e+04   2.161001e+03   0.000000e+00     22s\n",
      "   42495    4.7651747e+04   3.055603e+03   0.000000e+00     27s\n",
      "   46993    4.7651747e+04   2.510075e+03   0.000000e+00     33s\n",
      "   49242    4.7651747e+04   3.526059e+03   0.000000e+00     36s\n",
      "   53740    4.7651746e+04   4.446359e+03   0.000000e+00     42s\n",
      "   58238    4.7651745e+04   3.776649e+03   0.000000e+00     47s\n",
      "   62736    4.7651743e+04   8.640601e+03   0.000000e+00     50s\n",
      "   80728    4.6803938e+04   3.283040e+03   0.000000e+00     55s\n",
      "   96471    4.6711357e+04   9.148921e+01   0.000000e+00     61s\n",
      "   98219    4.6711112e+04   0.000000e+00   0.000000e+00     63s\n",
      "\n",
      "Root relaxation: objective 4.671111e+04, 98219 iterations, 58.45 seconds\n",
      "Total elapsed time = 65.03s\n",
      "\n",
      "    Nodes    |    Current Node    |     Objective Bounds      |     Work\n",
      " Expl Unexpl |  Obj  Depth IntInf | Incumbent    BestBd   Gap | It/Node Time\n",
      "\n",
      "     0     0 46711.1116    0 1062 22153.0000 46711.1116   111%     -   68s\n",
      "H    0     0                    29564.000000 46711.1116  58.0%     -  147s\n",
      "     0     0 46711.1116    0 1049 29564.0000 46711.1116  58.0%     -  149s\n",
      "     0     2 46711.1116    0 1049 29564.0000 46711.1116  58.0%     -  159s\n",
      "     7    12 46710.0008    3 1073 29564.0000 46710.0856  58.0%  1127  160s\n",
      "    27    28 46694.7809    6 1042 29564.0000 46709.4880  58.0%   485  172s\n",
      "    48    48 46688.3877    8 1035 29564.0000 46709.4880  58.0%   373  175s\n",
      "\n",
      "Explored 111 nodes (165568 simplex iterations) in 180.14 seconds\n",
      "Thread count was 8 (of 8 available processors)\n",
      "\n",
      "Solution count 2: 29564 22153 \n",
      "Pool objective bound 46709\n",
      "\n",
      "Time limit reached\n",
      "Best objective 2.956400000000e+04, best bound 4.670900000000e+04, gap 57.9928%\n"
     ]
    }
   ],
   "source": [
    "resetParams()\n",
    "m.setParam(GRB.Param.MIPGap, 0.01) # Set gap to 1%\n",
    "m.setParam(GRB.Param.Cuts, 0)\n",
    "m.setParam(GRB.Param.SubMIPNodes, 1500)\n",
    "m.setParam(GRB.Param.TimeLimit, 180)\n",
    "m.optimize()"
   ]
  },
  {
   "cell_type": "code",
   "execution_count": 38,
   "metadata": {
    "collapsed": false,
    "nbpresent": {
     "id": "a4ddc858-6530-4973-baec-364e9f6fce08"
    }
   },
   "outputs": [
    {
     "data": {
      "text/html": [
       "<div>\n",
       "<table border=\"1\" class=\"dataframe\">\n",
       "  <thead>\n",
       "    <tr style=\"text-align: right;\">\n",
       "      <th></th>\n",
       "      <th></th>\n",
       "      <th></th>\n",
       "      <th>pref</th>\n",
       "      <th>daily_hours</th>\n",
       "      <th>h</th>\n",
       "      <th>pairday</th>\n",
       "    </tr>\n",
       "    <tr>\n",
       "      <th>person_id</th>\n",
       "      <th>site_id</th>\n",
       "      <th>day</th>\n",
       "      <th></th>\n",
       "      <th></th>\n",
       "      <th></th>\n",
       "      <th></th>\n",
       "    </tr>\n",
       "  </thead>\n",
       "  <tbody>\n",
       "    <tr>\n",
       "      <th rowspan=\"5\" valign=\"top\">MPW0000000272UORBF</th>\n",
       "      <th rowspan=\"5\" valign=\"top\">ADK0000000364ICFPT</th>\n",
       "      <th>Mo</th>\n",
       "      <td>64</td>\n",
       "      <td>8.0</td>\n",
       "      <td>&lt;gurobi.Var h[MPW0000000272UORBF,ADK0000000364ICFPT,Mo] (value 0.0)&gt;</td>\n",
       "      <td>&lt;gurobi.Var pairday[MPW0000000272UORBF,ADK0000000364ICFPT,Mo] (value 0.0)&gt;</td>\n",
       "    </tr>\n",
       "    <tr>\n",
       "      <th>Tu</th>\n",
       "      <td>64</td>\n",
       "      <td>8.0</td>\n",
       "      <td>&lt;gurobi.Var h[MPW0000000272UORBF,ADK0000000364ICFPT,Tu] (value 0.0)&gt;</td>\n",
       "      <td>&lt;gurobi.Var pairday[MPW0000000272UORBF,ADK0000000364ICFPT,Tu] (value 0.0)&gt;</td>\n",
       "    </tr>\n",
       "    <tr>\n",
       "      <th>We</th>\n",
       "      <td>64</td>\n",
       "      <td>8.0</td>\n",
       "      <td>&lt;gurobi.Var h[MPW0000000272UORBF,ADK0000000364ICFPT,We] (value -0.0)&gt;</td>\n",
       "      <td>&lt;gurobi.Var pairday[MPW0000000272UORBF,ADK0000000364ICFPT,We] (value 0.0)&gt;</td>\n",
       "    </tr>\n",
       "    <tr>\n",
       "      <th>Th</th>\n",
       "      <td>64</td>\n",
       "      <td>4.0</td>\n",
       "      <td>&lt;gurobi.Var h[MPW0000000272UORBF,ADK0000000364ICFPT,Th] (value 0.0)&gt;</td>\n",
       "      <td>&lt;gurobi.Var pairday[MPW0000000272UORBF,ADK0000000364ICFPT,Th] (value -0.0)&gt;</td>\n",
       "    </tr>\n",
       "    <tr>\n",
       "      <th>Fr</th>\n",
       "      <td>64</td>\n",
       "      <td>4.0</td>\n",
       "      <td>&lt;gurobi.Var h[MPW0000000272UORBF,ADK0000000364ICFPT,Fr] (value 0.0)&gt;</td>\n",
       "      <td>&lt;gurobi.Var pairday[MPW0000000272UORBF,ADK0000000364ICFPT,Fr] (value 0.0)&gt;</td>\n",
       "    </tr>\n",
       "  </tbody>\n",
       "</table>\n",
       "</div>"
      ],
      "text/plain": [
       "                                           pref  daily_hours  \\\n",
       "person_id          site_id            day                      \n",
       "MPW0000000272UORBF ADK0000000364ICFPT Mo     64          8.0   \n",
       "                                      Tu     64          8.0   \n",
       "                                      We     64          8.0   \n",
       "                                      Th     64          4.0   \n",
       "                                      Fr     64          4.0   \n",
       "\n",
       "                                                                                                               h  \\\n",
       "person_id          site_id            day                                                                          \n",
       "MPW0000000272UORBF ADK0000000364ICFPT Mo    <gurobi.Var h[MPW0000000272UORBF,ADK0000000364ICFPT,Mo] (value 0.0)>   \n",
       "                                      Tu    <gurobi.Var h[MPW0000000272UORBF,ADK0000000364ICFPT,Tu] (value 0.0)>   \n",
       "                                      We   <gurobi.Var h[MPW0000000272UORBF,ADK0000000364ICFPT,We] (value -0.0)>   \n",
       "                                      Th    <gurobi.Var h[MPW0000000272UORBF,ADK0000000364ICFPT,Th] (value 0.0)>   \n",
       "                                      Fr    <gurobi.Var h[MPW0000000272UORBF,ADK0000000364ICFPT,Fr] (value 0.0)>   \n",
       "\n",
       "                                                                                                               pairday  \n",
       "person_id          site_id            day                                                                               \n",
       "MPW0000000272UORBF ADK0000000364ICFPT Mo    <gurobi.Var pairday[MPW0000000272UORBF,ADK0000000364ICFPT,Mo] (value 0.0)>  \n",
       "                                      Tu    <gurobi.Var pairday[MPW0000000272UORBF,ADK0000000364ICFPT,Tu] (value 0.0)>  \n",
       "                                      We    <gurobi.Var pairday[MPW0000000272UORBF,ADK0000000364ICFPT,We] (value 0.0)>  \n",
       "                                      Th   <gurobi.Var pairday[MPW0000000272UORBF,ADK0000000364ICFPT,Th] (value -0.0)>  \n",
       "                                      Fr    <gurobi.Var pairday[MPW0000000272UORBF,ADK0000000364ICFPT,Fr] (value 0.0)>  "
      ]
     },
     "execution_count": 38,
     "metadata": {},
     "output_type": "execute_result"
    }
   ],
   "source": [
    "allvars.head()"
   ]
  },
  {
   "cell_type": "code",
   "execution_count": 41,
   "metadata": {
    "collapsed": false
   },
   "outputs": [
    {
     "data": {
      "text/html": [
       "<div>\n",
       "<table border=\"1\" class=\"dataframe\">\n",
       "  <thead>\n",
       "    <tr style=\"text-align: right;\">\n",
       "      <th></th>\n",
       "      <th></th>\n",
       "      <th></th>\n",
       "      <th>hours</th>\n",
       "    </tr>\n",
       "    <tr>\n",
       "      <th>person_id</th>\n",
       "      <th>site_id</th>\n",
       "      <th>day</th>\n",
       "      <th></th>\n",
       "    </tr>\n",
       "  </thead>\n",
       "  <tbody>\n",
       "    <tr>\n",
       "      <th rowspan=\"2\" valign=\"top\">ORY0000000196WQTDH</th>\n",
       "      <th rowspan=\"2\" valign=\"top\">ADK0000000364ICFPT</th>\n",
       "      <th>Th</th>\n",
       "      <td>4.0</td>\n",
       "    </tr>\n",
       "    <tr>\n",
       "      <th>Fr</th>\n",
       "      <td>4.0</td>\n",
       "    </tr>\n",
       "    <tr>\n",
       "      <th rowspan=\"3\" valign=\"top\">QTA0000000146YSVFJ</th>\n",
       "      <th rowspan=\"3\" valign=\"top\">ADK0000000364ICFPT</th>\n",
       "      <th>Mo</th>\n",
       "      <td>2.0</td>\n",
       "    </tr>\n",
       "    <tr>\n",
       "      <th>Tu</th>\n",
       "      <td>12.0</td>\n",
       "    </tr>\n",
       "    <tr>\n",
       "      <th>We</th>\n",
       "      <td>12.0</td>\n",
       "    </tr>\n",
       "    <tr>\n",
       "      <th rowspan=\"2\" valign=\"top\">TWD0000000123BVYIM</th>\n",
       "      <th rowspan=\"2\" valign=\"top\">ADK0000000364ICFPT</th>\n",
       "      <th>Mo</th>\n",
       "      <td>12.0</td>\n",
       "    </tr>\n",
       "    <tr>\n",
       "      <th>Th</th>\n",
       "      <td>12.0</td>\n",
       "    </tr>\n",
       "    <tr>\n",
       "      <th rowspan=\"2\" valign=\"top\">ADK0000000130ICFPT</th>\n",
       "      <th rowspan=\"2\" valign=\"top\">ADK0000000390ICFPT</th>\n",
       "      <th>Mo</th>\n",
       "      <td>16.0</td>\n",
       "    </tr>\n",
       "    <tr>\n",
       "      <th>Tu</th>\n",
       "      <td>2.0</td>\n",
       "    </tr>\n",
       "    <tr>\n",
       "      <th>BEL0000000235JDGQU</th>\n",
       "      <th>ADK0000000390ICFPT</th>\n",
       "      <th>Tu</th>\n",
       "      <td>14.0</td>\n",
       "    </tr>\n",
       "  </tbody>\n",
       "</table>\n",
       "</div>"
      ],
      "text/plain": [
       "                                           hours\n",
       "person_id          site_id            day       \n",
       "ORY0000000196WQTDH ADK0000000364ICFPT Th     4.0\n",
       "                                      Fr     4.0\n",
       "QTA0000000146YSVFJ ADK0000000364ICFPT Mo     2.0\n",
       "                                      Tu    12.0\n",
       "                                      We    12.0\n",
       "TWD0000000123BVYIM ADK0000000364ICFPT Mo    12.0\n",
       "                                      Th    12.0\n",
       "ADK0000000130ICFPT ADK0000000390ICFPT Mo    16.0\n",
       "                                      Tu     2.0\n",
       "BEL0000000235JDGQU ADK0000000390ICFPT Tu    14.0"
      ]
     },
     "execution_count": 41,
     "metadata": {},
     "output_type": "execute_result"
    }
   ],
   "source": [
    "hvals = pd.Series([h.x for h in allvars.h], index=allvars.index)\n",
    "pairings = hvals[hvals>0]\n",
    "pd.DataFrame(pairings.head(10),columns=['hours'])"
   ]
  },
  {
   "cell_type": "code",
   "execution_count": null,
   "metadata": {
    "collapsed": true
   },
   "outputs": [],
   "source": []
  }
 ],
 "metadata": {
  "anaconda-cloud": {},
  "kernelspec": {
   "display_name": "Python [default]",
   "language": "python",
   "name": "python3"
  },
  "language_info": {
   "codemirror_mode": {
    "name": "ipython",
    "version": 3
   },
   "file_extension": ".py",
   "mimetype": "text/x-python",
   "name": "python",
   "nbconvert_exporter": "python",
   "pygments_lexer": "ipython3",
   "version": "3.5.2"
  },
  "nbpresent": {
   "slides": {
    "037955a1-7326-4638-a273-c12b3aac6f88": {
     "id": "037955a1-7326-4638-a273-c12b3aac6f88",
     "prev": "c7373ca9-7caa-4a03-b454-cd0bec55d8e6",
     "regions": {
      "3f7a9a3a-b50a-4f99-a18d-8ed2308a9c80": {
       "attrs": {
        "height": 0.8,
        "width": 0.8,
        "x": 0.1,
        "y": 0.1
       },
       "content": {
        "cell": "c2b3148c-ac5b-412b-be2f-5ec21f11305b",
        "part": "whole"
       },
       "id": "3f7a9a3a-b50a-4f99-a18d-8ed2308a9c80"
      }
     }
    },
    "03dce833-6315-46a1-9831-2f9d61ae8707": {
     "id": "03dce833-6315-46a1-9831-2f9d61ae8707",
     "prev": "5a7e2588-ce06-407f-8dbf-5d56b4c62d62",
     "regions": {
      "2f84a4bd-abc8-4d71-8393-293e6dbc0314": {
       "attrs": {
        "height": 0.8,
        "width": 0.8,
        "x": 0.1,
        "y": 0.1
       },
       "content": {
        "cell": "62b2f6d1-393e-455e-958b-7e8dc2d10bd6",
        "part": "whole"
       },
       "id": "2f84a4bd-abc8-4d71-8393-293e6dbc0314"
      }
     }
    },
    "15a1ffd7-c199-49d7-8b27-ce701f702fc9": {
     "id": "15a1ffd7-c199-49d7-8b27-ce701f702fc9",
     "prev": "ef3370b0-ef17-40f0-a14c-97f5a712f6c7",
     "regions": {
      "1326479e-323d-432c-8e45-a2ce56a023f8": {
       "attrs": {
        "height": 0.8,
        "width": 0.8,
        "x": 0.1,
        "y": 0.1
       },
       "content": {
        "cell": "72694efd-4485-4f4a-af90-b89bb6f77d9f",
        "part": "whole"
       },
       "id": "1326479e-323d-432c-8e45-a2ce56a023f8"
      }
     }
    },
    "1882c98e-6583-4d62-88ca-d8e3c231449b": {
     "id": "1882c98e-6583-4d62-88ca-d8e3c231449b",
     "prev": "4871a20f-0976-40f9-af31-a7e22db61869",
     "regions": {
      "2294e95e-45d5-45eb-a9de-66ee18d7a0af": {
       "attrs": {
        "height": 0.8,
        "width": 0.8,
        "x": 0.1,
        "y": 0.1
       },
       "content": {
        "cell": "3a1f454f-e0dc-4d2f-bfb0-4fa1873b910a",
        "part": "whole"
       },
       "id": "2294e95e-45d5-45eb-a9de-66ee18d7a0af"
      }
     }
    },
    "1e49b2b7-7fec-4adc-b8f8-a803f4100271": {
     "id": "1e49b2b7-7fec-4adc-b8f8-a803f4100271",
     "prev": "c9a9c37f-3d5b-480e-a15a-af310174d249",
     "regions": {
      "01c1b76f-206c-4a09-9e4e-39ec9d0c33fb": {
       "attrs": {
        "height": 1,
        "width": 1,
        "x": 0,
        "y": 0
       },
       "id": "01c1b76f-206c-4a09-9e4e-39ec9d0c33fb"
      }
     }
    },
    "2d8ddda2-bd4e-4618-91fc-423a9d622c49": {
     "id": "2d8ddda2-bd4e-4618-91fc-423a9d622c49",
     "prev": "f4bb716c-4c8c-4dba-9ecc-4f2ed08b673b",
     "regions": {
      "af80b9c6-abcf-4aef-814a-66ffec925455": {
       "attrs": {
        "height": 0.8,
        "width": 0.8,
        "x": 0.1,
        "y": 0.1
       },
       "content": {
        "cell": "a4ddc858-6530-4973-baec-364e9f6fce08",
        "part": "whole"
       },
       "id": "af80b9c6-abcf-4aef-814a-66ffec925455"
      }
     }
    },
    "45051c91-5ee9-4455-b3d8-b238a30fe927": {
     "id": "45051c91-5ee9-4455-b3d8-b238a30fe927",
     "prev": "c0183364-e2b5-404e-826e-73ef7fb6b886",
     "regions": {
      "ad198e01-045d-428a-95b5-65d7611e9f4b": {
       "attrs": {
        "height": 0.8,
        "width": 0.8,
        "x": 0.1,
        "y": 0.1
       },
       "content": {
        "cell": "f0306fc7-6dcb-43ca-8f0c-24c8e6eba295",
        "part": "whole"
       },
       "id": "ad198e01-045d-428a-95b5-65d7611e9f4b"
      }
     }
    },
    "4683c080-d5c9-4e56-bdfe-97da64145bc2": {
     "id": "4683c080-d5c9-4e56-bdfe-97da64145bc2",
     "prev": "d7e3abfc-fc60-4880-9eab-97a321cdb618",
     "regions": {
      "c4b3e6ed-c162-403c-a323-cc0b39f04e27": {
       "attrs": {
        "height": 0.8,
        "width": 0.8,
        "x": 0.1,
        "y": 0.1
       },
       "content": {
        "cell": "7dcf0393-587c-4c84-9dbe-c3956c491817",
        "part": "whole"
       },
       "id": "c4b3e6ed-c162-403c-a323-cc0b39f04e27"
      }
     }
    },
    "4871a20f-0976-40f9-af31-a7e22db61869": {
     "id": "4871a20f-0976-40f9-af31-a7e22db61869",
     "prev": "b5de8f84-e763-4768-ae92-07331721cade",
     "regions": {
      "d39ffc12-a2fd-4bc0-83d2-55b77a99e009": {
       "attrs": {
        "height": 0.8,
        "width": 0.8,
        "x": 0.1,
        "y": 0.1
       },
       "content": {
        "cell": "85e35bbb-2b2d-4b54-9be0-609cca1dccad",
        "part": "whole"
       },
       "id": "d39ffc12-a2fd-4bc0-83d2-55b77a99e009"
      }
     }
    },
    "55360c2d-9bf6-46c3-9b77-880f1bd68df6": {
     "id": "55360c2d-9bf6-46c3-9b77-880f1bd68df6",
     "prev": "83a127d2-c24b-4645-89cb-b75a71468535",
     "regions": {
      "a11205b3-2fed-41bb-9f7e-9bf010477e5e": {
       "attrs": {
        "height": 0.8,
        "width": 0.8,
        "x": 0.1,
        "y": 0.1
       },
       "content": {
        "cell": "0d2a9f7e-4fb7-402a-96f5-8135ca545caa",
        "part": "whole"
       },
       "id": "a11205b3-2fed-41bb-9f7e-9bf010477e5e"
      }
     }
    },
    "55edaa56-547b-47b6-bf9f-936e9df1d1b6": {
     "id": "55edaa56-547b-47b6-bf9f-936e9df1d1b6",
     "prev": "880e038a-9698-4b25-bd2e-633ace5ab0bc",
     "regions": {
      "9f6b671d-419e-4542-b558-2dd2ab0bae01": {
       "attrs": {
        "height": 0.8,
        "width": 0.8,
        "x": 0.1,
        "y": 0.1
       },
       "content": {
        "cell": "f8b78507-8022-4845-95bc-8d9a783a7cd5",
        "part": "whole"
       },
       "id": "9f6b671d-419e-4542-b558-2dd2ab0bae01"
      }
     }
    },
    "58a27da8-344d-4960-a0aa-51cb4fb7658b": {
     "id": "58a27da8-344d-4960-a0aa-51cb4fb7658b",
     "prev": "afd993c4-f1fd-46d2-9f2c-6d0f584da06e",
     "regions": {
      "bca8058e-00eb-47e7-a435-1ac9ac6b441f": {
       "attrs": {
        "height": 0.8,
        "width": 0.8,
        "x": 0.1,
        "y": 0.1
       },
       "content": {
        "cell": "e01bf187-e6c3-4f2b-80ec-9706d8ebb6d1",
        "part": "whole"
       },
       "id": "bca8058e-00eb-47e7-a435-1ac9ac6b441f"
      }
     }
    },
    "5a7e2588-ce06-407f-8dbf-5d56b4c62d62": {
     "id": "5a7e2588-ce06-407f-8dbf-5d56b4c62d62",
     "prev": "b651ae8f-d800-46ba-8fcb-1c50c1892b19",
     "regions": {
      "cd064122-51fb-443c-8f81-a7f1d71d8d47": {
       "attrs": {
        "height": 0.8,
        "width": 0.8,
        "x": 0.1,
        "y": 0.1
       },
       "content": {
        "cell": "50df7c20-d03d-4369-88b1-c82182e2881b",
        "part": "whole"
       },
       "id": "cd064122-51fb-443c-8f81-a7f1d71d8d47"
      }
     }
    },
    "5f424b95-25c6-43aa-b22d-52a55a074bee": {
     "id": "5f424b95-25c6-43aa-b22d-52a55a074bee",
     "prev": "f3bbdb54-2f82-4572-9cde-71d96347ff0e",
     "regions": {
      "9bd6dd9f-667b-495a-b642-39fb3510c4b1": {
       "attrs": {
        "height": 0.8,
        "width": 0.8,
        "x": 0.1,
        "y": 0.1
       },
       "content": {
        "cell": "34251480-6220-40b6-a067-08a1f9aafc5b",
        "part": "whole"
       },
       "id": "9bd6dd9f-667b-495a-b642-39fb3510c4b1"
      }
     }
    },
    "63fc4e2f-53d3-428c-aca8-b4925100f748": {
     "id": "63fc4e2f-53d3-428c-aca8-b4925100f748",
     "prev": "80965843-bb70-48ad-88d3-ed625b9df06d",
     "regions": {
      "c76af4cc-91fd-4dea-9004-4b54281d7ef2": {
       "attrs": {
        "height": 0.8,
        "width": 0.8,
        "x": 0.1,
        "y": 0.1
       },
       "content": {
        "cell": "d1cd05b4-d881-48e4-90fb-e5b8b860809b",
        "part": "whole"
       },
       "id": "c76af4cc-91fd-4dea-9004-4b54281d7ef2"
      }
     }
    },
    "66073471-8d2d-46ca-a330-364936f0f9e2": {
     "id": "66073471-8d2d-46ca-a330-364936f0f9e2",
     "prev": "1882c98e-6583-4d62-88ca-d8e3c231449b",
     "regions": {
      "4abda8a0-a6b0-4248-a735-dd0222356082": {
       "attrs": {
        "height": 0.8,
        "width": 0.8,
        "x": 0.1,
        "y": 0.1
       },
       "content": {
        "cell": "52aca7e0-0567-4d4e-9e5c-f363a0958704",
        "part": "whole"
       },
       "id": "4abda8a0-a6b0-4248-a735-dd0222356082"
      }
     }
    },
    "664d3baa-12cf-42e4-945e-bd9b36749825": {
     "id": "664d3baa-12cf-42e4-945e-bd9b36749825",
     "prev": "91a89ccf-abb3-4d10-b692-f0e2226a23e6",
     "regions": {
      "fe838ebf-712d-4302-95d0-bb08c5b4f14c": {
       "attrs": {
        "height": 0.8,
        "width": 0.8,
        "x": 0.1,
        "y": 0.1
       },
       "content": {
        "cell": "49614599-6a86-46b5-896e-13c9ec5cf804",
        "part": "whole"
       },
       "id": "fe838ebf-712d-4302-95d0-bb08c5b4f14c"
      }
     }
    },
    "68e6db9d-3646-4bf7-ab60-dbb27e8dce17": {
     "id": "68e6db9d-3646-4bf7-ab60-dbb27e8dce17",
     "prev": "85dbde62-3335-40aa-8ef8-0aeebf591f49",
     "regions": {
      "6132cee5-2e87-42b2-93bd-454fbef062b5": {
       "attrs": {
        "height": 0.8,
        "width": 0.8,
        "x": 0.1,
        "y": 0.1
       },
       "content": {
        "cell": "1815e471-a6f8-4bdd-95ef-edeaa2d5a2b9",
        "part": "whole"
       },
       "id": "6132cee5-2e87-42b2-93bd-454fbef062b5"
      }
     }
    },
    "79967d70-a922-4890-8c3b-f681a8caea08": {
     "id": "79967d70-a922-4890-8c3b-f681a8caea08",
     "prev": "8fea6ffa-2663-4745-a690-f0d23cbf3e97",
     "regions": {
      "4b0dfe50-8aff-4519-8763-df5935de9546": {
       "attrs": {
        "height": 0.8,
        "width": 0.8,
        "x": 0.1,
        "y": 0.1
       },
       "content": {
        "cell": "2f154cd0-30ea-476f-81cc-3dc70f4a4232",
        "part": "whole"
       },
       "id": "4b0dfe50-8aff-4519-8763-df5935de9546"
      }
     }
    },
    "7fb7bd24-d481-485f-99a6-3dff9a7cee9c": {
     "id": "7fb7bd24-d481-485f-99a6-3dff9a7cee9c",
     "prev": "63fc4e2f-53d3-428c-aca8-b4925100f748",
     "regions": {
      "60f07adc-e27c-4cd2-8f60-a41edb9f2d64": {
       "attrs": {
        "height": 0.8,
        "width": 0.8,
        "x": 0.1,
        "y": 0.1
       },
       "content": {
        "cell": "e0ef4845-efc3-47af-b9a5-6a7b3fae4c2a",
        "part": "whole"
       },
       "id": "60f07adc-e27c-4cd2-8f60-a41edb9f2d64"
      }
     }
    },
    "80965843-bb70-48ad-88d3-ed625b9df06d": {
     "id": "80965843-bb70-48ad-88d3-ed625b9df06d",
     "prev": "66073471-8d2d-46ca-a330-364936f0f9e2",
     "regions": {
      "057206d6-5ae4-4320-9bd8-6db8dbd7be6d": {
       "attrs": {
        "height": 0.8,
        "width": 0.8,
        "x": 0.1,
        "y": 0.1
       },
       "content": {
        "cell": "fc9867e9-9d01-46a2-9b3f-9ef79054fc89",
        "part": "whole"
       },
       "id": "057206d6-5ae4-4320-9bd8-6db8dbd7be6d"
      }
     }
    },
    "83a127d2-c24b-4645-89cb-b75a71468535": {
     "id": "83a127d2-c24b-4645-89cb-b75a71468535",
     "prev": "f5b22788-8c44-4526-8e01-7647423f0af6",
     "regions": {
      "2e439410-9063-4bee-8d33-502a2b00cbd2": {
       "attrs": {
        "height": 0.8,
        "width": 0.8,
        "x": 0.1,
        "y": 0.1
       },
       "content": {
        "cell": "0a9ba483-b242-4453-8816-bb68f80759c8",
        "part": "whole"
       },
       "id": "2e439410-9063-4bee-8d33-502a2b00cbd2"
      }
     }
    },
    "85dbde62-3335-40aa-8ef8-0aeebf591f49": {
     "id": "85dbde62-3335-40aa-8ef8-0aeebf591f49",
     "prev": "9ca00dd5-e9d1-4aba-a6d3-4a2a0ed32ee9",
     "regions": {
      "6cfee22d-a426-4d72-bec2-fbb74a3c38dd": {
       "attrs": {
        "height": 0.8,
        "width": 0.8,
        "x": 0.1,
        "y": 0.1
       },
       "content": {
        "cell": "ae8bed4b-0d16-48e8-8609-1d5e9794a6fe",
        "part": "whole"
       },
       "id": "6cfee22d-a426-4d72-bec2-fbb74a3c38dd"
      }
     }
    },
    "862d03eb-f9b9-4e35-b3fc-a27ff83b129a": {
     "id": "862d03eb-f9b9-4e35-b3fc-a27ff83b129a",
     "prev": "cfe38b7c-98ff-4c94-83c9-9974a3c91674",
     "regions": {
      "7f21a003-8e4e-436f-9a02-d62637ab13de": {
       "attrs": {
        "height": 0.8,
        "width": 0.8,
        "x": 0.1,
        "y": 0.1
       },
       "content": {
        "cell": "526edafc-4ae7-434b-a958-7419d10396f9",
        "part": "whole"
       },
       "id": "7f21a003-8e4e-436f-9a02-d62637ab13de"
      }
     }
    },
    "873dd518-e2cf-4136-8152-75031203b1cc": {
     "id": "873dd518-e2cf-4136-8152-75031203b1cc",
     "prev": "ce27309e-9b61-41d9-8008-ce48292bc60c",
     "regions": {
      "1045dc7c-78a3-4436-abc1-70ccf1cc66da": {
       "attrs": {
        "height": 0.8,
        "width": 0.8,
        "x": 0.1,
        "y": 0.1
       },
       "content": {
        "cell": "fd277f93-2a2c-4a5b-838a-01872ecad88d",
        "part": "whole"
       },
       "id": "1045dc7c-78a3-4436-abc1-70ccf1cc66da"
      }
     }
    },
    "880e038a-9698-4b25-bd2e-633ace5ab0bc": {
     "id": "880e038a-9698-4b25-bd2e-633ace5ab0bc",
     "prev": "d21539bb-8504-431e-a7ab-77cadb43d3d0",
     "regions": {
      "d3eb382c-eb46-4b84-8caa-d96ba686b3c4": {
       "attrs": {
        "height": 0.8,
        "width": 0.8,
        "x": 0.1,
        "y": 0.1
       },
       "content": {
        "cell": "8ca89dc1-6017-4b03-b5af-c0d9db10a81e",
        "part": "whole"
       },
       "id": "d3eb382c-eb46-4b84-8caa-d96ba686b3c4"
      }
     }
    },
    "883a4062-0824-4f19-9b48-ae94cc0368cd": {
     "id": "883a4062-0824-4f19-9b48-ae94cc0368cd",
     "prev": "91ca5681-bc13-4429-9b59-9e3828d51a3b",
     "regions": {
      "483100bf-750d-467a-8399-4660fb34759f": {
       "attrs": {
        "height": 0.8,
        "width": 0.8,
        "x": 0.1,
        "y": 0.1
       },
       "content": {
        "cell": "cb374af8-3483-41f1-9006-3db72d6e84e3",
        "part": "whole"
       },
       "id": "483100bf-750d-467a-8399-4660fb34759f"
      }
     }
    },
    "8fea6ffa-2663-4745-a690-f0d23cbf3e97": {
     "id": "8fea6ffa-2663-4745-a690-f0d23cbf3e97",
     "prev": "4683c080-d5c9-4e56-bdfe-97da64145bc2",
     "regions": {
      "c4838f5a-002c-4425-b9d0-8f208e2cf21c": {
       "attrs": {
        "height": 0.8,
        "width": 0.8,
        "x": 0.1,
        "y": 0.1
       },
       "content": {
        "cell": "a089f7d1-a1e6-4c68-8db2-b9926b417495",
        "part": "whole"
       },
       "id": "c4838f5a-002c-4425-b9d0-8f208e2cf21c"
      }
     }
    },
    "91a89ccf-abb3-4d10-b692-f0e2226a23e6": {
     "id": "91a89ccf-abb3-4d10-b692-f0e2226a23e6",
     "prev": "9e9820cb-fe2f-4b69-97ab-5014e608ad7e",
     "regions": {
      "db24dfe8-e1c3-4226-8697-021efc8a29ff": {
       "attrs": {
        "height": 0.8,
        "width": 0.8,
        "x": 0.1,
        "y": 0.1
       },
       "content": {
        "cell": "241aa92b-cd0a-49d5-976f-784dae1770c1",
        "part": "whole"
       },
       "id": "db24dfe8-e1c3-4226-8697-021efc8a29ff"
      }
     }
    },
    "91ca5681-bc13-4429-9b59-9e3828d51a3b": {
     "id": "91ca5681-bc13-4429-9b59-9e3828d51a3b",
     "prev": "664d3baa-12cf-42e4-945e-bd9b36749825",
     "regions": {
      "915922b2-92ed-4bdb-868d-c54890ddf1b5": {
       "attrs": {
        "height": 0.8,
        "width": 0.8,
        "x": 0.1,
        "y": 0.1
       },
       "content": {
        "cell": "bc9365c4-af8b-4fa1-887e-b6e06f38b536",
        "part": "whole"
       },
       "id": "915922b2-92ed-4bdb-868d-c54890ddf1b5"
      }
     }
    },
    "9ca00dd5-e9d1-4aba-a6d3-4a2a0ed32ee9": {
     "id": "9ca00dd5-e9d1-4aba-a6d3-4a2a0ed32ee9",
     "prev": "45051c91-5ee9-4455-b3d8-b238a30fe927",
     "regions": {
      "b5582d53-2e23-4225-ae7c-85db4e88c626": {
       "attrs": {
        "height": 0.8,
        "width": 0.8,
        "x": 0.1,
        "y": 0.1
       },
       "content": {
        "cell": "0e306788-4eff-477c-aa1b-93b90899301b",
        "part": "whole"
       },
       "id": "b5582d53-2e23-4225-ae7c-85db4e88c626"
      }
     }
    },
    "9e9820cb-fe2f-4b69-97ab-5014e608ad7e": {
     "id": "9e9820cb-fe2f-4b69-97ab-5014e608ad7e",
     "prev": "efedcb13-bc8b-4b04-870c-7b9c637f43c7",
     "regions": {
      "5c00da27-69eb-4586-8590-ba369d22c95c": {
       "attrs": {
        "height": 0.8,
        "width": 0.8,
        "x": 0.1,
        "y": 0.1
       },
       "content": {
        "cell": "c6a28d42-6b4f-42c8-9b0d-08ff4f94f6ff",
        "part": "whole"
       },
       "id": "5c00da27-69eb-4586-8590-ba369d22c95c"
      }
     }
    },
    "ad772080-20f0-43e6-8b0b-782579fb15ae": {
     "id": "ad772080-20f0-43e6-8b0b-782579fb15ae",
     "prev": "03dce833-6315-46a1-9831-2f9d61ae8707",
     "regions": {
      "bdc87f51-c3c7-427f-afdf-53ee1909728b": {
       "attrs": {
        "height": 0.8,
        "width": 0.8,
        "x": 0.1,
        "y": 0.1
       },
       "content": {
        "cell": "05d0c8ce-4701-48ee-9358-05f1c1e4913d",
        "part": "whole"
       },
       "id": "bdc87f51-c3c7-427f-afdf-53ee1909728b"
      }
     }
    },
    "afd993c4-f1fd-46d2-9f2c-6d0f584da06e": {
     "id": "afd993c4-f1fd-46d2-9f2c-6d0f584da06e",
     "prev": "5f424b95-25c6-43aa-b22d-52a55a074bee",
     "regions": {
      "212266cd-a8d8-4d79-802f-7c836c9e83ec": {
       "attrs": {
        "height": 0.8,
        "width": 0.8,
        "x": 0.1,
        "y": 0.1
       },
       "content": {
        "cell": "fab60a6a-a74d-4766-920a-a63a2b0756cb",
        "part": "whole"
       },
       "id": "212266cd-a8d8-4d79-802f-7c836c9e83ec"
      }
     }
    },
    "b155e01d-b94d-4921-9675-48dceae93182": {
     "id": "b155e01d-b94d-4921-9675-48dceae93182",
     "prev": "58a27da8-344d-4960-a0aa-51cb4fb7658b",
     "regions": {
      "96c949b7-5f8d-4f5f-be3e-7664f4e3ad51": {
       "attrs": {
        "height": 0.8,
        "width": 0.8,
        "x": 0.1,
        "y": 0.1
       },
       "content": {
        "cell": "f03d0248-a235-4e18-bddc-13b8046fa5c8",
        "part": "whole"
       },
       "id": "96c949b7-5f8d-4f5f-be3e-7664f4e3ad51"
      }
     }
    },
    "b5de8f84-e763-4768-ae92-07331721cade": {
     "id": "b5de8f84-e763-4768-ae92-07331721cade",
     "prev": "55edaa56-547b-47b6-bf9f-936e9df1d1b6",
     "regions": {
      "174b6d1d-2ba3-4f50-9d92-e9abfde42022": {
       "attrs": {
        "height": 0.8,
        "width": 0.8,
        "x": 0.1,
        "y": 0.1
       },
       "content": {
        "cell": "d32bfa92-9dae-4142-86b8-781947efecd4",
        "part": "whole"
       },
       "id": "174b6d1d-2ba3-4f50-9d92-e9abfde42022"
      }
     }
    },
    "b651ae8f-d800-46ba-8fcb-1c50c1892b19": {
     "id": "b651ae8f-d800-46ba-8fcb-1c50c1892b19",
     "prev": "862d03eb-f9b9-4e35-b3fc-a27ff83b129a",
     "regions": {
      "7eae1775-a8fc-452f-84b3-5c93ab49e3a6": {
       "attrs": {
        "height": 0.8,
        "width": 0.8,
        "x": 0.1,
        "y": 0.1
       },
       "content": {
        "cell": "2d5d8809-6f76-444b-9ebf-1338ba6738b3",
        "part": "whole"
       },
       "id": "7eae1775-a8fc-452f-84b3-5c93ab49e3a6"
      }
     }
    },
    "c0183364-e2b5-404e-826e-73ef7fb6b886": {
     "id": "c0183364-e2b5-404e-826e-73ef7fb6b886",
     "prev": "ad772080-20f0-43e6-8b0b-782579fb15ae",
     "regions": {
      "64f6487a-65ff-4b59-a39f-78befabc2109": {
       "attrs": {
        "height": 0.8,
        "width": 0.8,
        "x": 0.1,
        "y": 0.1
       },
       "content": {
        "cell": "1dba8750-2790-4248-9178-5851db2c50e7",
        "part": "whole"
       },
       "id": "64f6487a-65ff-4b59-a39f-78befabc2109"
      }
     }
    },
    "c43f2c8f-0d8c-4e73-b634-eb969dbd37af": {
     "id": "c43f2c8f-0d8c-4e73-b634-eb969dbd37af",
     "prev": "dc4e6e8d-444e-4b53-842e-848004d17502",
     "regions": {
      "b24cc5d9-c0a9-4840-9161-54d35bee1fe8": {
       "attrs": {
        "height": 0.8,
        "width": 0.8,
        "x": 0.1,
        "y": 0.1
       },
       "content": {
        "cell": "11c3e925-ceef-4019-969a-aacb9da1f9a8",
        "part": "whole"
       },
       "id": "b24cc5d9-c0a9-4840-9161-54d35bee1fe8"
      }
     }
    },
    "c7373ca9-7caa-4a03-b454-cd0bec55d8e6": {
     "id": "c7373ca9-7caa-4a03-b454-cd0bec55d8e6",
     "prev": "873dd518-e2cf-4136-8152-75031203b1cc",
     "regions": {
      "ed093337-933a-4ad4-9997-4e13e6f518ac": {
       "attrs": {
        "height": 0.8,
        "width": 0.8,
        "x": 0.1,
        "y": 0.1
       },
       "content": {
        "cell": "062132a7-c9fc-463b-9800-37ff4c5a58eb",
        "part": "whole"
       },
       "id": "ed093337-933a-4ad4-9997-4e13e6f518ac"
      }
     }
    },
    "c9a9c37f-3d5b-480e-a15a-af310174d249": {
     "id": "c9a9c37f-3d5b-480e-a15a-af310174d249",
     "prev": null,
     "regions": {
      "36024063-d82b-4499-8ece-0a6d0a1950d6": {
       "attrs": {
        "height": 0.8,
        "width": 0.8,
        "x": 0.1,
        "y": 0.1
       },
       "content": {
        "cell": "fd9184b4-be86-4fb1-8376-b11824d47e06",
        "part": "whole"
       },
       "id": "36024063-d82b-4499-8ece-0a6d0a1950d6"
      }
     }
    },
    "ce27309e-9b61-41d9-8008-ce48292bc60c": {
     "id": "ce27309e-9b61-41d9-8008-ce48292bc60c",
     "prev": "79967d70-a922-4890-8c3b-f681a8caea08",
     "regions": {
      "88557b7e-2b6a-4695-a164-c0907403dd16": {
       "attrs": {
        "height": 0.8,
        "width": 0.8,
        "x": 0.1,
        "y": 0.1
       },
       "content": {
        "cell": "9cbcefc2-a5f0-4310-b57d-5fda361137d0",
        "part": "whole"
       },
       "id": "88557b7e-2b6a-4695-a164-c0907403dd16"
      }
     }
    },
    "cfe38b7c-98ff-4c94-83c9-9974a3c91674": {
     "id": "cfe38b7c-98ff-4c94-83c9-9974a3c91674",
     "prev": "15a1ffd7-c199-49d7-8b27-ce701f702fc9",
     "regions": {
      "00be0a3e-35bc-4d5a-baff-d5f7d0fff0c8": {
       "attrs": {
        "height": 0.8,
        "width": 0.8,
        "x": 0.1,
        "y": 0.1
       },
       "content": {
        "cell": "5600c742-214c-459e-ba9f-9785d2b5c946",
        "part": "whole"
       },
       "id": "00be0a3e-35bc-4d5a-baff-d5f7d0fff0c8"
      }
     }
    },
    "d21539bb-8504-431e-a7ab-77cadb43d3d0": {
     "id": "d21539bb-8504-431e-a7ab-77cadb43d3d0",
     "prev": "883a4062-0824-4f19-9b48-ae94cc0368cd",
     "regions": {
      "e19598f7-fdac-49b1-ba0d-48604553354c": {
       "attrs": {
        "height": 0.8,
        "width": 0.8,
        "x": 0.1,
        "y": 0.1
       },
       "content": {
        "cell": "b1736cc4-e077-469e-bcc9-20c27dfffcd8",
        "part": "whole"
       },
       "id": "e19598f7-fdac-49b1-ba0d-48604553354c"
      }
     }
    },
    "d7e3abfc-fc60-4880-9eab-97a321cdb618": {
     "id": "d7e3abfc-fc60-4880-9eab-97a321cdb618",
     "prev": "1e49b2b7-7fec-4adc-b8f8-a803f4100271",
     "regions": {
      "b120dd03-7469-4a69-904e-b37963726928": {
       "attrs": {
        "height": 1,
        "width": 1,
        "x": 0,
        "y": 0
       },
       "id": "b120dd03-7469-4a69-904e-b37963726928"
      }
     }
    },
    "dc4e6e8d-444e-4b53-842e-848004d17502": {
     "id": "dc4e6e8d-444e-4b53-842e-848004d17502",
     "prev": "55360c2d-9bf6-46c3-9b77-880f1bd68df6",
     "regions": {
      "22ef9582-4a1c-4fd6-a5d3-9eeb5fc73945": {
       "attrs": {
        "height": 0.8,
        "width": 0.8,
        "x": 0.1,
        "y": 0.1
       },
       "content": {
        "cell": "55f78c04-99dc-4543-b6b1-a4c6d059a046",
        "part": "whole"
       },
       "id": "22ef9582-4a1c-4fd6-a5d3-9eeb5fc73945"
      }
     }
    },
    "dded9cb3-40b4-439f-84d8-503b5a4d55ee": {
     "id": "dded9cb3-40b4-439f-84d8-503b5a4d55ee",
     "prev": "037955a1-7326-4638-a273-c12b3aac6f88",
     "regions": {
      "06f83489-d5dd-4a0d-aa29-8c99d4b4428c": {
       "attrs": {
        "height": 0.8,
        "width": 0.8,
        "x": 0.1,
        "y": 0.1
       },
       "content": {
        "cell": "8d23ef4d-b110-41a0-8623-80903fc9af4d",
        "part": "whole"
       },
       "id": "06f83489-d5dd-4a0d-aa29-8c99d4b4428c"
      }
     }
    },
    "ef3370b0-ef17-40f0-a14c-97f5a712f6c7": {
     "id": "ef3370b0-ef17-40f0-a14c-97f5a712f6c7",
     "prev": "b155e01d-b94d-4921-9675-48dceae93182",
     "regions": {
      "c8601f30-8d90-4ea5-9ace-693d128485eb": {
       "attrs": {
        "height": 0.8,
        "width": 0.8,
        "x": 0.1,
        "y": 0.1
       },
       "content": {
        "cell": "1fa90ca1-fcf4-40fb-bc37-7aa884a81027",
        "part": "whole"
       },
       "id": "c8601f30-8d90-4ea5-9ace-693d128485eb"
      }
     }
    },
    "efedcb13-bc8b-4b04-870c-7b9c637f43c7": {
     "id": "efedcb13-bc8b-4b04-870c-7b9c637f43c7",
     "prev": "dded9cb3-40b4-439f-84d8-503b5a4d55ee",
     "regions": {
      "3b8efd62-2171-41df-a38b-f71405b15762": {
       "attrs": {
        "height": 0.8,
        "width": 0.8,
        "x": 0.1,
        "y": 0.1
       },
       "content": {
        "cell": "f880dee1-cabb-4646-b8f8-e6b24efb3e09",
        "part": "whole"
       },
       "id": "3b8efd62-2171-41df-a38b-f71405b15762"
      }
     }
    },
    "f3bbdb54-2f82-4572-9cde-71d96347ff0e": {
     "id": "f3bbdb54-2f82-4572-9cde-71d96347ff0e",
     "prev": "c43f2c8f-0d8c-4e73-b634-eb969dbd37af",
     "regions": {
      "b9e8988b-7077-49fd-9f0b-26ac0c2cda79": {
       "attrs": {
        "height": 0.8,
        "width": 0.8,
        "x": 0.1,
        "y": 0.1
       },
       "content": {
        "cell": "5b6032b0-5f62-4cab-bdb7-3e53d38d053a",
        "part": "whole"
       },
       "id": "b9e8988b-7077-49fd-9f0b-26ac0c2cda79"
      }
     }
    },
    "f4bb716c-4c8c-4dba-9ecc-4f2ed08b673b": {
     "id": "f4bb716c-4c8c-4dba-9ecc-4f2ed08b673b",
     "prev": "68e6db9d-3646-4bf7-ab60-dbb27e8dce17",
     "regions": {
      "22660405-9b82-4f63-8eca-77c0bb4f3b0f": {
       "attrs": {
        "height": 0.8,
        "width": 0.8,
        "x": 0.1,
        "y": 0.1
       },
       "content": {
        "cell": "e0b4a57f-0c59-48d3-ac92-b5d1f5bbd174",
        "part": "whole"
       },
       "id": "22660405-9b82-4f63-8eca-77c0bb4f3b0f"
      }
     }
    },
    "f5b22788-8c44-4526-8e01-7647423f0af6": {
     "id": "f5b22788-8c44-4526-8e01-7647423f0af6",
     "prev": "7fb7bd24-d481-485f-99a6-3dff9a7cee9c",
     "regions": {
      "b29ce655-f872-4f99-9d95-4f18d063cad3": {
       "attrs": {
        "height": 0.8,
        "width": 0.8,
        "x": 0.1,
        "y": 0.1
       },
       "content": {
        "cell": "64f0c9a3-7862-49af-b7f9-cb9fd1d7d74f",
        "part": "whole"
       },
       "id": "b29ce655-f872-4f99-9d95-4f18d063cad3"
      }
     }
    }
   },
   "themes": {}
  }
 },
 "nbformat": 4,
 "nbformat_minor": 0
}
