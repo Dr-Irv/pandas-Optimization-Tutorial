{
 "cells": [
  {
   "cell_type": "markdown",
   "metadata": {},
   "source": [
    "# A people assignment problem.\n",
    "## Copyright (C) Princeton Consultants, 2017-2018\n",
    "\n",
    "- Assign hours of work of people to sites per day of week\n",
    "- Each person can work\n",
    "  - At most a specified number of hours per day\n",
    "  - At most a specified number of hours per week\n",
    "  - At most a specified number of days per week\n",
    "- Each site needs a set of people assigned for a number of hours per day\n",
    "- When a person is assigned to a site\n",
    "  - They must be assigned for at least an hour, in half-hour increments\n",
    "  - They must be assigned for at least 2 days in the week\n",
    "- There is a preference score for each person/site pair that is eligible to be assigned\n",
    "  - Maximize the preferences\n",
    "- There are not enough people available to cover all the site requirements, so maximize the coverage as best as possible \n"
   ]
  },
  {
   "cell_type": "markdown",
   "metadata": {
    "nbpresent": {
     "id": "fd9184b4-be86-4fb1-8376-b11824d47e06"
    }
   },
   "source": [
    "## The list of files:\n",
    "* sites.csv   contains site data:  ID and num hours per week\n",
    "* people.csv  contains people data:  ID, total hours per week, days per week\n",
    "* peoplehoursperday.csv contains hours per day for each person:  ID, day, hours\n",
    "* sitehoursperday.csv contains hours per day for each site:  ID, day, hours\n",
    "* prefs.csv contains the allowed assignments and a preference score:  person_id, site_id, pref\n"
   ]
  },
  {
   "cell_type": "code",
   "execution_count": 3,
   "metadata": {
    "nbpresent": {
     "id": "7dcf0393-587c-4c84-9dbe-c3956c491817"
    }
   },
   "outputs": [],
   "source": [
    "import pandas as pd\n",
    "sites = pd.read_csv(\"sites.csv\", index_col=0)\n",
    "sites.index.name = 'site_id'\n",
    "people = pd.read_csv(\"people.csv\", index_col=0)\n",
    "people.index.name = 'person_id'\n",
    "peoplehoursperday = pd.read_csv(\"peoplehoursperday.csv\", index_col=[0,1])\n",
    "peoplehoursperday.index.names = ['person_id', 'day']\n",
    "sitehoursperday = pd.read_csv(\"sitehoursperday.csv\", index_col=[0,1])\n",
    "sitehoursperday.index.names = ['site_id', 'day']\n",
    "prefs = pd.read_csv(\"prefs.csv\", index_col=[0,1])"
   ]
  },
  {
   "cell_type": "code",
   "execution_count": 4,
   "metadata": {
    "nbpresent": {
     "id": "a089f7d1-a1e6-4c68-8db2-b9926b417495"
    }
   },
   "outputs": [
    {
     "data": {
      "text/html": [
       "<div>\n",
       "<style scoped>\n",
       "    .dataframe tbody tr th:only-of-type {\n",
       "        vertical-align: middle;\n",
       "    }\n",
       "\n",
       "    .dataframe tbody tr th {\n",
       "        vertical-align: top;\n",
       "    }\n",
       "\n",
       "    .dataframe thead th {\n",
       "        text-align: right;\n",
       "    }\n",
       "</style>\n",
       "<table border=\"1\" class=\"dataframe\">\n",
       "  <thead>\n",
       "    <tr style=\"text-align: right;\">\n",
       "      <th></th>\n",
       "      <th>num_hours</th>\n",
       "    </tr>\n",
       "    <tr>\n",
       "      <th>site_id</th>\n",
       "      <th></th>\n",
       "    </tr>\n",
       "  </thead>\n",
       "  <tbody>\n",
       "    <tr>\n",
       "      <th>TWD0000000357BVYIM</th>\n",
       "      <td>12.0</td>\n",
       "    </tr>\n",
       "    <tr>\n",
       "      <th>UXE0000000358CWZJN</th>\n",
       "      <td>179.0</td>\n",
       "    </tr>\n",
       "    <tr>\n",
       "      <th>VYF0000000359DXAKO</th>\n",
       "      <td>171.0</td>\n",
       "    </tr>\n",
       "    <tr>\n",
       "      <th>WZG0000000360EYBLP</th>\n",
       "      <td>11.0</td>\n",
       "    </tr>\n",
       "    <tr>\n",
       "      <th>XAH0000000361FZCMQ</th>\n",
       "      <td>10.0</td>\n",
       "    </tr>\n",
       "  </tbody>\n",
       "</table>\n",
       "</div>"
      ],
      "text/plain": [
       "                    num_hours\n",
       "site_id                      \n",
       "TWD0000000357BVYIM       12.0\n",
       "UXE0000000358CWZJN      179.0\n",
       "VYF0000000359DXAKO      171.0\n",
       "WZG0000000360EYBLP       11.0\n",
       "XAH0000000361FZCMQ       10.0"
      ]
     },
     "execution_count": 4,
     "metadata": {},
     "output_type": "execute_result"
    }
   ],
   "source": [
    "sites.head()"
   ]
  },
  {
   "cell_type": "code",
   "execution_count": 5,
   "metadata": {
    "nbpresent": {
     "id": "2f154cd0-30ea-476f-81cc-3dc70f4a4232"
    }
   },
   "outputs": [
    {
     "data": {
      "text/html": [
       "<div>\n",
       "<style scoped>\n",
       "    .dataframe tbody tr th:only-of-type {\n",
       "        vertical-align: middle;\n",
       "    }\n",
       "\n",
       "    .dataframe tbody tr th {\n",
       "        vertical-align: top;\n",
       "    }\n",
       "\n",
       "    .dataframe thead th {\n",
       "        text-align: right;\n",
       "    }\n",
       "</style>\n",
       "<table border=\"1\" class=\"dataframe\">\n",
       "  <thead>\n",
       "    <tr style=\"text-align: right;\">\n",
       "      <th></th>\n",
       "      <th>total_hrs_per_week</th>\n",
       "      <th>days_per_week</th>\n",
       "    </tr>\n",
       "    <tr>\n",
       "      <th>person_id</th>\n",
       "      <th></th>\n",
       "      <th></th>\n",
       "    </tr>\n",
       "  </thead>\n",
       "  <tbody>\n",
       "    <tr>\n",
       "      <th>ADK0000000000ICFPT</th>\n",
       "      <td>6</td>\n",
       "      <td>3</td>\n",
       "    </tr>\n",
       "    <tr>\n",
       "      <th>BEL0000000001JDGQU</th>\n",
       "      <td>12</td>\n",
       "      <td>3</td>\n",
       "    </tr>\n",
       "    <tr>\n",
       "      <th>CFM0000000002KEHRV</th>\n",
       "      <td>10</td>\n",
       "      <td>7</td>\n",
       "    </tr>\n",
       "    <tr>\n",
       "      <th>DGN0000000003LFISW</th>\n",
       "      <td>28</td>\n",
       "      <td>6</td>\n",
       "    </tr>\n",
       "    <tr>\n",
       "      <th>EHO0000000004MGJTX</th>\n",
       "      <td>14</td>\n",
       "      <td>1</td>\n",
       "    </tr>\n",
       "  </tbody>\n",
       "</table>\n",
       "</div>"
      ],
      "text/plain": [
       "                    total_hrs_per_week  days_per_week\n",
       "person_id                                            \n",
       "ADK0000000000ICFPT                   6              3\n",
       "BEL0000000001JDGQU                  12              3\n",
       "CFM0000000002KEHRV                  10              7\n",
       "DGN0000000003LFISW                  28              6\n",
       "EHO0000000004MGJTX                  14              1"
      ]
     },
     "execution_count": 5,
     "metadata": {},
     "output_type": "execute_result"
    }
   ],
   "source": [
    "people.head()"
   ]
  },
  {
   "cell_type": "code",
   "execution_count": 6,
   "metadata": {
    "nbpresent": {
     "id": "9cbcefc2-a5f0-4310-b57d-5fda361137d0"
    }
   },
   "outputs": [
    {
     "data": {
      "text/html": [
       "<div>\n",
       "<style scoped>\n",
       "    .dataframe tbody tr th:only-of-type {\n",
       "        vertical-align: middle;\n",
       "    }\n",
       "\n",
       "    .dataframe tbody tr th {\n",
       "        vertical-align: top;\n",
       "    }\n",
       "\n",
       "    .dataframe thead th {\n",
       "        text-align: right;\n",
       "    }\n",
       "</style>\n",
       "<table border=\"1\" class=\"dataframe\">\n",
       "  <thead>\n",
       "    <tr style=\"text-align: right;\">\n",
       "      <th></th>\n",
       "      <th></th>\n",
       "      <th>hours</th>\n",
       "    </tr>\n",
       "    <tr>\n",
       "      <th>site_id</th>\n",
       "      <th>day</th>\n",
       "      <th></th>\n",
       "    </tr>\n",
       "  </thead>\n",
       "  <tbody>\n",
       "    <tr>\n",
       "      <th rowspan=\"5\" valign=\"top\">ADK0000000364ICFPT</th>\n",
       "      <th>Mo</th>\n",
       "      <td>8.0</td>\n",
       "    </tr>\n",
       "    <tr>\n",
       "      <th>Tu</th>\n",
       "      <td>8.0</td>\n",
       "    </tr>\n",
       "    <tr>\n",
       "      <th>We</th>\n",
       "      <td>8.0</td>\n",
       "    </tr>\n",
       "    <tr>\n",
       "      <th>Th</th>\n",
       "      <td>8.0</td>\n",
       "    </tr>\n",
       "    <tr>\n",
       "      <th>Fr</th>\n",
       "      <td>4.0</td>\n",
       "    </tr>\n",
       "  </tbody>\n",
       "</table>\n",
       "</div>"
      ],
      "text/plain": [
       "                        hours\n",
       "site_id            day       \n",
       "ADK0000000364ICFPT Mo     8.0\n",
       "                   Tu     8.0\n",
       "                   We     8.0\n",
       "                   Th     8.0\n",
       "                   Fr     4.0"
      ]
     },
     "execution_count": 6,
     "metadata": {},
     "output_type": "execute_result"
    }
   ],
   "source": [
    "sitehoursperday.head()"
   ]
  },
  {
   "cell_type": "code",
   "execution_count": 7,
   "metadata": {
    "nbpresent": {
     "id": "fd277f93-2a2c-4a5b-838a-01872ecad88d"
    }
   },
   "outputs": [
    {
     "data": {
      "text/html": [
       "<div>\n",
       "<style scoped>\n",
       "    .dataframe tbody tr th:only-of-type {\n",
       "        vertical-align: middle;\n",
       "    }\n",
       "\n",
       "    .dataframe tbody tr th {\n",
       "        vertical-align: top;\n",
       "    }\n",
       "\n",
       "    .dataframe thead th {\n",
       "        text-align: right;\n",
       "    }\n",
       "</style>\n",
       "<table border=\"1\" class=\"dataframe\">\n",
       "  <thead>\n",
       "    <tr style=\"text-align: right;\">\n",
       "      <th></th>\n",
       "      <th></th>\n",
       "      <th>hours</th>\n",
       "    </tr>\n",
       "    <tr>\n",
       "      <th>person_id</th>\n",
       "      <th>day</th>\n",
       "      <th></th>\n",
       "    </tr>\n",
       "  </thead>\n",
       "  <tbody>\n",
       "    <tr>\n",
       "      <th>ADK0000000000ICFPT</th>\n",
       "      <th>Mo</th>\n",
       "      <td>0</td>\n",
       "    </tr>\n",
       "    <tr>\n",
       "      <th>BEL0000000001JDGQU</th>\n",
       "      <th>Mo</th>\n",
       "      <td>8</td>\n",
       "    </tr>\n",
       "    <tr>\n",
       "      <th>CFM0000000002KEHRV</th>\n",
       "      <th>Mo</th>\n",
       "      <td>0</td>\n",
       "    </tr>\n",
       "    <tr>\n",
       "      <th>DGN0000000003LFISW</th>\n",
       "      <th>Mo</th>\n",
       "      <td>0</td>\n",
       "    </tr>\n",
       "    <tr>\n",
       "      <th>EHO0000000004MGJTX</th>\n",
       "      <th>Mo</th>\n",
       "      <td>0</td>\n",
       "    </tr>\n",
       "  </tbody>\n",
       "</table>\n",
       "</div>"
      ],
      "text/plain": [
       "                        hours\n",
       "person_id          day       \n",
       "ADK0000000000ICFPT Mo       0\n",
       "BEL0000000001JDGQU Mo       8\n",
       "CFM0000000002KEHRV Mo       0\n",
       "DGN0000000003LFISW Mo       0\n",
       "EHO0000000004MGJTX Mo       0"
      ]
     },
     "execution_count": 7,
     "metadata": {},
     "output_type": "execute_result"
    }
   ],
   "source": [
    "peoplehoursperday.head()"
   ]
  },
  {
   "cell_type": "code",
   "execution_count": 8,
   "metadata": {
    "nbpresent": {
     "id": "062132a7-c9fc-463b-9800-37ff4c5a58eb"
    }
   },
   "outputs": [
    {
     "data": {
      "text/html": [
       "<div>\n",
       "<style scoped>\n",
       "    .dataframe tbody tr th:only-of-type {\n",
       "        vertical-align: middle;\n",
       "    }\n",
       "\n",
       "    .dataframe tbody tr th {\n",
       "        vertical-align: top;\n",
       "    }\n",
       "\n",
       "    .dataframe thead th {\n",
       "        text-align: right;\n",
       "    }\n",
       "</style>\n",
       "<table border=\"1\" class=\"dataframe\">\n",
       "  <thead>\n",
       "    <tr style=\"text-align: right;\">\n",
       "      <th></th>\n",
       "      <th></th>\n",
       "      <th>pref</th>\n",
       "    </tr>\n",
       "    <tr>\n",
       "      <th>person_id</th>\n",
       "      <th>site_id</th>\n",
       "      <th></th>\n",
       "    </tr>\n",
       "  </thead>\n",
       "  <tbody>\n",
       "    <tr>\n",
       "      <th>MPW0000000272UORBF</th>\n",
       "      <th>ADK0000000364ICFPT</th>\n",
       "      <td>64</td>\n",
       "    </tr>\n",
       "    <tr>\n",
       "      <th>ORY0000000196WQTDH</th>\n",
       "      <th>ADK0000000364ICFPT</th>\n",
       "      <td>32</td>\n",
       "    </tr>\n",
       "    <tr>\n",
       "      <th>QTA0000000146YSVFJ</th>\n",
       "      <th>ADK0000000364ICFPT</th>\n",
       "      <td>97</td>\n",
       "    </tr>\n",
       "    <tr>\n",
       "      <th>TWD0000000123BVYIM</th>\n",
       "      <th>ADK0000000364ICFPT</th>\n",
       "      <td>57</td>\n",
       "    </tr>\n",
       "    <tr>\n",
       "      <th>ADK0000000000ICFPT</th>\n",
       "      <th>ADK0000000390ICFPT</th>\n",
       "      <td>35</td>\n",
       "    </tr>\n",
       "  </tbody>\n",
       "</table>\n",
       "</div>"
      ],
      "text/plain": [
       "                                       pref\n",
       "person_id          site_id                 \n",
       "MPW0000000272UORBF ADK0000000364ICFPT    64\n",
       "ORY0000000196WQTDH ADK0000000364ICFPT    32\n",
       "QTA0000000146YSVFJ ADK0000000364ICFPT    97\n",
       "TWD0000000123BVYIM ADK0000000364ICFPT    57\n",
       "ADK0000000000ICFPT ADK0000000390ICFPT    35"
      ]
     },
     "execution_count": 8,
     "metadata": {},
     "output_type": "execute_result"
    }
   ],
   "source": [
    "prefs.head()"
   ]
  },
  {
   "cell_type": "markdown",
   "metadata": {
    "nbpresent": {
     "id": "c2b3148c-ac5b-412b-be2f-5ec21f11305b"
    }
   },
   "source": [
    "## Data checks.  Do people and peoplehoursperday correspond?  Compare the indexes"
   ]
  },
  {
   "cell_type": "code",
   "execution_count": 9,
   "metadata": {
    "nbpresent": {
     "id": "8d23ef4d-b110-41a0-8623-80903fc9af4d"
    }
   },
   "outputs": [
    {
     "name": "stdout",
     "output_type": "stream",
     "text": [
      "PeopleHoursPerDay and People refer to same people?  True\n",
      "Number of people  357\n"
     ]
    }
   ],
   "source": [
    "uniquePeople = set(people.index.get_level_values('person_id'))\n",
    "print (\"PeopleHoursPerDay and People refer to same people? \", \n",
    "       set(peoplehoursperday.index.get_level_values('person_id')) == uniquePeople)\n",
    "print (\"Number of people \", len(people))"
   ]
  },
  {
   "cell_type": "markdown",
   "metadata": {
    "nbpresent": {
     "id": "f880dee1-cabb-4646-b8f8-e6b24efb3e09"
    }
   },
   "source": [
    "## Check that the people in the prefs table are in the people table (and see if some people never are). \n"
   ]
  },
  {
   "cell_type": "code",
   "execution_count": 10,
   "metadata": {
    "nbpresent": {
     "id": "c6a28d42-6b4f-42c8-9b0d-08ff4f94f6ff"
    }
   },
   "outputs": [
    {
     "name": "stdout",
     "output_type": "stream",
     "text": [
      "People in Prefs and People refer to same people?  False\n",
      "Number of people in prefs =  338\n"
     ]
    }
   ],
   "source": [
    "peopleInPrefs = set(prefs.index.get_level_values('person_id'))\n",
    "print (\"People in Prefs and People refer to same people? \", \n",
    "       (len(uniquePeople) == len(peopleInPrefs)) and\n",
    "       (uniquePeople == peopleInPrefs))\n",
    "print (\"Number of people in prefs = \", len(peopleInPrefs))"
   ]
  },
  {
   "cell_type": "markdown",
   "metadata": {
    "nbpresent": {
     "id": "241aa92b-cd0a-49d5-976f-784dae1770c1"
    }
   },
   "source": [
    "## This means that some people can never be assigned.  Now check that the people in the prefs table are in the people table"
   ]
  },
  {
   "cell_type": "code",
   "execution_count": 11,
   "metadata": {
    "nbpresent": {
     "id": "49614599-6a86-46b5-896e-13c9ec5cf804"
    }
   },
   "outputs": [
    {
     "name": "stdout",
     "output_type": "stream",
     "text": [
      "People in prefs are in people table?  True\n"
     ]
    }
   ],
   "source": [
    "print (\"People in prefs are in people table? \",\n",
    "       peopleInPrefs.issubset(uniquePeople))\n"
   ]
  },
  {
   "cell_type": "markdown",
   "metadata": {
    "nbpresent": {
     "id": "bc9365c4-af8b-4fa1-887e-b6e06f38b536"
    }
   },
   "source": [
    "## Time to check the sites.  Do same checks as with people, but in reverse"
   ]
  },
  {
   "cell_type": "code",
   "execution_count": 12,
   "metadata": {
    "nbpresent": {
     "id": "cb374af8-3483-41f1-9006-3db72d6e84e3"
    }
   },
   "outputs": [
    {
     "name": "stdout",
     "output_type": "stream",
     "text": [
      "SiteHoursPerDay and Sites refer to same sites?  False\n",
      "Number of sites  548\n",
      "Number of sites from Hours Per day  498\n"
     ]
    }
   ],
   "source": [
    "uniqueSites = set(sites.index.get_level_values('site_id'))\n",
    "uniqueSitesPerDay = set(sitehoursperday.index.get_level_values('site_id'))\n",
    "print (\"SiteHoursPerDay and Sites refer to same sites? \",\n",
    "       (len(uniqueSites) == len(uniqueSitesPerDay)) and\n",
    "       uniqueSitesPerDay == uniqueSites)\n",
    "print (\"Number of sites \", len(uniqueSites))\n",
    "print (\"Number of sites from Hours Per day \", len(uniqueSitesPerDay))"
   ]
  },
  {
   "cell_type": "markdown",
   "metadata": {
    "nbpresent": {
     "id": "b1736cc4-e077-469e-bcc9-20c27dfffcd8"
    }
   },
   "source": [
    "## So there are some sites that have no openings on any days.  Let's make a list of them"
   ]
  },
  {
   "cell_type": "code",
   "execution_count": 13,
   "metadata": {
    "nbpresent": {
     "id": "8ca89dc1-6017-4b03-b5af-c0d9db10a81e"
    }
   },
   "outputs": [
    {
     "name": "stdout",
     "output_type": "stream",
     "text": [
      "Number of sites with no daily hours =  50\n"
     ]
    }
   ],
   "source": [
    "sitesWithNoDays = uniqueSites.difference(uniqueSitesPerDay)\n",
    "print(\"Number of sites with no daily hours = \", len(sitesWithNoDays))"
   ]
  },
  {
   "cell_type": "markdown",
   "metadata": {
    "nbpresent": {
     "id": "f8b78507-8022-4845-95bc-8d9a783a7cd5"
    }
   },
   "source": [
    "## So we have seen that there are 50 sites that have no days they can be assigned.  Now check the sites against the prefs table"
   ]
  },
  {
   "cell_type": "code",
   "execution_count": 14,
   "metadata": {
    "nbpresent": {
     "id": "d32bfa92-9dae-4142-86b8-781947efecd4"
    }
   },
   "outputs": [
    {
     "name": "stdout",
     "output_type": "stream",
     "text": [
      "Number of sites from prefs =  498\n"
     ]
    }
   ],
   "source": [
    "sitesInPrefs = set(prefs.index.get_level_values('site_id'))\n",
    "print(\"Number of sites from prefs = \", len(sitesInPrefs))"
   ]
  },
  {
   "cell_type": "markdown",
   "metadata": {
    "nbpresent": {
     "id": "85e35bbb-2b2d-4b54-9be0-609cca1dccad"
    }
   },
   "source": [
    "## Take a guess that the data is consistent in this regard"
   ]
  },
  {
   "cell_type": "markdown",
   "metadata": {
    "nbpresent": {
     "id": "3a1f454f-e0dc-4d2f-bfb0-4fa1873b910a"
    }
   },
   "source": [
    "# The next step is to take the prefs table (eligible pairs), merge with the peoplehoursperday and the sitehoursperday, and determine how many hours can possibly be assigned to each pair (the min of the two values)"
   ]
  },
  {
   "cell_type": "code",
   "execution_count": 21,
   "metadata": {
    "nbpresent": {
     "id": "52aca7e0-0567-4d4e-9e5c-f363a0958704"
    },
    "scrolled": true
   },
   "outputs": [
    {
     "name": "stdout",
     "output_type": "stream",
     "text": [
      "Length of prefs with daily, including zeros =  112364\n",
      "Length of prefs with daily, without zeros =  87621\n"
     ]
    },
    {
     "data": {
      "text/html": [
       "<div>\n",
       "<style scoped>\n",
       "    .dataframe tbody tr th:only-of-type {\n",
       "        vertical-align: middle;\n",
       "    }\n",
       "\n",
       "    .dataframe tbody tr th {\n",
       "        vertical-align: top;\n",
       "    }\n",
       "\n",
       "    .dataframe thead th {\n",
       "        text-align: right;\n",
       "    }\n",
       "</style>\n",
       "<table border=\"1\" class=\"dataframe\">\n",
       "  <thead>\n",
       "    <tr style=\"text-align: right;\">\n",
       "      <th></th>\n",
       "      <th>person_id</th>\n",
       "      <th>site_id</th>\n",
       "      <th>pref</th>\n",
       "      <th>day</th>\n",
       "      <th>daily_hours</th>\n",
       "    </tr>\n",
       "  </thead>\n",
       "  <tbody>\n",
       "    <tr>\n",
       "      <th>0</th>\n",
       "      <td>MPW0000000272UORBF</td>\n",
       "      <td>ADK0000000364ICFPT</td>\n",
       "      <td>64</td>\n",
       "      <td>Mo</td>\n",
       "      <td>8.0</td>\n",
       "    </tr>\n",
       "    <tr>\n",
       "      <th>2</th>\n",
       "      <td>QTA0000000146YSVFJ</td>\n",
       "      <td>ADK0000000364ICFPT</td>\n",
       "      <td>97</td>\n",
       "      <td>Mo</td>\n",
       "      <td>6.0</td>\n",
       "    </tr>\n",
       "    <tr>\n",
       "      <th>3</th>\n",
       "      <td>TWD0000000123BVYIM</td>\n",
       "      <td>ADK0000000364ICFPT</td>\n",
       "      <td>57</td>\n",
       "      <td>Mo</td>\n",
       "      <td>6.0</td>\n",
       "    </tr>\n",
       "    <tr>\n",
       "      <th>4</th>\n",
       "      <td>MPW0000000272UORBF</td>\n",
       "      <td>ADK0000000364ICFPT</td>\n",
       "      <td>64</td>\n",
       "      <td>Tu</td>\n",
       "      <td>8.0</td>\n",
       "    </tr>\n",
       "    <tr>\n",
       "      <th>6</th>\n",
       "      <td>QTA0000000146YSVFJ</td>\n",
       "      <td>ADK0000000364ICFPT</td>\n",
       "      <td>97</td>\n",
       "      <td>Tu</td>\n",
       "      <td>6.0</td>\n",
       "    </tr>\n",
       "    <tr>\n",
       "      <th>7</th>\n",
       "      <td>TWD0000000123BVYIM</td>\n",
       "      <td>ADK0000000364ICFPT</td>\n",
       "      <td>57</td>\n",
       "      <td>Tu</td>\n",
       "      <td>6.0</td>\n",
       "    </tr>\n",
       "    <tr>\n",
       "      <th>8</th>\n",
       "      <td>MPW0000000272UORBF</td>\n",
       "      <td>ADK0000000364ICFPT</td>\n",
       "      <td>64</td>\n",
       "      <td>We</td>\n",
       "      <td>8.0</td>\n",
       "    </tr>\n",
       "    <tr>\n",
       "      <th>9</th>\n",
       "      <td>ORY0000000196WQTDH</td>\n",
       "      <td>ADK0000000364ICFPT</td>\n",
       "      <td>32</td>\n",
       "      <td>We</td>\n",
       "      <td>4.0</td>\n",
       "    </tr>\n",
       "    <tr>\n",
       "      <th>10</th>\n",
       "      <td>QTA0000000146YSVFJ</td>\n",
       "      <td>ADK0000000364ICFPT</td>\n",
       "      <td>97</td>\n",
       "      <td>We</td>\n",
       "      <td>6.0</td>\n",
       "    </tr>\n",
       "    <tr>\n",
       "      <th>11</th>\n",
       "      <td>TWD0000000123BVYIM</td>\n",
       "      <td>ADK0000000364ICFPT</td>\n",
       "      <td>57</td>\n",
       "      <td>We</td>\n",
       "      <td>6.0</td>\n",
       "    </tr>\n",
       "    <tr>\n",
       "      <th>12</th>\n",
       "      <td>MPW0000000272UORBF</td>\n",
       "      <td>ADK0000000364ICFPT</td>\n",
       "      <td>64</td>\n",
       "      <td>Th</td>\n",
       "      <td>4.0</td>\n",
       "    </tr>\n",
       "    <tr>\n",
       "      <th>13</th>\n",
       "      <td>ORY0000000196WQTDH</td>\n",
       "      <td>ADK0000000364ICFPT</td>\n",
       "      <td>32</td>\n",
       "      <td>Th</td>\n",
       "      <td>4.0</td>\n",
       "    </tr>\n",
       "    <tr>\n",
       "      <th>14</th>\n",
       "      <td>QTA0000000146YSVFJ</td>\n",
       "      <td>ADK0000000364ICFPT</td>\n",
       "      <td>97</td>\n",
       "      <td>Th</td>\n",
       "      <td>6.0</td>\n",
       "    </tr>\n",
       "    <tr>\n",
       "      <th>15</th>\n",
       "      <td>TWD0000000123BVYIM</td>\n",
       "      <td>ADK0000000364ICFPT</td>\n",
       "      <td>57</td>\n",
       "      <td>Th</td>\n",
       "      <td>6.0</td>\n",
       "    </tr>\n",
       "    <tr>\n",
       "      <th>16</th>\n",
       "      <td>MPW0000000272UORBF</td>\n",
       "      <td>ADK0000000364ICFPT</td>\n",
       "      <td>64</td>\n",
       "      <td>Fr</td>\n",
       "      <td>4.0</td>\n",
       "    </tr>\n",
       "    <tr>\n",
       "      <th>17</th>\n",
       "      <td>ORY0000000196WQTDH</td>\n",
       "      <td>ADK0000000364ICFPT</td>\n",
       "      <td>32</td>\n",
       "      <td>Fr</td>\n",
       "      <td>4.0</td>\n",
       "    </tr>\n",
       "    <tr>\n",
       "      <th>19</th>\n",
       "      <td>TWD0000000123BVYIM</td>\n",
       "      <td>ADK0000000364ICFPT</td>\n",
       "      <td>57</td>\n",
       "      <td>Fr</td>\n",
       "      <td>2.0</td>\n",
       "    </tr>\n",
       "    <tr>\n",
       "      <th>22</th>\n",
       "      <td>ADK0000000052ICFPT</td>\n",
       "      <td>ADK0000000390ICFPT</td>\n",
       "      <td>97</td>\n",
       "      <td>Mo</td>\n",
       "      <td>4.0</td>\n",
       "    </tr>\n",
       "    <tr>\n",
       "      <th>23</th>\n",
       "      <td>ADK0000000130ICFPT</td>\n",
       "      <td>ADK0000000390ICFPT</td>\n",
       "      <td>49</td>\n",
       "      <td>Mo</td>\n",
       "      <td>8.0</td>\n",
       "    </tr>\n",
       "    <tr>\n",
       "      <th>24</th>\n",
       "      <td>ADK0000000156ICFPT</td>\n",
       "      <td>ADK0000000390ICFPT</td>\n",
       "      <td>45</td>\n",
       "      <td>Mo</td>\n",
       "      <td>4.0</td>\n",
       "    </tr>\n",
       "  </tbody>\n",
       "</table>\n",
       "</div>"
      ],
      "text/plain": [
       "             person_id             site_id  pref day  daily_hours\n",
       "0   MPW0000000272UORBF  ADK0000000364ICFPT    64  Mo          8.0\n",
       "2   QTA0000000146YSVFJ  ADK0000000364ICFPT    97  Mo          6.0\n",
       "3   TWD0000000123BVYIM  ADK0000000364ICFPT    57  Mo          6.0\n",
       "4   MPW0000000272UORBF  ADK0000000364ICFPT    64  Tu          8.0\n",
       "6   QTA0000000146YSVFJ  ADK0000000364ICFPT    97  Tu          6.0\n",
       "7   TWD0000000123BVYIM  ADK0000000364ICFPT    57  Tu          6.0\n",
       "8   MPW0000000272UORBF  ADK0000000364ICFPT    64  We          8.0\n",
       "9   ORY0000000196WQTDH  ADK0000000364ICFPT    32  We          4.0\n",
       "10  QTA0000000146YSVFJ  ADK0000000364ICFPT    97  We          6.0\n",
       "11  TWD0000000123BVYIM  ADK0000000364ICFPT    57  We          6.0\n",
       "12  MPW0000000272UORBF  ADK0000000364ICFPT    64  Th          4.0\n",
       "13  ORY0000000196WQTDH  ADK0000000364ICFPT    32  Th          4.0\n",
       "14  QTA0000000146YSVFJ  ADK0000000364ICFPT    97  Th          6.0\n",
       "15  TWD0000000123BVYIM  ADK0000000364ICFPT    57  Th          6.0\n",
       "16  MPW0000000272UORBF  ADK0000000364ICFPT    64  Fr          4.0\n",
       "17  ORY0000000196WQTDH  ADK0000000364ICFPT    32  Fr          4.0\n",
       "19  TWD0000000123BVYIM  ADK0000000364ICFPT    57  Fr          2.0\n",
       "22  ADK0000000052ICFPT  ADK0000000390ICFPT    97  Mo          4.0\n",
       "23  ADK0000000130ICFPT  ADK0000000390ICFPT    49  Mo          8.0\n",
       "24  ADK0000000156ICFPT  ADK0000000390ICFPT    45  Mo          4.0"
      ]
     },
     "execution_count": 21,
     "metadata": {},
     "output_type": "execute_result"
    }
   ],
   "source": [
    "prefswithdaily = (\n",
    "    pd.merge(prefs.reset_index(), peoplehoursperday.reset_index(), on='person_id', how='left')\n",
    "    .rename(columns={'hours' : 'person_hours'})\n",
    "    .merge(sitehoursperday.reset_index(), on=['site_id','day'], how='inner')\n",
    "    .rename(columns={'hours' : 'site_hours'})\n",
    "    )\n",
    "prefswithdaily['daily_hours'] = prefswithdaily[['person_hours','site_hours']].min(axis=1)\n",
    "print(\"Length of prefs with daily, including zeros = \", len(prefswithdaily))\n",
    "prefswithdaily = prefswithdaily.drop(['person_hours','site_hours'],axis=1)[prefswithdaily.daily_hours > 0]\n",
    "print(\"Length of prefs with daily, without zeros = \",len(prefswithdaily))\n",
    "prefswithdaily.head(20)"
   ]
  },
  {
   "cell_type": "code",
   "execution_count": 23,
   "metadata": {},
   "outputs": [],
   "source": [
    "import sys\n",
    "sys.path.append(\"C:/EclipseWorkspaces/LiClipseWorkspace/OptiPandas/src\")\n",
    "import optipandas as opd\n",
    "opd.init('GUROBI')\n"
   ]
  },
  {
   "cell_type": "code",
   "execution_count": 24,
   "metadata": {
    "nbpresent": {
     "id": "fc9867e9-9d01-46a2-9b3f-9ef79054fc89"
    }
   },
   "outputs": [
    {
     "data": {
      "text/plain": [
       "(7, 5, 2)"
      ]
     },
     "execution_count": 24,
     "metadata": {},
     "output_type": "execute_result"
    }
   ],
   "source": [
    "from gurobipy import *\n",
    "gurobipy.gurobi.version()"
   ]
  },
  {
   "cell_type": "code",
   "execution_count": 25,
   "metadata": {
    "nbpresent": {
     "id": "d1cd05b4-d881-48e4-90fb-e5b8b860809b"
    }
   },
   "outputs": [
    {
     "data": {
      "text/html": [
       "<div>\n",
       "<style scoped>\n",
       "    .dataframe tbody tr th:only-of-type {\n",
       "        vertical-align: middle;\n",
       "    }\n",
       "\n",
       "    .dataframe tbody tr th {\n",
       "        vertical-align: top;\n",
       "    }\n",
       "\n",
       "    .dataframe thead th {\n",
       "        text-align: right;\n",
       "    }\n",
       "</style>\n",
       "<table border=\"1\" class=\"dataframe\">\n",
       "  <thead>\n",
       "    <tr style=\"text-align: right;\">\n",
       "      <th></th>\n",
       "      <th></th>\n",
       "      <th></th>\n",
       "      <th>pref</th>\n",
       "      <th>daily_hours</th>\n",
       "    </tr>\n",
       "    <tr>\n",
       "      <th>person_id</th>\n",
       "      <th>site_id</th>\n",
       "      <th>day</th>\n",
       "      <th></th>\n",
       "      <th></th>\n",
       "    </tr>\n",
       "  </thead>\n",
       "  <tbody>\n",
       "    <tr>\n",
       "      <th>MPW0000000272UORBF</th>\n",
       "      <th>ADK0000000364ICFPT</th>\n",
       "      <th>Mo</th>\n",
       "      <td>64</td>\n",
       "      <td>8.0</td>\n",
       "    </tr>\n",
       "    <tr>\n",
       "      <th>QTA0000000146YSVFJ</th>\n",
       "      <th>ADK0000000364ICFPT</th>\n",
       "      <th>Mo</th>\n",
       "      <td>97</td>\n",
       "      <td>6.0</td>\n",
       "    </tr>\n",
       "    <tr>\n",
       "      <th>TWD0000000123BVYIM</th>\n",
       "      <th>ADK0000000364ICFPT</th>\n",
       "      <th>Mo</th>\n",
       "      <td>57</td>\n",
       "      <td>6.0</td>\n",
       "    </tr>\n",
       "    <tr>\n",
       "      <th>MPW0000000272UORBF</th>\n",
       "      <th>ADK0000000364ICFPT</th>\n",
       "      <th>Tu</th>\n",
       "      <td>64</td>\n",
       "      <td>8.0</td>\n",
       "    </tr>\n",
       "    <tr>\n",
       "      <th>QTA0000000146YSVFJ</th>\n",
       "      <th>ADK0000000364ICFPT</th>\n",
       "      <th>Tu</th>\n",
       "      <td>97</td>\n",
       "      <td>6.0</td>\n",
       "    </tr>\n",
       "  </tbody>\n",
       "</table>\n",
       "</div>"
      ],
      "text/plain": [
       "                                           pref  daily_hours\n",
       "person_id          site_id            day                   \n",
       "MPW0000000272UORBF ADK0000000364ICFPT Mo     64          8.0\n",
       "QTA0000000146YSVFJ ADK0000000364ICFPT Mo     97          6.0\n",
       "TWD0000000123BVYIM ADK0000000364ICFPT Mo     57          6.0\n",
       "MPW0000000272UORBF ADK0000000364ICFPT Tu     64          8.0\n",
       "QTA0000000146YSVFJ ADK0000000364ICFPT Tu     97          6.0"
      ]
     },
     "execution_count": 25,
     "metadata": {},
     "output_type": "execute_result"
    }
   ],
   "source": [
    "allvars = prefswithdaily.set_index(['person_id','site_id','day'])\n",
    "allvars.head()"
   ]
  },
  {
   "cell_type": "code",
   "execution_count": 26,
   "metadata": {
    "nbpresent": {
     "id": "e0ef4845-efc3-47af-b9a5-6a7b3fae4c2a"
    }
   },
   "outputs": [
    {
     "name": "stdout",
     "output_type": "stream",
     "text": [
      "31427 337 498\n"
     ]
    }
   ],
   "source": [
    "eligiblePairs = set((p,s) for (p,s,d) in allvars.index)\n",
    "eligiblePeople = set(p for p,s in eligiblePairs)\n",
    "eligibleSites = set(s for p,s in eligiblePairs)\n",
    "print (len(eligiblePairs), len(eligiblePeople), len(eligibleSites))"
   ]
  },
  {
   "cell_type": "code",
   "execution_count": 28,
   "metadata": {
    "nbpresent": {
     "id": "64f0c9a3-7862-49af-b7f9-cb9fd1d7d74f"
    }
   },
   "outputs": [],
   "source": [
    "m=Model(\"sched\")"
   ]
  },
  {
   "cell_type": "markdown",
   "metadata": {},
   "source": [
    "### Declare h and pairday\n",
    "    dvar int+ h[<p,s,d> in allVarsIndex] in 0..blocksPerPersonSiteDay[<p,s,d>];\n",
    "    dvar int+ pairday[<p,s,d> in allVarsIndex] in 0..1;\n"
   ]
  },
  {
   "cell_type": "code",
   "execution_count": 19,
   "metadata": {},
   "outputs": [],
   "source": [
    "h = pd.Series(m.addVars(allvars.index, \n",
    "                         ub=2*allvars.daily_hours.values,\n",
    "                         vtype=GRB.INTEGER,\n",
    "                         name=\"h\").values(),\n",
    "              index=allvars.index, name='h')\n",
    "pairday = pd.Series(m.addVars(allvars.index,\n",
    "                               vtype=GRB.BINARY,\n",
    "                               name='pairday').values(),\n",
    "                    index=allvars.index, name='pairday')\n",
    "m.update()"
   ]
  },
  {
   "cell_type": "code",
   "execution_count": 20,
   "metadata": {
    "nbpresent": {
     "id": "0a9ba483-b242-4453-8816-bb68f80759c8"
    }
   },
   "outputs": [
    {
     "data": {
      "text/plain": [
       "person_id           site_id             day\n",
       "MPW0000000272UORBF  ADK0000000364ICFPT  Mo     <gurobi.Var h[MPW0000000272UORBF,ADK0000000364ICFPT,Mo]>\n",
       "                                        Tu     <gurobi.Var h[MPW0000000272UORBF,ADK0000000364ICFPT,Tu]>\n",
       "                                        We     <gurobi.Var h[MPW0000000272UORBF,ADK0000000364ICFPT,We]>\n",
       "                                        Th     <gurobi.Var h[MPW0000000272UORBF,ADK0000000364ICFPT,Th]>\n",
       "                                        Fr     <gurobi.Var h[MPW0000000272UORBF,ADK0000000364ICFPT,Fr]>\n",
       "ORY0000000196WQTDH  ADK0000000364ICFPT  We     <gurobi.Var h[ORY0000000196WQTDH,ADK0000000364ICFPT,We]>\n",
       "                                        Th     <gurobi.Var h[ORY0000000196WQTDH,ADK0000000364ICFPT,Th]>\n",
       "                                        Fr     <gurobi.Var h[ORY0000000196WQTDH,ADK0000000364ICFPT,Fr]>\n",
       "QTA0000000146YSVFJ  ADK0000000364ICFPT  Mo     <gurobi.Var h[QTA0000000146YSVFJ,ADK0000000364ICFPT,Mo]>\n",
       "                                        Tu     <gurobi.Var h[QTA0000000146YSVFJ,ADK0000000364ICFPT,Tu]>\n",
       "Name: h, dtype: object"
      ]
     },
     "execution_count": 20,
     "metadata": {},
     "output_type": "execute_result"
    }
   ],
   "source": [
    "pd.set_option('display.max_colwidth', 1000)\n",
    "h.head(10)"
   ]
  },
  {
   "cell_type": "code",
   "execution_count": 21,
   "metadata": {},
   "outputs": [
    {
     "data": {
      "text/plain": [
       "person_id           site_id             day\n",
       "MPW0000000272UORBF  ADK0000000364ICFPT  Mo     <gurobi.Var pairday[MPW0000000272UORBF,ADK0000000364ICFPT,Mo]>\n",
       "                                        Tu     <gurobi.Var pairday[MPW0000000272UORBF,ADK0000000364ICFPT,Tu]>\n",
       "                                        We     <gurobi.Var pairday[MPW0000000272UORBF,ADK0000000364ICFPT,We]>\n",
       "                                        Th     <gurobi.Var pairday[MPW0000000272UORBF,ADK0000000364ICFPT,Th]>\n",
       "                                        Fr     <gurobi.Var pairday[MPW0000000272UORBF,ADK0000000364ICFPT,Fr]>\n",
       "Name: pairday, dtype: object"
      ]
     },
     "execution_count": 21,
     "metadata": {},
     "output_type": "execute_result"
    }
   ],
   "source": [
    "pairday.head()"
   ]
  },
  {
   "cell_type": "markdown",
   "metadata": {},
   "source": [
    "### Declare z\n",
    "    dvar int+ z[eligiblePairs] in 0..1;\n"
   ]
  },
  {
   "cell_type": "code",
   "execution_count": 22,
   "metadata": {
    "nbpresent": {
     "id": "0d2a9f7e-4fb7-402a-96f5-8135ca545caa"
    }
   },
   "outputs": [
    {
     "data": {
      "text/plain": [
       "person_id           site_id           \n",
       "NQX0000000065VPSCG  MPW0000000402UORBF    <gurobi.Var z[NQX0000000065VPSCG,MPW0000000402UORBF]>\n",
       "KNU0000000088SMPZD  RUB0000000823ZTWGK    <gurobi.Var z[KNU0000000088SMPZD,RUB0000000823ZTWGK]>\n",
       "VYF0000000281DXAKO  SVC0000000824AUXHL    <gurobi.Var z[VYF0000000281DXAKO,SVC0000000824AUXHL]>\n",
       "EHO0000000056MGJTX  EHO0000000706MGJTX    <gurobi.Var z[EHO0000000056MGJTX,EHO0000000706MGJTX]>\n",
       "RUB0000000069ZTWGK  HKR0000000397PJMWA    <gurobi.Var z[RUB0000000069ZTWGK,HKR0000000397PJMWA]>\n",
       "Name: z, dtype: object"
      ]
     },
     "execution_count": 22,
     "metadata": {},
     "output_type": "execute_result"
    }
   ],
   "source": [
    "z = pd.Series(m.addVars(eligiblePairs, vtype=GRB.BINARY, name=\"z\").values(), \n",
    "              index=pd.MultiIndex.from_tuples(eligiblePairs, names=['person_id','site_id']),\n",
    "              name='z')\n",
    "m.update()\n",
    "z.head()"
   ]
  },
  {
   "cell_type": "markdown",
   "metadata": {},
   "source": [
    "### Declare shortage and excess\n",
    "    dvar float+ shortage[eligibleSites];\n",
    "    dvar float+ excess[eligibleSites];\n"
   ]
  },
  {
   "cell_type": "code",
   "execution_count": 23,
   "metadata": {
    "nbpresent": {
     "id": "55f78c04-99dc-4543-b6b1-a4c6d059a046"
    }
   },
   "outputs": [
    {
     "name": "stdout",
     "output_type": "stream",
     "text": [
      "Number of variables  207665\n"
     ]
    },
    {
     "data": {
      "text/html": [
       "<div>\n",
       "<style scoped>\n",
       "    .dataframe tbody tr th:only-of-type {\n",
       "        vertical-align: middle;\n",
       "    }\n",
       "\n",
       "    .dataframe tbody tr th {\n",
       "        vertical-align: top;\n",
       "    }\n",
       "\n",
       "    .dataframe thead th {\n",
       "        text-align: right;\n",
       "    }\n",
       "</style>\n",
       "<table border=\"1\" class=\"dataframe\">\n",
       "  <thead>\n",
       "    <tr style=\"text-align: right;\">\n",
       "      <th></th>\n",
       "      <th>excess</th>\n",
       "      <th>shortage</th>\n",
       "    </tr>\n",
       "    <tr>\n",
       "      <th>site_id</th>\n",
       "      <th></th>\n",
       "      <th></th>\n",
       "    </tr>\n",
       "  </thead>\n",
       "  <tbody>\n",
       "    <tr>\n",
       "      <th>RUB0000000797ZTWGK</th>\n",
       "      <td>&lt;gurobi.Var excess[RUB0000000797ZTWGK]&gt;</td>\n",
       "      <td>&lt;gurobi.Var shortage[RUB0000000797ZTWGK]&gt;</td>\n",
       "    </tr>\n",
       "    <tr>\n",
       "      <th>GJQ0000000396OILVZ</th>\n",
       "      <td>&lt;gurobi.Var excess[GJQ0000000396OILVZ]&gt;</td>\n",
       "      <td>&lt;gurobi.Var shortage[GJQ0000000396OILVZ]&gt;</td>\n",
       "    </tr>\n",
       "    <tr>\n",
       "      <th>XAH0000000439FZCMQ</th>\n",
       "      <td>&lt;gurobi.Var excess[XAH0000000439FZCMQ]&gt;</td>\n",
       "      <td>&lt;gurobi.Var shortage[XAH0000000439FZCMQ]&gt;</td>\n",
       "    </tr>\n",
       "    <tr>\n",
       "      <th>HKR0000000657PJMWA</th>\n",
       "      <td>&lt;gurobi.Var excess[HKR0000000657PJMWA]&gt;</td>\n",
       "      <td>&lt;gurobi.Var shortage[HKR0000000657PJMWA]&gt;</td>\n",
       "    </tr>\n",
       "    <tr>\n",
       "      <th>EHO0000000654MGJTX</th>\n",
       "      <td>&lt;gurobi.Var excess[EHO0000000654MGJTX]&gt;</td>\n",
       "      <td>&lt;gurobi.Var shortage[EHO0000000654MGJTX]&gt;</td>\n",
       "    </tr>\n",
       "  </tbody>\n",
       "</table>\n",
       "</div>"
      ],
      "text/plain": [
       "                                                     excess  \\\n",
       "site_id                                                       \n",
       "RUB0000000797ZTWGK  <gurobi.Var excess[RUB0000000797ZTWGK]>   \n",
       "GJQ0000000396OILVZ  <gurobi.Var excess[GJQ0000000396OILVZ]>   \n",
       "XAH0000000439FZCMQ  <gurobi.Var excess[XAH0000000439FZCMQ]>   \n",
       "HKR0000000657PJMWA  <gurobi.Var excess[HKR0000000657PJMWA]>   \n",
       "EHO0000000654MGJTX  <gurobi.Var excess[EHO0000000654MGJTX]>   \n",
       "\n",
       "                                                     shortage  \n",
       "site_id                                                        \n",
       "RUB0000000797ZTWGK  <gurobi.Var shortage[RUB0000000797ZTWGK]>  \n",
       "GJQ0000000396OILVZ  <gurobi.Var shortage[GJQ0000000396OILVZ]>  \n",
       "XAH0000000439FZCMQ  <gurobi.Var shortage[XAH0000000439FZCMQ]>  \n",
       "HKR0000000657PJMWA  <gurobi.Var shortage[HKR0000000657PJMWA]>  \n",
       "EHO0000000654MGJTX  <gurobi.Var shortage[EHO0000000654MGJTX]>  "
      ]
     },
     "execution_count": 23,
     "metadata": {},
     "output_type": "execute_result"
    }
   ],
   "source": [
    "shortage = pd.Series(m.addVars(eligibleSites, vtype=GRB.CONTINUOUS, name='shortage').values(),\n",
    "                     index=pd.Index(eligibleSites, name='site_id'),\n",
    "                     name='shortage')\n",
    "excess = pd.Series(m.addVars(eligibleSites, vtype=GRB.CONTINUOUS, name='excess').values(),\n",
    "                  index=pd.Index(eligibleSites, name='site_id'),\n",
    "                  name='excess')\n",
    "\n",
    "m.update()\n",
    "print(\"Number of variables \", m.NumVars)\n",
    "pd.DataFrame({'shortage' : shortage, 'excess' : excess}).head()\n"
   ]
  },
  {
   "cell_type": "markdown",
   "metadata": {
    "nbpresent": {
     "id": "11c3e925-ceef-4019-969a-aacb9da1f9a8"
    }
   },
   "source": [
    "## Define the objective function"
   ]
  },
  {
   "cell_type": "markdown",
   "metadata": {},
   "source": [
    "### Initial objective\n",
    "    minimize 1.0*totalShortage + 0.0*totalExcess + 0.0*totalPrefs;\n",
    "    subject to {\n",
    "    \ttotalShortage == sum(s in eligibleSites) shortage[s];\n"
   ]
  },
  {
   "cell_type": "code",
   "execution_count": 24,
   "metadata": {
    "nbpresent": {
     "id": "5b6032b0-5f62-4cab-bdb7-3e53d38d053a"
    }
   },
   "outputs": [],
   "source": [
    "m.setObjective(quicksum(shortage), sense=GRB.MINIMIZE)\n"
   ]
  },
  {
   "cell_type": "markdown",
   "metadata": {},
   "source": [
    "### PersonHoursPerDay\n",
    "\tforall (<p,d> in prefPeopleHoursByDayIndex) {\n",
    "\tPersonHoursPerDay[<p,d>]:\t\t\n",
    "\t\tsum(<p,s,d> in allVarsIndex) h[<p,s,d>] <= 2*hours_per_people_day[<p,d>];\n",
    "\t}\n"
   ]
  },
  {
   "cell_type": "code",
   "execution_count": 25,
   "metadata": {},
   "outputs": [
    {
     "name": "stdout",
     "output_type": "stream",
     "text": [
      "1271\n"
     ]
    }
   ],
   "source": [
    "opd.forall(m, [\"person_id\", \"day\"], (opd.sum('site_id', h) <= 2*peoplehoursperday.hours), \"PersonHoursPerDay\")\n",
    "m.update()\n",
    "print(m.NumConstrs)\n"
   ]
  },
  {
   "cell_type": "markdown",
   "metadata": {},
   "source": [
    "### SiteHoursPerDay\n",
    "\tforall (<s,d> in prefSitesHoursByDayIndex) {\n",
    "\tSiteHoursPerDay[<s,d>]:\t\n",
    "\t\tsum(<p,s,d> in allVarsIndex) h[<p,s,d>] <= 2*hours_per_site_day[<s,d>];\n",
    "\t}\n"
   ]
  },
  {
   "cell_type": "code",
   "execution_count": 26,
   "metadata": {},
   "outputs": [
    {
     "name": "stdout",
     "output_type": "stream",
     "text": [
      "2975\n"
     ]
    }
   ],
   "source": [
    "opd.forall(m, [\"site_id\", \"day\"], (opd.sum('person_id', h) <= 2*sitehoursperday.hours), \"SiteHoursPerDay\")\n",
    "m.update()\n",
    "print(m.NumConstrs)\n"
   ]
  },
  {
   "cell_type": "markdown",
   "metadata": {},
   "source": [
    "### TotalHoursPerWeek\n",
    "\tforall (p in eligiblePeople) {\n",
    "\tTotalHoursPerWeek[p]:\t\n",
    "\t\tsum(<p,s,d> in allVarsIndex) h[<p,s,d>] <= 2*peopleData[p].total_hrs_per_week;\n",
    "\t}\n"
   ]
  },
  {
   "cell_type": "code",
   "execution_count": 27,
   "metadata": {},
   "outputs": [
    {
     "name": "stdout",
     "output_type": "stream",
     "text": [
      "3312\n"
     ]
    }
   ],
   "source": [
    "opd.forall(m, \"person_id\", (opd.sum(['site_id','day'], h) <= 2*people.total_hrs_per_week), \"TotalHoursPerWeek\")\n",
    "m.update()\n",
    "print(m.NumConstrs)\n"
   ]
  },
  {
   "cell_type": "markdown",
   "metadata": {},
   "source": [
    "### PairDay Constraints\n",
    "\tforall (<p,s,d> in allVarsIndex) {\n",
    "\tPairDayUp[<p,s,d>]:\t\n",
    "\t\th[<p,s,d>] <= blocksPerPersonSiteDay[<p,s,d>]*pairday[<p,s,d>];\n",
    "\tPairDayLow[<p,s,d>]:\n",
    "\t\t2*pairday[<p,s,d>] <= h[<p,s,d>];\n",
    "\t}\n"
   ]
  },
  {
   "cell_type": "code",
   "execution_count": 28,
   "metadata": {},
   "outputs": [
    {
     "name": "stdout",
     "output_type": "stream",
     "text": [
      "178554\n"
     ]
    }
   ],
   "source": [
    "opd.forall(m, [\"person_id\", \"site_id\", \"day\"], (h <= 2*allvars.daily_hours*pairday), \"PairDayUp\")\n",
    "opd.forall(m, [\"person_id\", \"site_id\", \"day\"], (2*pairday <= h), \"PairDayLow\")\n",
    "m.update()\n",
    "print(m.NumConstrs)"
   ]
  },
  {
   "cell_type": "markdown",
   "metadata": {},
   "source": [
    "### Total Days Per Week\n",
    "\tforall (p in eligiblePeople) {\n",
    "\tTotalDaysPerWeek[p]:\n",
    "\t\tsum(<p,s,d> in allVarsIndex) pairday[<p,s,d>] <= peopleData[p].days_per_week;\n",
    "\t}\t\t\t\n"
   ]
  },
  {
   "cell_type": "code",
   "execution_count": 29,
   "metadata": {},
   "outputs": [
    {
     "name": "stdout",
     "output_type": "stream",
     "text": [
      "178891\n"
     ]
    }
   ],
   "source": [
    "opd.forall(m, \"person_id\" ,(opd.sum([\"site_id\", \"day\"], pairday) <= people.days_per_week), \"TotalDaysPerWeek\")\n",
    "m.update()\n",
    "print(m.NumConstrs)"
   ]
  },
  {
   "cell_type": "markdown",
   "metadata": {},
   "source": [
    "### ZVarUpper and Lower\n",
    "#### Compute the sum expression once for efficiency\n",
    "\tforall (<p,s> in eligiblePairs) {\n",
    "\tZVarUp[<p,s>]:\t\n",
    "\t\t2*z[<p,s>] <= sum(<p,s,d> in allVarsIndex) pairday[<p,s,d>];\n",
    "\tZVarLow[<p,s>]:\n",
    "\t\tsum(<p,s,d> in allVarsIndex) pairday[<p,s,d>] <= card({<p,s,d> | <p,s,d> in allVarsIndex})*z[<p,s>];\n",
    "\t}\n",
    "#### Compute the sum expression once for efficiency\n"
   ]
  },
  {
   "cell_type": "code",
   "execution_count": 30,
   "metadata": {},
   "outputs": [
    {
     "name": "stdout",
     "output_type": "stream",
     "text": [
      "241745\n"
     ]
    }
   ],
   "source": [
    "sumpairday = opd.sum(\"day\", pairday)\n",
    "opd.forall(m, [\"person_id\", \"site_id\"], (2*z <= sumpairday), 'ZVarUp')\n",
    "sumpairdayBigM = sumpairday.apply(lambda v : v.size())\n",
    "opd.forall(m, [\"person_id\", \"site_id\"], (sumpairday <= sumpairdayBigM*z), 'ZVarLow')\n",
    "m.update()\n",
    "print(m.NumConstrs)\n"
   ]
  },
  {
   "cell_type": "markdown",
   "metadata": {
    "nbpresent": {
     "id": "50df7c20-d03d-4369-88b1-c82182e2881b"
    }
   },
   "source": [
    "### Define the shortage constraints, for each site, measure how well we can cover\n",
    "\n",
    "### SiteHours\n",
    "\tforall (s in eligibleSites) {\n",
    "\tSiteHours[s]:\t\n",
    "\t\tsum(<p,s,d> in allVarsIndex) h[<p,s,d>] + shortage[s] - excess[s] == 2*num_hours_per_site[s];\t\n",
    "\t}\t\t"
   ]
  },
  {
   "cell_type": "code",
   "execution_count": 31,
   "metadata": {},
   "outputs": [
    {
     "name": "stdout",
     "output_type": "stream",
     "text": [
      "242243\n"
     ]
    }
   ],
   "source": [
    "opd.forall(m, [\"site_id\"], (opd.sum([\"person_id\", \"day\"], h) + shortage - excess == 2*sites.num_hours), \"SiteHours\")\n",
    "m.update()\n",
    "print(m.NumConstrs)\n"
   ]
  },
  {
   "cell_type": "code",
   "execution_count": 32,
   "metadata": {
    "nbpresent": {
     "id": "05d0c8ce-4701-48ee-9358-05f1c1e4913d"
    }
   },
   "outputs": [
    {
     "name": "stdout",
     "output_type": "stream",
     "text": [
      "Changed value of parameter TimeLimit to 300.0\n",
      "   Prev: 1e+100  Min: 0.0  Max: 1e+100  Default: 1e+100\n",
      "Changed value of parameter CutPasses to 1\n",
      "   Prev: -1  Min: -1  Max: 2000000000  Default: -1\n"
     ]
    }
   ],
   "source": [
    "\n",
    "m.setParam(GRB.Param.TimeLimit, 300)\n",
    "m.setParam(GRB.Param.CutPasses, 1)\n"
   ]
  },
  {
   "cell_type": "code",
   "execution_count": 33,
   "metadata": {},
   "outputs": [],
   "source": [
    "m.write(\"complex.gurobi.new.lp\")"
   ]
  },
  {
   "cell_type": "code",
   "execution_count": 34,
   "metadata": {
    "nbpresent": {
     "id": "1dba8750-2790-4248-9178-5851db2c50e7"
    }
   },
   "outputs": [
    {
     "name": "stdout",
     "output_type": "stream",
     "text": [
      "Optimize a model with 242243 rows, 207665 columns and 1027681 nonzeros\n",
      "Variable types: 996 continuous, 206669 integer (119048 binary)\n",
      "Coefficient statistics:\n",
      "  Matrix range     [1e+00, 2e+01]\n",
      "  Objective range  [1e+00, 1e+00]\n",
      "  Bounds range     [1e+00, 2e+01]\n",
      "  RHS range        [1e+00, 4e+02]\n",
      "Found heuristic solution: objective 9934.0000000\n",
      "Presolve removed 115647 rows and 87952 columns\n",
      "Presolve time: 3.99s\n",
      "Presolved: 126596 rows, 119713 columns, 619845 nonzeros\n",
      "Variable types: 0 continuous, 119713 integer (69513 binary)\n",
      "\n",
      "Root simplex log...\n",
      "\n",
      "Iteration    Objective       Primal Inf.    Dual Inf.      Time\n",
      "    8506    4.2000008e+03   1.974215e+03   0.000000e+00      5s\n",
      "   18817    4.2500000e+03   0.000000e+00   0.000000e+00      8s\n",
      "\n",
      "Root relaxation: objective 4.250000e+03, 18817 iterations, 2.97 seconds\n",
      "Total elapsed time = 18.86s\n",
      "Total elapsed time = 33.29s\n",
      "Total elapsed time = 42.02s\n",
      "Total elapsed time = 54.79s\n",
      "\n",
      "    Nodes    |    Current Node    |     Objective Bounds      |     Work\n",
      " Expl Unexpl |  Obj  Depth IntInf | Incumbent    BestBd   Gap | It/Node Time\n",
      "\n",
      "     0     0 4250.00000    0  590 9934.00000 4250.00000  57.2%     -   60s\n",
      "H    0     0                    5049.0000000 4250.00000  15.8%     -   62s\n",
      "H    0     0                    4905.0000000 4250.00000  13.4%     -   62s\n",
      "     0     0 4250.49206    0  573 4905.00000 4250.49206  13.3%     -  107s\n",
      "H    0     0                    4651.0000000 4250.49206  8.61%     -  116s\n",
      "H    0     0                    4649.0000000 4250.49206  8.57%     -  116s\n",
      "H    0     2                    4639.0000000 4250.49206  8.37%     -  139s\n",
      "     0     2 4250.49206    0  415 4639.00000 4250.49206  8.37%     -  139s\n",
      "     3     8 4250.92437    2  494 4639.00000 4250.63492  8.37%  9920  140s\n",
      "    11    16 4251.12437    3  949 4639.00000 4250.92437  8.37%  4344  145s\n",
      "H   27    27                    4564.0000000 4251.12437  6.86%  2169  152s\n",
      "    47    45 4252.26316   10  892 4564.00000 4251.12437  6.86%  1255  158s\n",
      "H   58    59                    4557.0000000 4251.12437  6.71%  1019  161s\n",
      "H   59    61                    4535.0000000 4251.12437  6.26%  1002  161s\n",
      "    86    84 4255.03922   15  900 4535.00000 4251.12437  6.26%   693  165s\n",
      "H   94    92                    4532.0000000 4251.12437  6.20%   636  169s\n",
      "H   96    93                    4526.0000000 4251.12437  6.07%   623  169s\n",
      "    99    99 4256.60000   18  857 4526.00000 4251.12437  6.07%   605  170s\n",
      "H  127   119                    4524.0000000 4251.12437  6.03%   475  173s\n",
      "H  128   120                    4523.0000000 4251.12437  6.01%   472  173s\n",
      "   133   126 4258.60000   25  856 4523.00000 4251.12437  6.01%   454  175s\n",
      "H  166   146                    4516.0000000 4251.12437  5.87%   368  178s\n",
      "H  171   150                    4515.0000000 4251.12437  5.84%   358  178s\n",
      "   187   161 4261.00000   36  790 4515.00000 4251.12437  5.84%   329  182s\n",
      "H  200   172                    4510.0000000 4251.12437  5.74%   309  184s\n",
      "H  206   179                    4509.0000000 4251.12437  5.72%   301  184s\n",
      "H  212   184                    4508.0000000 4251.12437  5.70%   292  184s\n",
      "   219   191 4261.00000   41  774 4508.00000 4251.12437  5.70%   283  185s\n",
      "H  246   215                    4502.0000000 4251.12437  5.57%   255  186s\n",
      "H  259   230                    4499.0000000 4251.12437  5.51%   244  186s\n",
      "H  290   261                    4495.0000000 4251.12437  5.43%   222  189s\n",
      "   310   278 4261.00000   54  701 4495.00000 4251.12437  5.43%   213  190s\n",
      "H  333   304                    4494.0000000 4251.12437  5.40%   200  191s\n",
      "H  345   315                    4492.0000000 4251.12437  5.36%   195  191s\n",
      "H  379   348                    4490.0000000 4251.12437  5.32%   183  194s\n",
      "H  394   365                    4485.0000000 4251.12437  5.21%   177  194s\n",
      "   403   376 4261.00000   74  690 4485.00000 4251.12437  5.21%   174  196s\n",
      "H  438   412                    4484.0000000 4251.12437  5.19%   162  198s\n",
      "H  443   415                    4478.0000000 4251.12437  5.07%   161  198s\n",
      "   503   473 4261.00000   90  667 4478.00000 4251.12437  5.07%   145  201s\n",
      "H  517   488                    4471.0000000 4251.12437  4.92%   141  201s\n",
      "H  573   543                    4461.0000000 4251.12437  4.70%   130  204s\n",
      "H  578   547                    4458.0000000 4251.12437  4.64%   129  204s\n",
      "   591   562 4261.00000  107  672 4458.00000 4251.12437  4.64%   127  206s\n",
      "H  622   590                    4457.0000000 4251.12437  4.62%   124  209s\n",
      "H  628   596                    4456.0000000 4251.12437  4.60%   123  209s\n",
      "   646   613 4261.00000  114  686 4456.00000 4251.12437  4.60%   121  210s\n",
      "H  695   661                    4455.0000000 4251.12437  4.58%   114  213s\n",
      "H  711   677                    4454.0000000 4251.12437  4.55%   112  213s\n",
      "   715   682 4261.00000  129  701 4454.00000 4251.12437  4.55%   111  215s\n",
      "H  763   730                    4451.0000000 4251.12437  4.49%   106  217s\n",
      "H  767   733                    4446.0000000 4251.12437  4.38%   106  217s\n",
      "H  834   799                    4442.0000000 4251.12437  4.30%   100  223s\n",
      "H  851   816                    4440.0000000 4251.12437  4.25%  98.2  223s\n",
      "   855   821 4261.00000  157  699 4440.00000 4251.12437  4.25%  97.8  225s\n",
      "H  913   882                    4434.0000000 4251.12437  4.12%  93.7  228s\n",
      "   928   891 4261.00000  170  678 4434.00000 4251.12437  4.12%  93.1  233s\n",
      "H  975   938                    4433.0000000 4251.12437  4.10%  90.6  235s\n",
      "H 1001   965                    4431.0000000 4251.12437  4.06%  88.5  235s\n",
      "H 1018   985                    4430.0000000 4251.12437  4.04%  87.5  238s\n",
      "  1079  1043 4264.00000  206  662 4430.00000 4251.12437  4.04%  84.4  243s\n",
      "H 1093  1054                    4422.0000000 4251.12437  3.86%  83.6  243s\n",
      "H 1103  1064                    4421.0000000 4251.12437  3.84%  83.1  243s\n",
      "  1105  1065 4264.00000  216  661 4421.00000 4251.12437  3.84%  83.0  245s\n",
      "H 1178  1138                    4419.0000000 4251.12437  3.80%  79.7  248s\n",
      "H 1181  1140                    4417.0000000 4251.12437  3.76%  79.5  248s\n",
      "H 1192  1151                    4416.0000000 4251.12437  3.73%  79.0  248s\n",
      "  1200  1161 4264.00000  232  691 4416.00000 4251.12437  3.73%  78.8  251s\n",
      "H 1275  1234                    4413.0000000 4251.12437  3.67%  76.2  256s\n",
      "  1398  1354 4264.00000  276  667 4413.00000 4251.12437  3.67%  72.1  262s\n",
      "H 1405  1361                    4411.0000000 4251.12437  3.62%  72.0  262s\n",
      "  1426  1384 4264.00000  281  674 4411.00000 4251.12437  3.62%  71.9  265s\n",
      "H 1510  1464                    4409.0000000 4251.12437  3.58%  70.0  272s\n",
      "H 1524  1477                    4407.0000000 4251.12437  3.54%  69.6  272s\n",
      "  1561  1508 4264.00000  308  642 4407.00000 4251.12437  3.54%  68.5  280s\n",
      "H 1702  1652                    4405.0000000 4251.12437  3.49%  65.6  284s\n",
      "  1710  1658 4264.00000  344  665 4405.00000 4251.12437  3.49%  65.4  293s\n",
      "H 1774  1704                    4404.0000000 4251.12437  3.47%  64.4  293s\n",
      "H 1794  1719                    4403.0000000 4251.12437  3.45%  64.3  293s\n",
      "  1795  1741 4264.00000  366  654 4403.00000 4251.12437  3.45%  64.3  299s\n",
      "H 1821  1741                    4401.0000000 4251.12437  3.41%  63.5  299s\n",
      "  1899  1838 4277.00000  258  627 4401.00000 4251.12437  3.41%  62.6  300s\n",
      "\n",
      "Cutting planes:\n",
      "  Gomory: 5\n",
      "  Cover: 606\n",
      "  Implied bound: 197\n",
      "  Clique: 1\n",
      "  MIR: 49\n",
      "  StrongCG: 2\n",
      "  Flow cover: 48\n",
      "  Zero half: 1\n",
      "\n",
      "Explored 1900 nodes (435615 simplex iterations) in 300.24 seconds\n",
      "Thread count was 8 (of 8 available processors)\n",
      "\n",
      "Solution count 10: 4401 4403 4404 ... 4417\n",
      "\n",
      "Time limit reached\n",
      "Best objective 4.401000000000e+03, best bound 4.252000000000e+03, gap 3.3856%\n"
     ]
    }
   ],
   "source": [
    "m.optimize()"
   ]
  },
  {
   "cell_type": "markdown",
   "metadata": {},
   "source": [
    "### Add constraint on shortage, and set new objective to minimize excess\n",
    "\tshortageBound:\n",
    "\t\ttotalShortage <= initshortageBound ;\n",
    "\tcplex.setObjCoef(thisOplModel.totalShortage, 0);\n",
    "\tcplex.setObjCoef(thisOplModel.totalExcess, 1);\n",
    "\tthisOplModel.shortageBound.UB = objVal + 0.25;\n"
   ]
  },
  {
   "cell_type": "code",
   "execution_count": 35,
   "metadata": {
    "nbpresent": {
     "id": "f0306fc7-6dcb-43ca-8f0c-24c8e6eba295"
    }
   },
   "outputs": [],
   "source": [
    "m.addConstr(quicksum(shortage) <= m.ObjVal+0.25, name='shortageBound')\n",
    "m.setObjective(quicksum(excess))\n"
   ]
  },
  {
   "cell_type": "code",
   "execution_count": 36,
   "metadata": {
    "nbpresent": {
     "id": "0e306788-4eff-477c-aa1b-93b90899301b"
    }
   },
   "outputs": [
    {
     "name": "stdout",
     "output_type": "stream",
     "text": [
      "Reset all parameters to their default values\n",
      "Changed value of parameter TimeLimit to 180.0\n",
      "   Prev: 1e+100  Min: 0.0  Max: 1e+100  Default: 1e+100\n",
      "Changed value of parameter Presolve to 0\n",
      "   Prev: -1  Min: -1  Max: 2  Default: -1\n",
      "Changed value of parameter Cuts to 0\n",
      "   Prev: -1  Min: -1  Max: 3  Default: -1\n",
      "Optimize a model with 242244 rows, 207665 columns and 1028179 nonzeros\n",
      "Variable types: 996 continuous, 206669 integer (119048 binary)\n",
      "Coefficient statistics:\n",
      "  Matrix range     [1e+00, 2e+01]\n",
      "  Objective range  [1e+00, 1e+00]\n",
      "  Bounds range     [1e+00, 2e+01]\n",
      "  RHS range        [1e+00, 4e+03]\n",
      "\n",
      "Loaded MIP start with objective 385\n",
      "\n",
      "Variable types: 996 continuous, 206669 integer (123834 binary)\n",
      "\n",
      "Root simplex log...\n",
      "\n",
      "Iteration    Objective       Primal Inf.    Dual Inf.      Time\n",
      "       0    0.0000000e+00   6.915938e+02   0.000000e+00     23s\n",
      "    3334    0.0000000e+00   5.441563e+03   0.000000e+00     26s\n",
      "   18937    1.4527739e-03   8.675231e+02   0.000000e+00     30s\n",
      "   26816    0.0000000e+00   0.000000e+00   0.000000e+00     33s\n",
      "\n",
      "Root relaxation: objective 0.000000e+00, 26816 iterations, 10.22 seconds\n",
      "Total elapsed time = 40.24s\n",
      "Total elapsed time = 56.95s\n",
      "Total elapsed time = 61.89s\n",
      "Total elapsed time = 72.76s\n",
      "\n",
      "    Nodes    |    Current Node    |     Objective Bounds      |     Work\n",
      " Expl Unexpl |  Obj  Depth IntInf | Incumbent    BestBd   Gap | It/Node Time\n",
      "\n",
      "     0     0    0.00000    0  385  385.00000    0.00000   100%     -   76s\n",
      "H    0     0                      71.0000000    0.00000   100%     -   87s\n",
      "     0     0    0.00000    0  293   71.00000    0.00000   100%     -  119s\n",
      "H    0     0                      62.0000000    0.00000   100%     -  132s\n",
      "     0     2    0.00000    0  293   62.00000    0.00000   100%     -  153s\n",
      "     7     4    0.00000    4  396   62.00000    0.00000   100%  3443  155s\n",
      "    30    23    0.00000    9  384   62.00000    0.00000   100%   857  172s\n",
      "H   33    25                      46.0000000    0.00000   100%   809  172s\n",
      "    39    29    0.00000   10  384   46.00000    0.00000   100%   691  177s\n",
      "    54    45    0.00000   12  389   46.00000    0.00000   100%   505  180s\n",
      "\n",
      "Explored 65 nodes (250272 simplex iterations) in 180.44 seconds\n",
      "Thread count was 8 (of 8 available processors)\n",
      "\n",
      "Solution count 4: 46 62 71 385 \n",
      "\n",
      "Time limit reached\n",
      "Best objective 4.599999998598e+01, best bound 0.000000000000e+00, gap 100.0000%\n"
     ]
    }
   ],
   "source": [
    "resetParams()\n",
    "m.setParam(GRB.Param.TimeLimit, 180)\n",
    "m.setParam(GRB.Param.Presolve, 0)\n",
    "m.setParam(GRB.Param.Cuts, 0)\n",
    "\n",
    "m.optimize()"
   ]
  },
  {
   "cell_type": "markdown",
   "metadata": {},
   "source": [
    "### Add constraint on excess amount and set new objective\n",
    "\texcessBound:\n",
    "        totalExcess <= initshortageBound;\n",
    "    thisOplModel.excessBound.UB = objVal + 0.25;\n",
    "\tcplex.setObjCoef(thisOplModel.totalExcess, 0);\n",
    "\tcplex.setObjCoef(thisOplModel.totalPrefs, -1); // To maximize\n",
    "\n",
    "    totalPrefs == sum(p in eligiblePairs) pref[p]*z[p];\n",
    "#### Note that pref[] is not indexed on eligiblePairs, so we have to pull only those pairs in the product"
   ]
  },
  {
   "cell_type": "code",
   "execution_count": 37,
   "metadata": {
    "nbpresent": {
     "id": "ae8bed4b-0d16-48e8-8609-1d5e9794a6fe"
    }
   },
   "outputs": [],
   "source": [
    "m.addConstr(quicksum(excess) <= m.ObjVal+0.25, name='excessBound')\n",
    "m.setObjective(quicksum(prefs.pref[z.index]*z), sense=GRB.MAXIMIZE)\n"
   ]
  },
  {
   "cell_type": "code",
   "execution_count": 38,
   "metadata": {
    "nbpresent": {
     "id": "1815e471-a6f8-4bdd-95ef-edeaa2d5a2b9"
    },
    "scrolled": true
   },
   "outputs": [
    {
     "name": "stdout",
     "output_type": "stream",
     "text": [
      "Reset all parameters to their default values\n",
      "Changed value of parameter MIPGap to 0.01\n",
      "   Prev: 0.0001  Min: 0.0  Max: 1e+100  Default: 0.0001\n",
      "Changed value of parameter Cuts to 0\n",
      "   Prev: -1  Min: -1  Max: 3  Default: -1\n",
      "Changed value of parameter SubMIPNodes to 1500\n",
      "   Prev: 500  Min: 0  Max: 2000000000  Default: 500\n",
      "Changed value of parameter TimeLimit to 180.0\n",
      "   Prev: 1e+100  Min: 0.0  Max: 1e+100  Default: 1e+100\n",
      "Optimize a model with 242245 rows, 207665 columns and 1028677 nonzeros\n",
      "Variable types: 996 continuous, 206669 integer (119048 binary)\n",
      "Coefficient statistics:\n",
      "  Matrix range     [1e+00, 2e+01]\n",
      "  Objective range  [1e+00, 1e+02]\n",
      "  Bounds range     [1e+00, 2e+01]\n",
      "  RHS range        [1e+00, 4e+03]\n",
      "\n",
      "Loaded MIP start with objective 22428\n",
      "\n",
      "Presolve removed 98729 rows and 79141 columns\n",
      "Presolve time: 3.12s\n",
      "Presolved: 143516 rows, 128524 columns, 656494 nonzeros\n",
      "Variable types: 738 continuous, 127786 integer (69472 binary)\n",
      "\n",
      "Root simplex log...\n",
      "\n",
      "Iteration    Objective       Primal Inf.    Dual Inf.      Time\n",
      "   11118    4.9715500e+04   4.349953e+03   0.000000e+00      5s\n",
      "   17973    4.7651749e+04   1.126209e+03   0.000000e+00     11s\n",
      "   24720    4.7651749e+04   1.329051e+03   0.000000e+00     16s\n",
      "   29218    4.7651749e+04   1.578348e+03   0.000000e+00     21s\n",
      "   33716    4.7651748e+04   1.747371e+03   0.000000e+00     27s\n",
      "   38214    4.7651748e+04   1.307646e+03   0.000000e+00     32s\n",
      "   40463    4.7651748e+04   1.537771e+03   0.000000e+00     37s\n",
      "   42712    4.7651748e+04   1.389358e+03   0.000000e+00     40s\n",
      "   49459    4.7532592e+04   1.595417e+03   0.000000e+00     45s\n",
      "   69700    4.6834074e+04   2.110970e+02   0.000000e+00     50s\n",
      "   78363    4.6825239e+04   0.000000e+00   0.000000e+00     56s\n",
      "\n",
      "Root relaxation: objective 4.682524e+04, 78363 iterations, 51.87 seconds\n",
      "Total elapsed time = 60.49s\n",
      "\n",
      "    Nodes    |    Current Node    |     Objective Bounds      |     Work\n",
      " Expl Unexpl |  Obj  Depth IntInf | Incumbent    BestBd   Gap | It/Node Time\n",
      "\n",
      "     0     0 46825.2407    0 1022 22428.0000 46825.2407   109%     -   62s\n",
      "H    0     0                    28086.000000 46825.2407  66.7%     -  134s\n",
      "     0     0 46825.2407    0  983 28086.0000 46825.2407  66.7%     -  137s\n",
      "     0     2 46825.2407    0  983 28086.0000 46825.2407  66.7%     -  155s\n",
      "    23    22 46816.2852    5 1036 28086.0000 46821.7157  66.7%   456  160s\n",
      "    65    60 46790.7965   13 1000 28086.0000 46821.7157  66.7%   250  165s\n",
      "   117   111 46771.4561   22 1055 28086.0000 46821.7157  66.7%   193  170s\n",
      "   157   149 46769.0649   30 1024 28086.0000 46821.7157  66.7%   198  175s\n",
      "   193   178 46744.8093   36 1013 28086.0000 46821.7157  66.7%   207  180s\n",
      "\n",
      "Explored 200 nodes (157625 simplex iterations) in 180.28 seconds\n",
      "Thread count was 8 (of 8 available processors)\n",
      "\n",
      "Solution count 2: 28086 22428 \n",
      "\n",
      "Time limit reached\n",
      "Best objective 2.808600000000e+04, best bound 4.682100000000e+04, gap 66.7058%\n"
     ]
    }
   ],
   "source": [
    "resetParams()\n",
    "m.setParam(GRB.Param.MIPGap, 0.01) # Set gap to 1%\n",
    "m.setParam(GRB.Param.Cuts, 0)\n",
    "m.setParam(GRB.Param.SubMIPNodes, 1500)\n",
    "m.setParam(GRB.Param.TimeLimit, 180)\n",
    "m.optimize()"
   ]
  },
  {
   "cell_type": "code",
   "execution_count": 39,
   "metadata": {},
   "outputs": [
    {
     "data": {
      "text/html": [
       "<div>\n",
       "<style scoped>\n",
       "    .dataframe tbody tr th:only-of-type {\n",
       "        vertical-align: middle;\n",
       "    }\n",
       "\n",
       "    .dataframe tbody tr th {\n",
       "        vertical-align: top;\n",
       "    }\n",
       "\n",
       "    .dataframe thead th {\n",
       "        text-align: right;\n",
       "    }\n",
       "</style>\n",
       "<table border=\"1\" class=\"dataframe\">\n",
       "  <thead>\n",
       "    <tr style=\"text-align: right;\">\n",
       "      <th></th>\n",
       "      <th></th>\n",
       "      <th></th>\n",
       "      <th>hours</th>\n",
       "    </tr>\n",
       "    <tr>\n",
       "      <th>person_id</th>\n",
       "      <th>site_id</th>\n",
       "      <th>day</th>\n",
       "      <th></th>\n",
       "    </tr>\n",
       "  </thead>\n",
       "  <tbody>\n",
       "    <tr>\n",
       "      <th rowspan=\"2\" valign=\"top\">MPW0000000272UORBF</th>\n",
       "      <th rowspan=\"2\" valign=\"top\">ADK0000000364ICFPT</th>\n",
       "      <th>Mo</th>\n",
       "      <td>16.0</td>\n",
       "    </tr>\n",
       "    <tr>\n",
       "      <th>We</th>\n",
       "      <td>6.0</td>\n",
       "    </tr>\n",
       "    <tr>\n",
       "      <th rowspan=\"2\" valign=\"top\">ORY0000000196WQTDH</th>\n",
       "      <th rowspan=\"2\" valign=\"top\">ADK0000000364ICFPT</th>\n",
       "      <th>We</th>\n",
       "      <td>2.0</td>\n",
       "    </tr>\n",
       "    <tr>\n",
       "      <th>Fr</th>\n",
       "      <td>4.0</td>\n",
       "    </tr>\n",
       "    <tr>\n",
       "      <th rowspan=\"2\" valign=\"top\">TWD0000000123BVYIM</th>\n",
       "      <th rowspan=\"2\" valign=\"top\">ADK0000000364ICFPT</th>\n",
       "      <th>Tu</th>\n",
       "      <td>12.0</td>\n",
       "    </tr>\n",
       "    <tr>\n",
       "      <th>Th</th>\n",
       "      <td>12.0</td>\n",
       "    </tr>\n",
       "    <tr>\n",
       "      <th rowspan=\"2\" valign=\"top\">BEL0000000235JDGQU</th>\n",
       "      <th rowspan=\"2\" valign=\"top\">ADK0000000390ICFPT</th>\n",
       "      <th>Tu</th>\n",
       "      <td>16.0</td>\n",
       "    </tr>\n",
       "    <tr>\n",
       "      <th>We</th>\n",
       "      <td>12.0</td>\n",
       "    </tr>\n",
       "    <tr>\n",
       "      <th rowspan=\"2\" valign=\"top\">CFM0000000210KEHRV</th>\n",
       "      <th rowspan=\"2\" valign=\"top\">ADK0000000390ICFPT</th>\n",
       "      <th>Mo</th>\n",
       "      <td>14.0</td>\n",
       "    </tr>\n",
       "    <tr>\n",
       "      <th>We</th>\n",
       "      <td>2.0</td>\n",
       "    </tr>\n",
       "  </tbody>\n",
       "</table>\n",
       "</div>"
      ],
      "text/plain": [
       "                                           hours\n",
       "person_id          site_id            day       \n",
       "MPW0000000272UORBF ADK0000000364ICFPT Mo    16.0\n",
       "                                      We     6.0\n",
       "ORY0000000196WQTDH ADK0000000364ICFPT We     2.0\n",
       "                                      Fr     4.0\n",
       "TWD0000000123BVYIM ADK0000000364ICFPT Tu    12.0\n",
       "                                      Th    12.0\n",
       "BEL0000000235JDGQU ADK0000000390ICFPT Tu    16.0\n",
       "                                      We    12.0\n",
       "CFM0000000210KEHRV ADK0000000390ICFPT Mo    14.0\n",
       "                                      We     2.0"
      ]
     },
     "execution_count": 39,
     "metadata": {},
     "output_type": "execute_result"
    }
   ],
   "source": [
    "hvals = pd.Series([hv.x for hv in h], index=h.index)\n",
    "pairings = hvals[hvals>0]\n",
    "pd.DataFrame(pairings.head(10),columns=['hours'])"
   ]
  },
  {
   "cell_type": "code",
   "execution_count": 40,
   "metadata": {},
   "outputs": [
    {
     "name": "stdout",
     "output_type": "stream",
     "text": [
      "Freed default Gurobi environment\n"
     ]
    }
   ],
   "source": [
    "del m\n",
    "disposeDefaultEnv()\n"
   ]
  },
  {
   "cell_type": "code",
   "execution_count": null,
   "metadata": {},
   "outputs": [],
   "source": []
  }
 ],
 "metadata": {
  "anaconda-cloud": {},
  "kernelspec": {
   "display_name": "Python [conda env:gurobi7]",
   "language": "python",
   "name": "conda-env-gurobi7-py"
  },
  "language_info": {
   "codemirror_mode": {
    "name": "ipython",
    "version": 3
   },
   "file_extension": ".py",
   "mimetype": "text/x-python",
   "name": "python",
   "nbconvert_exporter": "python",
   "pygments_lexer": "ipython3",
   "version": "3.6.4"
  },
  "nbpresent": {
   "slides": {
    "037955a1-7326-4638-a273-c12b3aac6f88": {
     "id": "037955a1-7326-4638-a273-c12b3aac6f88",
     "prev": "c7373ca9-7caa-4a03-b454-cd0bec55d8e6",
     "regions": {
      "3f7a9a3a-b50a-4f99-a18d-8ed2308a9c80": {
       "attrs": {
        "height": 0.8,
        "width": 0.8,
        "x": 0.1,
        "y": 0.1
       },
       "content": {
        "cell": "c2b3148c-ac5b-412b-be2f-5ec21f11305b",
        "part": "whole"
       },
       "id": "3f7a9a3a-b50a-4f99-a18d-8ed2308a9c80"
      }
     }
    },
    "03dce833-6315-46a1-9831-2f9d61ae8707": {
     "id": "03dce833-6315-46a1-9831-2f9d61ae8707",
     "prev": "5a7e2588-ce06-407f-8dbf-5d56b4c62d62",
     "regions": {
      "2f84a4bd-abc8-4d71-8393-293e6dbc0314": {
       "attrs": {
        "height": 0.8,
        "width": 0.8,
        "x": 0.1,
        "y": 0.1
       },
       "content": {
        "cell": "62b2f6d1-393e-455e-958b-7e8dc2d10bd6",
        "part": "whole"
       },
       "id": "2f84a4bd-abc8-4d71-8393-293e6dbc0314"
      }
     }
    },
    "15a1ffd7-c199-49d7-8b27-ce701f702fc9": {
     "id": "15a1ffd7-c199-49d7-8b27-ce701f702fc9",
     "prev": "ef3370b0-ef17-40f0-a14c-97f5a712f6c7",
     "regions": {
      "1326479e-323d-432c-8e45-a2ce56a023f8": {
       "attrs": {
        "height": 0.8,
        "width": 0.8,
        "x": 0.1,
        "y": 0.1
       },
       "content": {
        "cell": "72694efd-4485-4f4a-af90-b89bb6f77d9f",
        "part": "whole"
       },
       "id": "1326479e-323d-432c-8e45-a2ce56a023f8"
      }
     }
    },
    "1882c98e-6583-4d62-88ca-d8e3c231449b": {
     "id": "1882c98e-6583-4d62-88ca-d8e3c231449b",
     "prev": "4871a20f-0976-40f9-af31-a7e22db61869",
     "regions": {
      "2294e95e-45d5-45eb-a9de-66ee18d7a0af": {
       "attrs": {
        "height": 0.8,
        "width": 0.8,
        "x": 0.1,
        "y": 0.1
       },
       "content": {
        "cell": "3a1f454f-e0dc-4d2f-bfb0-4fa1873b910a",
        "part": "whole"
       },
       "id": "2294e95e-45d5-45eb-a9de-66ee18d7a0af"
      }
     }
    },
    "1e49b2b7-7fec-4adc-b8f8-a803f4100271": {
     "id": "1e49b2b7-7fec-4adc-b8f8-a803f4100271",
     "prev": "c9a9c37f-3d5b-480e-a15a-af310174d249",
     "regions": {
      "01c1b76f-206c-4a09-9e4e-39ec9d0c33fb": {
       "attrs": {
        "height": 1,
        "width": 1,
        "x": 0,
        "y": 0
       },
       "id": "01c1b76f-206c-4a09-9e4e-39ec9d0c33fb"
      }
     }
    },
    "2d8ddda2-bd4e-4618-91fc-423a9d622c49": {
     "id": "2d8ddda2-bd4e-4618-91fc-423a9d622c49",
     "prev": "f4bb716c-4c8c-4dba-9ecc-4f2ed08b673b",
     "regions": {
      "af80b9c6-abcf-4aef-814a-66ffec925455": {
       "attrs": {
        "height": 0.8,
        "width": 0.8,
        "x": 0.1,
        "y": 0.1
       },
       "content": {
        "cell": "a4ddc858-6530-4973-baec-364e9f6fce08",
        "part": "whole"
       },
       "id": "af80b9c6-abcf-4aef-814a-66ffec925455"
      }
     }
    },
    "45051c91-5ee9-4455-b3d8-b238a30fe927": {
     "id": "45051c91-5ee9-4455-b3d8-b238a30fe927",
     "prev": "c0183364-e2b5-404e-826e-73ef7fb6b886",
     "regions": {
      "ad198e01-045d-428a-95b5-65d7611e9f4b": {
       "attrs": {
        "height": 0.8,
        "width": 0.8,
        "x": 0.1,
        "y": 0.1
       },
       "content": {
        "cell": "f0306fc7-6dcb-43ca-8f0c-24c8e6eba295",
        "part": "whole"
       },
       "id": "ad198e01-045d-428a-95b5-65d7611e9f4b"
      }
     }
    },
    "4683c080-d5c9-4e56-bdfe-97da64145bc2": {
     "id": "4683c080-d5c9-4e56-bdfe-97da64145bc2",
     "prev": "d7e3abfc-fc60-4880-9eab-97a321cdb618",
     "regions": {
      "c4b3e6ed-c162-403c-a323-cc0b39f04e27": {
       "attrs": {
        "height": 0.8,
        "width": 0.8,
        "x": 0.1,
        "y": 0.1
       },
       "content": {
        "cell": "7dcf0393-587c-4c84-9dbe-c3956c491817",
        "part": "whole"
       },
       "id": "c4b3e6ed-c162-403c-a323-cc0b39f04e27"
      }
     }
    },
    "4871a20f-0976-40f9-af31-a7e22db61869": {
     "id": "4871a20f-0976-40f9-af31-a7e22db61869",
     "prev": "b5de8f84-e763-4768-ae92-07331721cade",
     "regions": {
      "d39ffc12-a2fd-4bc0-83d2-55b77a99e009": {
       "attrs": {
        "height": 0.8,
        "width": 0.8,
        "x": 0.1,
        "y": 0.1
       },
       "content": {
        "cell": "85e35bbb-2b2d-4b54-9be0-609cca1dccad",
        "part": "whole"
       },
       "id": "d39ffc12-a2fd-4bc0-83d2-55b77a99e009"
      }
     }
    },
    "55360c2d-9bf6-46c3-9b77-880f1bd68df6": {
     "id": "55360c2d-9bf6-46c3-9b77-880f1bd68df6",
     "prev": "83a127d2-c24b-4645-89cb-b75a71468535",
     "regions": {
      "a11205b3-2fed-41bb-9f7e-9bf010477e5e": {
       "attrs": {
        "height": 0.8,
        "width": 0.8,
        "x": 0.1,
        "y": 0.1
       },
       "content": {
        "cell": "0d2a9f7e-4fb7-402a-96f5-8135ca545caa",
        "part": "whole"
       },
       "id": "a11205b3-2fed-41bb-9f7e-9bf010477e5e"
      }
     }
    },
    "55edaa56-547b-47b6-bf9f-936e9df1d1b6": {
     "id": "55edaa56-547b-47b6-bf9f-936e9df1d1b6",
     "prev": "880e038a-9698-4b25-bd2e-633ace5ab0bc",
     "regions": {
      "9f6b671d-419e-4542-b558-2dd2ab0bae01": {
       "attrs": {
        "height": 0.8,
        "width": 0.8,
        "x": 0.1,
        "y": 0.1
       },
       "content": {
        "cell": "f8b78507-8022-4845-95bc-8d9a783a7cd5",
        "part": "whole"
       },
       "id": "9f6b671d-419e-4542-b558-2dd2ab0bae01"
      }
     }
    },
    "58a27da8-344d-4960-a0aa-51cb4fb7658b": {
     "id": "58a27da8-344d-4960-a0aa-51cb4fb7658b",
     "prev": "afd993c4-f1fd-46d2-9f2c-6d0f584da06e",
     "regions": {
      "bca8058e-00eb-47e7-a435-1ac9ac6b441f": {
       "attrs": {
        "height": 0.8,
        "width": 0.8,
        "x": 0.1,
        "y": 0.1
       },
       "content": {
        "cell": "e01bf187-e6c3-4f2b-80ec-9706d8ebb6d1",
        "part": "whole"
       },
       "id": "bca8058e-00eb-47e7-a435-1ac9ac6b441f"
      }
     }
    },
    "5a7e2588-ce06-407f-8dbf-5d56b4c62d62": {
     "id": "5a7e2588-ce06-407f-8dbf-5d56b4c62d62",
     "prev": "b651ae8f-d800-46ba-8fcb-1c50c1892b19",
     "regions": {
      "cd064122-51fb-443c-8f81-a7f1d71d8d47": {
       "attrs": {
        "height": 0.8,
        "width": 0.8,
        "x": 0.1,
        "y": 0.1
       },
       "content": {
        "cell": "50df7c20-d03d-4369-88b1-c82182e2881b",
        "part": "whole"
       },
       "id": "cd064122-51fb-443c-8f81-a7f1d71d8d47"
      }
     }
    },
    "5f424b95-25c6-43aa-b22d-52a55a074bee": {
     "id": "5f424b95-25c6-43aa-b22d-52a55a074bee",
     "prev": "f3bbdb54-2f82-4572-9cde-71d96347ff0e",
     "regions": {
      "9bd6dd9f-667b-495a-b642-39fb3510c4b1": {
       "attrs": {
        "height": 0.8,
        "width": 0.8,
        "x": 0.1,
        "y": 0.1
       },
       "content": {
        "cell": "34251480-6220-40b6-a067-08a1f9aafc5b",
        "part": "whole"
       },
       "id": "9bd6dd9f-667b-495a-b642-39fb3510c4b1"
      }
     }
    },
    "63fc4e2f-53d3-428c-aca8-b4925100f748": {
     "id": "63fc4e2f-53d3-428c-aca8-b4925100f748",
     "prev": "80965843-bb70-48ad-88d3-ed625b9df06d",
     "regions": {
      "c76af4cc-91fd-4dea-9004-4b54281d7ef2": {
       "attrs": {
        "height": 0.8,
        "width": 0.8,
        "x": 0.1,
        "y": 0.1
       },
       "content": {
        "cell": "d1cd05b4-d881-48e4-90fb-e5b8b860809b",
        "part": "whole"
       },
       "id": "c76af4cc-91fd-4dea-9004-4b54281d7ef2"
      }
     }
    },
    "66073471-8d2d-46ca-a330-364936f0f9e2": {
     "id": "66073471-8d2d-46ca-a330-364936f0f9e2",
     "prev": "1882c98e-6583-4d62-88ca-d8e3c231449b",
     "regions": {
      "4abda8a0-a6b0-4248-a735-dd0222356082": {
       "attrs": {
        "height": 0.8,
        "width": 0.8,
        "x": 0.1,
        "y": 0.1
       },
       "content": {
        "cell": "52aca7e0-0567-4d4e-9e5c-f363a0958704",
        "part": "whole"
       },
       "id": "4abda8a0-a6b0-4248-a735-dd0222356082"
      }
     }
    },
    "664d3baa-12cf-42e4-945e-bd9b36749825": {
     "id": "664d3baa-12cf-42e4-945e-bd9b36749825",
     "prev": "91a89ccf-abb3-4d10-b692-f0e2226a23e6",
     "regions": {
      "fe838ebf-712d-4302-95d0-bb08c5b4f14c": {
       "attrs": {
        "height": 0.8,
        "width": 0.8,
        "x": 0.1,
        "y": 0.1
       },
       "content": {
        "cell": "49614599-6a86-46b5-896e-13c9ec5cf804",
        "part": "whole"
       },
       "id": "fe838ebf-712d-4302-95d0-bb08c5b4f14c"
      }
     }
    },
    "68e6db9d-3646-4bf7-ab60-dbb27e8dce17": {
     "id": "68e6db9d-3646-4bf7-ab60-dbb27e8dce17",
     "prev": "85dbde62-3335-40aa-8ef8-0aeebf591f49",
     "regions": {
      "6132cee5-2e87-42b2-93bd-454fbef062b5": {
       "attrs": {
        "height": 0.8,
        "width": 0.8,
        "x": 0.1,
        "y": 0.1
       },
       "content": {
        "cell": "1815e471-a6f8-4bdd-95ef-edeaa2d5a2b9",
        "part": "whole"
       },
       "id": "6132cee5-2e87-42b2-93bd-454fbef062b5"
      }
     }
    },
    "79967d70-a922-4890-8c3b-f681a8caea08": {
     "id": "79967d70-a922-4890-8c3b-f681a8caea08",
     "prev": "8fea6ffa-2663-4745-a690-f0d23cbf3e97",
     "regions": {
      "4b0dfe50-8aff-4519-8763-df5935de9546": {
       "attrs": {
        "height": 0.8,
        "width": 0.8,
        "x": 0.1,
        "y": 0.1
       },
       "content": {
        "cell": "2f154cd0-30ea-476f-81cc-3dc70f4a4232",
        "part": "whole"
       },
       "id": "4b0dfe50-8aff-4519-8763-df5935de9546"
      }
     }
    },
    "7fb7bd24-d481-485f-99a6-3dff9a7cee9c": {
     "id": "7fb7bd24-d481-485f-99a6-3dff9a7cee9c",
     "prev": "63fc4e2f-53d3-428c-aca8-b4925100f748",
     "regions": {
      "60f07adc-e27c-4cd2-8f60-a41edb9f2d64": {
       "attrs": {
        "height": 0.8,
        "width": 0.8,
        "x": 0.1,
        "y": 0.1
       },
       "content": {
        "cell": "e0ef4845-efc3-47af-b9a5-6a7b3fae4c2a",
        "part": "whole"
       },
       "id": "60f07adc-e27c-4cd2-8f60-a41edb9f2d64"
      }
     }
    },
    "80965843-bb70-48ad-88d3-ed625b9df06d": {
     "id": "80965843-bb70-48ad-88d3-ed625b9df06d",
     "prev": "66073471-8d2d-46ca-a330-364936f0f9e2",
     "regions": {
      "057206d6-5ae4-4320-9bd8-6db8dbd7be6d": {
       "attrs": {
        "height": 0.8,
        "width": 0.8,
        "x": 0.1,
        "y": 0.1
       },
       "content": {
        "cell": "fc9867e9-9d01-46a2-9b3f-9ef79054fc89",
        "part": "whole"
       },
       "id": "057206d6-5ae4-4320-9bd8-6db8dbd7be6d"
      }
     }
    },
    "83a127d2-c24b-4645-89cb-b75a71468535": {
     "id": "83a127d2-c24b-4645-89cb-b75a71468535",
     "prev": "f5b22788-8c44-4526-8e01-7647423f0af6",
     "regions": {
      "2e439410-9063-4bee-8d33-502a2b00cbd2": {
       "attrs": {
        "height": 0.8,
        "width": 0.8,
        "x": 0.1,
        "y": 0.1
       },
       "content": {
        "cell": "0a9ba483-b242-4453-8816-bb68f80759c8",
        "part": "whole"
       },
       "id": "2e439410-9063-4bee-8d33-502a2b00cbd2"
      }
     }
    },
    "85dbde62-3335-40aa-8ef8-0aeebf591f49": {
     "id": "85dbde62-3335-40aa-8ef8-0aeebf591f49",
     "prev": "9ca00dd5-e9d1-4aba-a6d3-4a2a0ed32ee9",
     "regions": {
      "6cfee22d-a426-4d72-bec2-fbb74a3c38dd": {
       "attrs": {
        "height": 0.8,
        "width": 0.8,
        "x": 0.1,
        "y": 0.1
       },
       "content": {
        "cell": "ae8bed4b-0d16-48e8-8609-1d5e9794a6fe",
        "part": "whole"
       },
       "id": "6cfee22d-a426-4d72-bec2-fbb74a3c38dd"
      }
     }
    },
    "862d03eb-f9b9-4e35-b3fc-a27ff83b129a": {
     "id": "862d03eb-f9b9-4e35-b3fc-a27ff83b129a",
     "prev": "cfe38b7c-98ff-4c94-83c9-9974a3c91674",
     "regions": {
      "7f21a003-8e4e-436f-9a02-d62637ab13de": {
       "attrs": {
        "height": 0.8,
        "width": 0.8,
        "x": 0.1,
        "y": 0.1
       },
       "content": {
        "cell": "526edafc-4ae7-434b-a958-7419d10396f9",
        "part": "whole"
       },
       "id": "7f21a003-8e4e-436f-9a02-d62637ab13de"
      }
     }
    },
    "873dd518-e2cf-4136-8152-75031203b1cc": {
     "id": "873dd518-e2cf-4136-8152-75031203b1cc",
     "prev": "ce27309e-9b61-41d9-8008-ce48292bc60c",
     "regions": {
      "1045dc7c-78a3-4436-abc1-70ccf1cc66da": {
       "attrs": {
        "height": 0.8,
        "width": 0.8,
        "x": 0.1,
        "y": 0.1
       },
       "content": {
        "cell": "fd277f93-2a2c-4a5b-838a-01872ecad88d",
        "part": "whole"
       },
       "id": "1045dc7c-78a3-4436-abc1-70ccf1cc66da"
      }
     }
    },
    "880e038a-9698-4b25-bd2e-633ace5ab0bc": {
     "id": "880e038a-9698-4b25-bd2e-633ace5ab0bc",
     "prev": "d21539bb-8504-431e-a7ab-77cadb43d3d0",
     "regions": {
      "d3eb382c-eb46-4b84-8caa-d96ba686b3c4": {
       "attrs": {
        "height": 0.8,
        "width": 0.8,
        "x": 0.1,
        "y": 0.1
       },
       "content": {
        "cell": "8ca89dc1-6017-4b03-b5af-c0d9db10a81e",
        "part": "whole"
       },
       "id": "d3eb382c-eb46-4b84-8caa-d96ba686b3c4"
      }
     }
    },
    "883a4062-0824-4f19-9b48-ae94cc0368cd": {
     "id": "883a4062-0824-4f19-9b48-ae94cc0368cd",
     "prev": "91ca5681-bc13-4429-9b59-9e3828d51a3b",
     "regions": {
      "483100bf-750d-467a-8399-4660fb34759f": {
       "attrs": {
        "height": 0.8,
        "width": 0.8,
        "x": 0.1,
        "y": 0.1
       },
       "content": {
        "cell": "cb374af8-3483-41f1-9006-3db72d6e84e3",
        "part": "whole"
       },
       "id": "483100bf-750d-467a-8399-4660fb34759f"
      }
     }
    },
    "8fea6ffa-2663-4745-a690-f0d23cbf3e97": {
     "id": "8fea6ffa-2663-4745-a690-f0d23cbf3e97",
     "prev": "4683c080-d5c9-4e56-bdfe-97da64145bc2",
     "regions": {
      "c4838f5a-002c-4425-b9d0-8f208e2cf21c": {
       "attrs": {
        "height": 0.8,
        "width": 0.8,
        "x": 0.1,
        "y": 0.1
       },
       "content": {
        "cell": "a089f7d1-a1e6-4c68-8db2-b9926b417495",
        "part": "whole"
       },
       "id": "c4838f5a-002c-4425-b9d0-8f208e2cf21c"
      }
     }
    },
    "91a89ccf-abb3-4d10-b692-f0e2226a23e6": {
     "id": "91a89ccf-abb3-4d10-b692-f0e2226a23e6",
     "prev": "9e9820cb-fe2f-4b69-97ab-5014e608ad7e",
     "regions": {
      "db24dfe8-e1c3-4226-8697-021efc8a29ff": {
       "attrs": {
        "height": 0.8,
        "width": 0.8,
        "x": 0.1,
        "y": 0.1
       },
       "content": {
        "cell": "241aa92b-cd0a-49d5-976f-784dae1770c1",
        "part": "whole"
       },
       "id": "db24dfe8-e1c3-4226-8697-021efc8a29ff"
      }
     }
    },
    "91ca5681-bc13-4429-9b59-9e3828d51a3b": {
     "id": "91ca5681-bc13-4429-9b59-9e3828d51a3b",
     "prev": "664d3baa-12cf-42e4-945e-bd9b36749825",
     "regions": {
      "915922b2-92ed-4bdb-868d-c54890ddf1b5": {
       "attrs": {
        "height": 0.8,
        "width": 0.8,
        "x": 0.1,
        "y": 0.1
       },
       "content": {
        "cell": "bc9365c4-af8b-4fa1-887e-b6e06f38b536",
        "part": "whole"
       },
       "id": "915922b2-92ed-4bdb-868d-c54890ddf1b5"
      }
     }
    },
    "9ca00dd5-e9d1-4aba-a6d3-4a2a0ed32ee9": {
     "id": "9ca00dd5-e9d1-4aba-a6d3-4a2a0ed32ee9",
     "prev": "45051c91-5ee9-4455-b3d8-b238a30fe927",
     "regions": {
      "b5582d53-2e23-4225-ae7c-85db4e88c626": {
       "attrs": {
        "height": 0.8,
        "width": 0.8,
        "x": 0.1,
        "y": 0.1
       },
       "content": {
        "cell": "0e306788-4eff-477c-aa1b-93b90899301b",
        "part": "whole"
       },
       "id": "b5582d53-2e23-4225-ae7c-85db4e88c626"
      }
     }
    },
    "9e9820cb-fe2f-4b69-97ab-5014e608ad7e": {
     "id": "9e9820cb-fe2f-4b69-97ab-5014e608ad7e",
     "prev": "efedcb13-bc8b-4b04-870c-7b9c637f43c7",
     "regions": {
      "5c00da27-69eb-4586-8590-ba369d22c95c": {
       "attrs": {
        "height": 0.8,
        "width": 0.8,
        "x": 0.1,
        "y": 0.1
       },
       "content": {
        "cell": "c6a28d42-6b4f-42c8-9b0d-08ff4f94f6ff",
        "part": "whole"
       },
       "id": "5c00da27-69eb-4586-8590-ba369d22c95c"
      }
     }
    },
    "ad772080-20f0-43e6-8b0b-782579fb15ae": {
     "id": "ad772080-20f0-43e6-8b0b-782579fb15ae",
     "prev": "03dce833-6315-46a1-9831-2f9d61ae8707",
     "regions": {
      "bdc87f51-c3c7-427f-afdf-53ee1909728b": {
       "attrs": {
        "height": 0.8,
        "width": 0.8,
        "x": 0.1,
        "y": 0.1
       },
       "content": {
        "cell": "05d0c8ce-4701-48ee-9358-05f1c1e4913d",
        "part": "whole"
       },
       "id": "bdc87f51-c3c7-427f-afdf-53ee1909728b"
      }
     }
    },
    "afd993c4-f1fd-46d2-9f2c-6d0f584da06e": {
     "id": "afd993c4-f1fd-46d2-9f2c-6d0f584da06e",
     "prev": "5f424b95-25c6-43aa-b22d-52a55a074bee",
     "regions": {
      "212266cd-a8d8-4d79-802f-7c836c9e83ec": {
       "attrs": {
        "height": 0.8,
        "width": 0.8,
        "x": 0.1,
        "y": 0.1
       },
       "content": {
        "cell": "fab60a6a-a74d-4766-920a-a63a2b0756cb",
        "part": "whole"
       },
       "id": "212266cd-a8d8-4d79-802f-7c836c9e83ec"
      }
     }
    },
    "b155e01d-b94d-4921-9675-48dceae93182": {
     "id": "b155e01d-b94d-4921-9675-48dceae93182",
     "prev": "58a27da8-344d-4960-a0aa-51cb4fb7658b",
     "regions": {
      "96c949b7-5f8d-4f5f-be3e-7664f4e3ad51": {
       "attrs": {
        "height": 0.8,
        "width": 0.8,
        "x": 0.1,
        "y": 0.1
       },
       "content": {
        "cell": "f03d0248-a235-4e18-bddc-13b8046fa5c8",
        "part": "whole"
       },
       "id": "96c949b7-5f8d-4f5f-be3e-7664f4e3ad51"
      }
     }
    },
    "b5de8f84-e763-4768-ae92-07331721cade": {
     "id": "b5de8f84-e763-4768-ae92-07331721cade",
     "prev": "55edaa56-547b-47b6-bf9f-936e9df1d1b6",
     "regions": {
      "174b6d1d-2ba3-4f50-9d92-e9abfde42022": {
       "attrs": {
        "height": 0.8,
        "width": 0.8,
        "x": 0.1,
        "y": 0.1
       },
       "content": {
        "cell": "d32bfa92-9dae-4142-86b8-781947efecd4",
        "part": "whole"
       },
       "id": "174b6d1d-2ba3-4f50-9d92-e9abfde42022"
      }
     }
    },
    "b651ae8f-d800-46ba-8fcb-1c50c1892b19": {
     "id": "b651ae8f-d800-46ba-8fcb-1c50c1892b19",
     "prev": "862d03eb-f9b9-4e35-b3fc-a27ff83b129a",
     "regions": {
      "7eae1775-a8fc-452f-84b3-5c93ab49e3a6": {
       "attrs": {
        "height": 0.8,
        "width": 0.8,
        "x": 0.1,
        "y": 0.1
       },
       "content": {
        "cell": "2d5d8809-6f76-444b-9ebf-1338ba6738b3",
        "part": "whole"
       },
       "id": "7eae1775-a8fc-452f-84b3-5c93ab49e3a6"
      }
     }
    },
    "c0183364-e2b5-404e-826e-73ef7fb6b886": {
     "id": "c0183364-e2b5-404e-826e-73ef7fb6b886",
     "prev": "ad772080-20f0-43e6-8b0b-782579fb15ae",
     "regions": {
      "64f6487a-65ff-4b59-a39f-78befabc2109": {
       "attrs": {
        "height": 0.8,
        "width": 0.8,
        "x": 0.1,
        "y": 0.1
       },
       "content": {
        "cell": "1dba8750-2790-4248-9178-5851db2c50e7",
        "part": "whole"
       },
       "id": "64f6487a-65ff-4b59-a39f-78befabc2109"
      }
     }
    },
    "c43f2c8f-0d8c-4e73-b634-eb969dbd37af": {
     "id": "c43f2c8f-0d8c-4e73-b634-eb969dbd37af",
     "prev": "dc4e6e8d-444e-4b53-842e-848004d17502",
     "regions": {
      "b24cc5d9-c0a9-4840-9161-54d35bee1fe8": {
       "attrs": {
        "height": 0.8,
        "width": 0.8,
        "x": 0.1,
        "y": 0.1
       },
       "content": {
        "cell": "11c3e925-ceef-4019-969a-aacb9da1f9a8",
        "part": "whole"
       },
       "id": "b24cc5d9-c0a9-4840-9161-54d35bee1fe8"
      }
     }
    },
    "c7373ca9-7caa-4a03-b454-cd0bec55d8e6": {
     "id": "c7373ca9-7caa-4a03-b454-cd0bec55d8e6",
     "prev": "873dd518-e2cf-4136-8152-75031203b1cc",
     "regions": {
      "ed093337-933a-4ad4-9997-4e13e6f518ac": {
       "attrs": {
        "height": 0.8,
        "width": 0.8,
        "x": 0.1,
        "y": 0.1
       },
       "content": {
        "cell": "062132a7-c9fc-463b-9800-37ff4c5a58eb",
        "part": "whole"
       },
       "id": "ed093337-933a-4ad4-9997-4e13e6f518ac"
      }
     }
    },
    "c9a9c37f-3d5b-480e-a15a-af310174d249": {
     "id": "c9a9c37f-3d5b-480e-a15a-af310174d249",
     "prev": null,
     "regions": {
      "36024063-d82b-4499-8ece-0a6d0a1950d6": {
       "attrs": {
        "height": 0.8,
        "width": 0.8,
        "x": 0.1,
        "y": 0.1
       },
       "content": {
        "cell": "fd9184b4-be86-4fb1-8376-b11824d47e06",
        "part": "whole"
       },
       "id": "36024063-d82b-4499-8ece-0a6d0a1950d6"
      }
     }
    },
    "ce27309e-9b61-41d9-8008-ce48292bc60c": {
     "id": "ce27309e-9b61-41d9-8008-ce48292bc60c",
     "prev": "79967d70-a922-4890-8c3b-f681a8caea08",
     "regions": {
      "88557b7e-2b6a-4695-a164-c0907403dd16": {
       "attrs": {
        "height": 0.8,
        "width": 0.8,
        "x": 0.1,
        "y": 0.1
       },
       "content": {
        "cell": "9cbcefc2-a5f0-4310-b57d-5fda361137d0",
        "part": "whole"
       },
       "id": "88557b7e-2b6a-4695-a164-c0907403dd16"
      }
     }
    },
    "cfe38b7c-98ff-4c94-83c9-9974a3c91674": {
     "id": "cfe38b7c-98ff-4c94-83c9-9974a3c91674",
     "prev": "15a1ffd7-c199-49d7-8b27-ce701f702fc9",
     "regions": {
      "00be0a3e-35bc-4d5a-baff-d5f7d0fff0c8": {
       "attrs": {
        "height": 0.8,
        "width": 0.8,
        "x": 0.1,
        "y": 0.1
       },
       "content": {
        "cell": "5600c742-214c-459e-ba9f-9785d2b5c946",
        "part": "whole"
       },
       "id": "00be0a3e-35bc-4d5a-baff-d5f7d0fff0c8"
      }
     }
    },
    "d21539bb-8504-431e-a7ab-77cadb43d3d0": {
     "id": "d21539bb-8504-431e-a7ab-77cadb43d3d0",
     "prev": "883a4062-0824-4f19-9b48-ae94cc0368cd",
     "regions": {
      "e19598f7-fdac-49b1-ba0d-48604553354c": {
       "attrs": {
        "height": 0.8,
        "width": 0.8,
        "x": 0.1,
        "y": 0.1
       },
       "content": {
        "cell": "b1736cc4-e077-469e-bcc9-20c27dfffcd8",
        "part": "whole"
       },
       "id": "e19598f7-fdac-49b1-ba0d-48604553354c"
      }
     }
    },
    "d7e3abfc-fc60-4880-9eab-97a321cdb618": {
     "id": "d7e3abfc-fc60-4880-9eab-97a321cdb618",
     "prev": "1e49b2b7-7fec-4adc-b8f8-a803f4100271",
     "regions": {
      "b120dd03-7469-4a69-904e-b37963726928": {
       "attrs": {
        "height": 1,
        "width": 1,
        "x": 0,
        "y": 0
       },
       "id": "b120dd03-7469-4a69-904e-b37963726928"
      }
     }
    },
    "dc4e6e8d-444e-4b53-842e-848004d17502": {
     "id": "dc4e6e8d-444e-4b53-842e-848004d17502",
     "prev": "55360c2d-9bf6-46c3-9b77-880f1bd68df6",
     "regions": {
      "22ef9582-4a1c-4fd6-a5d3-9eeb5fc73945": {
       "attrs": {
        "height": 0.8,
        "width": 0.8,
        "x": 0.1,
        "y": 0.1
       },
       "content": {
        "cell": "55f78c04-99dc-4543-b6b1-a4c6d059a046",
        "part": "whole"
       },
       "id": "22ef9582-4a1c-4fd6-a5d3-9eeb5fc73945"
      }
     }
    },
    "dded9cb3-40b4-439f-84d8-503b5a4d55ee": {
     "id": "dded9cb3-40b4-439f-84d8-503b5a4d55ee",
     "prev": "037955a1-7326-4638-a273-c12b3aac6f88",
     "regions": {
      "06f83489-d5dd-4a0d-aa29-8c99d4b4428c": {
       "attrs": {
        "height": 0.8,
        "width": 0.8,
        "x": 0.1,
        "y": 0.1
       },
       "content": {
        "cell": "8d23ef4d-b110-41a0-8623-80903fc9af4d",
        "part": "whole"
       },
       "id": "06f83489-d5dd-4a0d-aa29-8c99d4b4428c"
      }
     }
    },
    "ef3370b0-ef17-40f0-a14c-97f5a712f6c7": {
     "id": "ef3370b0-ef17-40f0-a14c-97f5a712f6c7",
     "prev": "b155e01d-b94d-4921-9675-48dceae93182",
     "regions": {
      "c8601f30-8d90-4ea5-9ace-693d128485eb": {
       "attrs": {
        "height": 0.8,
        "width": 0.8,
        "x": 0.1,
        "y": 0.1
       },
       "content": {
        "cell": "1fa90ca1-fcf4-40fb-bc37-7aa884a81027",
        "part": "whole"
       },
       "id": "c8601f30-8d90-4ea5-9ace-693d128485eb"
      }
     }
    },
    "efedcb13-bc8b-4b04-870c-7b9c637f43c7": {
     "id": "efedcb13-bc8b-4b04-870c-7b9c637f43c7",
     "prev": "dded9cb3-40b4-439f-84d8-503b5a4d55ee",
     "regions": {
      "3b8efd62-2171-41df-a38b-f71405b15762": {
       "attrs": {
        "height": 0.8,
        "width": 0.8,
        "x": 0.1,
        "y": 0.1
       },
       "content": {
        "cell": "f880dee1-cabb-4646-b8f8-e6b24efb3e09",
        "part": "whole"
       },
       "id": "3b8efd62-2171-41df-a38b-f71405b15762"
      }
     }
    },
    "f3bbdb54-2f82-4572-9cde-71d96347ff0e": {
     "id": "f3bbdb54-2f82-4572-9cde-71d96347ff0e",
     "prev": "c43f2c8f-0d8c-4e73-b634-eb969dbd37af",
     "regions": {
      "b9e8988b-7077-49fd-9f0b-26ac0c2cda79": {
       "attrs": {
        "height": 0.8,
        "width": 0.8,
        "x": 0.1,
        "y": 0.1
       },
       "content": {
        "cell": "5b6032b0-5f62-4cab-bdb7-3e53d38d053a",
        "part": "whole"
       },
       "id": "b9e8988b-7077-49fd-9f0b-26ac0c2cda79"
      }
     }
    },
    "f4bb716c-4c8c-4dba-9ecc-4f2ed08b673b": {
     "id": "f4bb716c-4c8c-4dba-9ecc-4f2ed08b673b",
     "prev": "68e6db9d-3646-4bf7-ab60-dbb27e8dce17",
     "regions": {
      "22660405-9b82-4f63-8eca-77c0bb4f3b0f": {
       "attrs": {
        "height": 0.8,
        "width": 0.8,
        "x": 0.1,
        "y": 0.1
       },
       "content": {
        "cell": "e0b4a57f-0c59-48d3-ac92-b5d1f5bbd174",
        "part": "whole"
       },
       "id": "22660405-9b82-4f63-8eca-77c0bb4f3b0f"
      }
     }
    },
    "f5b22788-8c44-4526-8e01-7647423f0af6": {
     "id": "f5b22788-8c44-4526-8e01-7647423f0af6",
     "prev": "7fb7bd24-d481-485f-99a6-3dff9a7cee9c",
     "regions": {
      "b29ce655-f872-4f99-9d95-4f18d063cad3": {
       "attrs": {
        "height": 0.8,
        "width": 0.8,
        "x": 0.1,
        "y": 0.1
       },
       "content": {
        "cell": "64f0c9a3-7862-49af-b7f9-cb9fd1d7d74f",
        "part": "whole"
       },
       "id": "b29ce655-f872-4f99-9d95-4f18d063cad3"
      }
     }
    }
   },
   "themes": {}
  }
 },
 "nbformat": 4,
 "nbformat_minor": 1
}
